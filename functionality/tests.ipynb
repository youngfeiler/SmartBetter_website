{
 "cells": [
  {
   "cell_type": "code",
   "execution_count": 1,
   "metadata": {},
   "outputs": [],
   "source": [
    "import pandas as pd\n",
    "df = pd.read_parquet('/Users/stefanfeiler/Desktop/SmartBetter_site/website/mlb_data/2023_data_for_val.parquet')"
   ]
  },
  {
   "cell_type": "code",
   "execution_count": 6,
   "metadata": {},
   "outputs": [
    {
     "data": {
      "text/html": [
       "<div>\n",
       "<style scoped>\n",
       "    .dataframe tbody tr th:only-of-type {\n",
       "        vertical-align: middle;\n",
       "    }\n",
       "\n",
       "    .dataframe tbody tr th {\n",
       "        vertical-align: top;\n",
       "    }\n",
       "\n",
       "    .dataframe thead th {\n",
       "        text-align: right;\n",
       "    }\n",
       "</style>\n",
       "<table border=\"1\" class=\"dataframe\">\n",
       "  <thead>\n",
       "    <tr style=\"text-align: right;\">\n",
       "      <th></th>\n",
       "      <th>team_1</th>\n",
       "      <th>team_2</th>\n",
       "      <th>game_id</th>\n",
       "      <th>commence_time</th>\n",
       "      <th>time_pulled</th>\n",
       "      <th>home_team</th>\n",
       "      <th>away_team</th>\n",
       "      <th>barstool_1_odds</th>\n",
       "      <th>barstool_1_time</th>\n",
       "      <th>barstool_2_odds</th>\n",
       "      <th>...</th>\n",
       "      <th>my_game_id_final</th>\n",
       "      <th>number_of_game_today</th>\n",
       "      <th>day_of_week</th>\n",
       "      <th>away_team_league</th>\n",
       "      <th>away_team_game_number</th>\n",
       "      <th>home_team_league</th>\n",
       "      <th>home_team_game_number</th>\n",
       "      <th>day_night</th>\n",
       "      <th>park_id</th>\n",
       "      <th>winning_team</th>\n",
       "    </tr>\n",
       "  </thead>\n",
       "  <tbody>\n",
       "    <tr>\n",
       "      <th>282371</th>\n",
       "      <td>Tampa Bay Rays</td>\n",
       "      <td>Texas Rangers</td>\n",
       "      <td>885c435a882bb2570a2b197844bf15bc</td>\n",
       "      <td>2023-07-17 17:05:00</td>\n",
       "      <td>2023-07-16 10:55:00</td>\n",
       "      <td>Texas Rangers</td>\n",
       "      <td>Tampa Bay Rays</td>\n",
       "      <td>1.87</td>\n",
       "      <td>2023-07-16 10:55:00</td>\n",
       "      <td>1.95</td>\n",
       "      <td>...</td>\n",
       "      <td>Tampa Bay RaysTexas Rangers20230717_0</td>\n",
       "      <td>0</td>\n",
       "      <td>Mon</td>\n",
       "      <td>AL</td>\n",
       "      <td>97.0</td>\n",
       "      <td>AL</td>\n",
       "      <td>95.0</td>\n",
       "      <td>N</td>\n",
       "      <td>ARL03</td>\n",
       "      <td>Texas Rangers</td>\n",
       "    </tr>\n",
       "  </tbody>\n",
       "</table>\n",
       "<p>1 rows × 175 columns</p>\n",
       "</div>"
      ],
      "text/plain": [
       "                team_1         team_2                           game_id  \\\n",
       "282371  Tampa Bay Rays  Texas Rangers  885c435a882bb2570a2b197844bf15bc   \n",
       "\n",
       "             commence_time         time_pulled      home_team       away_team  \\\n",
       "282371 2023-07-17 17:05:00 2023-07-16 10:55:00  Texas Rangers  Tampa Bay Rays   \n",
       "\n",
       "        barstool_1_odds     barstool_1_time  barstool_2_odds  ...  \\\n",
       "282371             1.87 2023-07-16 10:55:00             1.95  ...   \n",
       "\n",
       "                             my_game_id_final  number_of_game_today  \\\n",
       "282371  Tampa Bay RaysTexas Rangers20230717_0                     0   \n",
       "\n",
       "       day_of_week  away_team_league away_team_game_number  home_team_league  \\\n",
       "282371         Mon                AL                  97.0                AL   \n",
       "\n",
       "       home_team_game_number  day_night park_id   winning_team  \n",
       "282371                  95.0          N   ARL03  Texas Rangers  \n",
       "\n",
       "[1 rows x 175 columns]"
      ]
     },
     "execution_count": 6,
     "metadata": {},
     "output_type": "execute_result"
    }
   ],
   "source": [
    "df.tail(1)"
   ]
  },
  {
   "cell_type": "code",
   "execution_count": null,
   "metadata": {},
   "outputs": [],
   "source": []
  }
 ],
 "metadata": {
  "kernelspec": {
   "display_name": "py4ml",
   "language": "python",
   "name": "python3"
  },
  "language_info": {
   "codemirror_mode": {
    "name": "ipython",
    "version": 3
   },
   "file_extension": ".py",
   "mimetype": "text/x-python",
   "name": "python",
   "nbconvert_exporter": "python",
   "pygments_lexer": "ipython3",
   "version": "3.10.12"
  },
  "orig_nbformat": 4
 },
 "nbformat": 4,
 "nbformat_minor": 2
}
