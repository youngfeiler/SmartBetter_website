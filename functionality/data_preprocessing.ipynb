{
 "cells": [
  {
   "cell_type": "code",
   "execution_count": 1,
   "metadata": {},
   "outputs": [],
   "source": [
    "import pandas as pd\n",
    "import pyarrow as pa\n",
    "import pyarrow.parquet as pq\n",
    "from datetime import datetime\n",
    "import numpy as np"
   ]
  },
  {
   "attachments": {},
   "cell_type": "markdown",
   "metadata": {},
   "source": [
    "# Make team names uniform between sheets"
   ]
  },
  {
   "cell_type": "code",
   "execution_count": 2,
   "metadata": {},
   "outputs": [],
   "source": [
    "names_file ='/Users/stefanfeiler/Desktop/for_micah/names.csv'"
   ]
  },
  {
   "cell_type": "code",
   "execution_count": 3,
   "metadata": {},
   "outputs": [],
   "source": [
    "df = pd.read_csv(names_file)"
   ]
  },
  {
   "cell_type": "code",
   "execution_count": 4,
   "metadata": {},
   "outputs": [],
   "source": [
    "mapping_dict = {key: value for key, value in zip(df['abbrev'], df['full_name'])}"
   ]
  },
  {
   "cell_type": "code",
   "execution_count": 5,
   "metadata": {},
   "outputs": [],
   "source": [
    "extra_data_file = '/Users/stefanfeiler/Desktop/for_micah/2023_mlb_extra.csv'"
   ]
  },
  {
   "cell_type": "code",
   "execution_count": 6,
   "metadata": {},
   "outputs": [],
   "source": [
    "extra_df = pd.read_csv(extra_data_file)"
   ]
  },
  {
   "cell_type": "code",
   "execution_count": 7,
   "metadata": {},
   "outputs": [],
   "source": [
    "extra_df = extra_df.replace(mapping_dict)"
   ]
  },
  {
   "cell_type": "code",
   "execution_count": 8,
   "metadata": {},
   "outputs": [],
   "source": [
    "extra_data_file_new = '/Users/stefanfeiler/Desktop/for_micah/mlb_extra_stats_uniform_names.csv'"
   ]
  },
  {
   "cell_type": "code",
   "execution_count": 9,
   "metadata": {},
   "outputs": [],
   "source": [
    "extra_df.to_csv(extra_data_file_new)"
   ]
  },
  {
   "attachments": {},
   "cell_type": "markdown",
   "metadata": {},
   "source": [
    "# Step 2: Convert all times to MST"
   ]
  },
  {
   "cell_type": "code",
   "execution_count": 10,
   "metadata": {},
   "outputs": [
    {
     "name": "stderr",
     "output_type": "stream",
     "text": [
      "/var/folders/45/vvds_7n55h151_y61fjd1fmc0000gn/T/ipykernel_31287/2425686787.py:1: DtypeWarning: Columns (158,160) have mixed types. Specify dtype option on import or set low_memory=False.\n",
      "  raw_part_1 = pd.read_csv('/Users/stefanfeiler/Desktop/data/mlb_raw_2023_07_PART1.csv')\n",
      "/var/folders/45/vvds_7n55h151_y61fjd1fmc0000gn/T/ipykernel_31287/2425686787.py:2: DtypeWarning: Columns (158,160) have mixed types. Specify dtype option on import or set low_memory=False.\n",
      "  raw_part_2 = pd.read_csv('/Users/stefanfeiler/Desktop/data/mlb_raw_2023_07_PART2.csv')\n"
     ]
    }
   ],
   "source": [
    "raw_part_1 = pd.read_csv('/Users/stefanfeiler/Desktop/data/mlb_raw_2023_07_PART1.csv')\n",
    "raw_part_2 = pd.read_csv('/Users/stefanfeiler/Desktop/data/mlb_raw_2023_07_PART2.csv')\n",
    "raw = pd.concat([raw_part_1, raw_part_2])"
   ]
  },
  {
   "cell_type": "code",
   "execution_count": 11,
   "metadata": {},
   "outputs": [],
   "source": [
    "raw.head(10).to_csv('/Users/stefanfeiler/Desktop/data/mlb_raw_2023_07_columns.csv')"
   ]
  },
  {
   "cell_type": "code",
   "execution_count": 12,
   "metadata": {},
   "outputs": [
    {
     "name": "stdout",
     "output_type": "stream",
     "text": [
      "Elements unique to list1: []\n",
      "Elements unique to list2: []\n"
     ]
    }
   ],
   "source": [
    "def find_different_elements(list1, list2):\n",
    "    # Convert lists to sets\n",
    "    set1 = set(list1)\n",
    "    set2 = set(list2)\n",
    "\n",
    "    # Find elements that are in set1 but not in set2\n",
    "    unique_to_set1 = set1 - set2\n",
    "\n",
    "    # Find elements that are in set2 but not in set1\n",
    "    unique_to_set2 = set2 - set1\n",
    "\n",
    "    return list(unique_to_set1), list(unique_to_set2)\n",
    "\n",
    "# Example lists\n",
    "list1 = [1, 2, 3, 4, 5]\n",
    "list2 = [3, 4, 5, 6, 7]\n",
    "\n",
    "# Find different elements\n",
    "diff_list1, diff_list2 = find_different_elements(raw_part_2.columns, raw_part_1.columns)\n",
    "\n",
    "print(\"Elements unique to list1:\", diff_list1)\n",
    "print(\"Elements unique to list2:\", diff_list2)"
   ]
  },
  {
   "cell_type": "code",
   "execution_count": 13,
   "metadata": {},
   "outputs": [
    {
     "data": {
      "text/plain": [
       "game_id                  7f989faf14324e706845194a889bf62d\n",
       "commence_time                               7/19/23 16:35\n",
       "time_pulled                                 7/19/23 15:55\n",
       "home_team                             Cleveland Guardians\n",
       "away_team                              Pittsburgh Pirates\n",
       "                                       ...               \n",
       "williamhill_us_2_time                       7/19/23 15:50\n",
       "wynnbet_1_odds                                       1.75\n",
       "wynnbet_1_time                              7/19/23 15:48\n",
       "wynnbet_2_odds                                       2.21\n",
       "wynnbet_2_time                              7/19/23 15:48\n",
       "Name: 0, Length: 161, dtype: object"
      ]
     },
     "execution_count": 13,
     "metadata": {},
     "output_type": "execute_result"
    }
   ],
   "source": [
    "raw.iloc[0]"
   ]
  },
  {
   "cell_type": "code",
   "execution_count": 76,
   "metadata": {},
   "outputs": [],
   "source": [
    "# # This takes 2.5 minutes\n",
    "time_columns = [col for col in raw.columns if 'time' in col]\n",
    "raw[time_columns] = raw[time_columns].apply(lambda x: pd.to_datetime(x, format=\"%m/%d/%y %H:%M\"))"
   ]
  },
  {
   "cell_type": "code",
   "execution_count": 77,
   "metadata": {},
   "outputs": [],
   "source": [
    "#raw['commence_time'] = raw['commence_time'] - pd.Timedelta(hours=7)\n",
    "raw[time_columns] = raw[time_columns]- pd.Timedelta(hours=7)"
   ]
  },
  {
   "cell_type": "code",
   "execution_count": 78,
   "metadata": {},
   "outputs": [
    {
     "data": {
      "text/html": [
       "<div>\n",
       "<style scoped>\n",
       "    .dataframe tbody tr th:only-of-type {\n",
       "        vertical-align: middle;\n",
       "    }\n",
       "\n",
       "    .dataframe tbody tr th {\n",
       "        vertical-align: top;\n",
       "    }\n",
       "\n",
       "    .dataframe thead th {\n",
       "        text-align: right;\n",
       "    }\n",
       "</style>\n",
       "<table border=\"1\" class=\"dataframe\">\n",
       "  <thead>\n",
       "    <tr style=\"text-align: right;\">\n",
       "      <th></th>\n",
       "      <th>game_id</th>\n",
       "      <th>commence_time</th>\n",
       "      <th>time_pulled</th>\n",
       "      <th>home_team</th>\n",
       "      <th>away_team</th>\n",
       "      <th>barstool_1_odds</th>\n",
       "      <th>barstool_1_time</th>\n",
       "      <th>barstool_2_odds</th>\n",
       "      <th>barstool_2_time</th>\n",
       "      <th>betclic_1_odds</th>\n",
       "      <th>...</th>\n",
       "      <th>williamhill_2_odds</th>\n",
       "      <th>williamhill_2_time</th>\n",
       "      <th>williamhill_us_1_odds</th>\n",
       "      <th>williamhill_us_1_time</th>\n",
       "      <th>williamhill_us_2_odds</th>\n",
       "      <th>williamhill_us_2_time</th>\n",
       "      <th>wynnbet_1_odds</th>\n",
       "      <th>wynnbet_1_time</th>\n",
       "      <th>wynnbet_2_odds</th>\n",
       "      <th>wynnbet_2_time</th>\n",
       "    </tr>\n",
       "  </thead>\n",
       "  <tbody>\n",
       "    <tr>\n",
       "      <th>0</th>\n",
       "      <td>7f989faf14324e706845194a889bf62d</td>\n",
       "      <td>2023-07-19 09:35:00</td>\n",
       "      <td>2023-07-19 08:55:00</td>\n",
       "      <td>Cleveland Guardians</td>\n",
       "      <td>Pittsburgh Pirates</td>\n",
       "      <td>1.71</td>\n",
       "      <td>2023-07-19 08:50:00</td>\n",
       "      <td>2.20</td>\n",
       "      <td>2023-07-19 08:50:00</td>\n",
       "      <td>1.72</td>\n",
       "      <td>...</td>\n",
       "      <td>2.20</td>\n",
       "      <td>2023-07-19 08:48:00</td>\n",
       "      <td>1.67</td>\n",
       "      <td>2023-07-19 08:50:00</td>\n",
       "      <td>2.26</td>\n",
       "      <td>2023-07-19 08:50:00</td>\n",
       "      <td>1.75</td>\n",
       "      <td>2023-07-19 08:48:00</td>\n",
       "      <td>2.21</td>\n",
       "      <td>2023-07-19 08:48:00</td>\n",
       "    </tr>\n",
       "    <tr>\n",
       "      <th>1</th>\n",
       "      <td>896fe645cdb1c1d6b96e8b766ee1aa8d</td>\n",
       "      <td>2023-07-19 10:05:00</td>\n",
       "      <td>2023-07-19 08:55:00</td>\n",
       "      <td>Baltimore Orioles</td>\n",
       "      <td>Los Angeles Dodgers</td>\n",
       "      <td>2.25</td>\n",
       "      <td>2023-07-19 08:50:00</td>\n",
       "      <td>1.69</td>\n",
       "      <td>2023-07-19 08:50:00</td>\n",
       "      <td>2.25</td>\n",
       "      <td>...</td>\n",
       "      <td>1.62</td>\n",
       "      <td>2023-07-19 08:49:00</td>\n",
       "      <td>NaN</td>\n",
       "      <td>NaT</td>\n",
       "      <td>NaN</td>\n",
       "      <td>NaT</td>\n",
       "      <td>NaN</td>\n",
       "      <td>NaT</td>\n",
       "      <td>NaN</td>\n",
       "      <td>NaT</td>\n",
       "    </tr>\n",
       "    <tr>\n",
       "      <th>2</th>\n",
       "      <td>eb029fd843bb81f3a097861cfedd182f</td>\n",
       "      <td>2023-07-19 11:05:00</td>\n",
       "      <td>2023-07-19 08:55:00</td>\n",
       "      <td>Tampa Bay Rays</td>\n",
       "      <td>Texas Rangers</td>\n",
       "      <td>2.00</td>\n",
       "      <td>2023-07-19 08:50:00</td>\n",
       "      <td>1.83</td>\n",
       "      <td>2023-07-19 08:50:00</td>\n",
       "      <td>2.00</td>\n",
       "      <td>...</td>\n",
       "      <td>1.82</td>\n",
       "      <td>2023-07-19 08:49:00</td>\n",
       "      <td>NaN</td>\n",
       "      <td>NaT</td>\n",
       "      <td>NaN</td>\n",
       "      <td>NaT</td>\n",
       "      <td>NaN</td>\n",
       "      <td>NaT</td>\n",
       "      <td>NaN</td>\n",
       "      <td>NaT</td>\n",
       "    </tr>\n",
       "    <tr>\n",
       "      <th>3</th>\n",
       "      <td>006986994ed204bf0e24253f1fbff107</td>\n",
       "      <td>2023-07-19 11:15:00</td>\n",
       "      <td>2023-07-19 08:55:00</td>\n",
       "      <td>Miami Marlins</td>\n",
       "      <td>St. Louis Cardinals</td>\n",
       "      <td>1.91</td>\n",
       "      <td>2023-07-19 08:50:00</td>\n",
       "      <td>1.91</td>\n",
       "      <td>2023-07-19 08:50:00</td>\n",
       "      <td>1.91</td>\n",
       "      <td>...</td>\n",
       "      <td>1.90</td>\n",
       "      <td>2023-07-19 08:49:00</td>\n",
       "      <td>NaN</td>\n",
       "      <td>NaT</td>\n",
       "      <td>NaN</td>\n",
       "      <td>NaT</td>\n",
       "      <td>NaN</td>\n",
       "      <td>NaT</td>\n",
       "      <td>NaN</td>\n",
       "      <td>NaT</td>\n",
       "    </tr>\n",
       "    <tr>\n",
       "      <th>4</th>\n",
       "      <td>99a5d553a4d308dd1c335ac53322084a</td>\n",
       "      <td>2023-07-19 12:10:00</td>\n",
       "      <td>2023-07-19 08:55:00</td>\n",
       "      <td>Colorado Rockies</td>\n",
       "      <td>Houston Astros</td>\n",
       "      <td>2.30</td>\n",
       "      <td>2023-07-19 08:50:00</td>\n",
       "      <td>1.67</td>\n",
       "      <td>2023-07-19 08:50:00</td>\n",
       "      <td>2.27</td>\n",
       "      <td>...</td>\n",
       "      <td>1.65</td>\n",
       "      <td>2023-07-19 08:50:00</td>\n",
       "      <td>NaN</td>\n",
       "      <td>NaT</td>\n",
       "      <td>NaN</td>\n",
       "      <td>NaT</td>\n",
       "      <td>NaN</td>\n",
       "      <td>NaT</td>\n",
       "      <td>NaN</td>\n",
       "      <td>NaT</td>\n",
       "    </tr>\n",
       "  </tbody>\n",
       "</table>\n",
       "<p>5 rows × 161 columns</p>\n",
       "</div>"
      ],
      "text/plain": [
       "                            game_id       commence_time         time_pulled  \\\n",
       "0  7f989faf14324e706845194a889bf62d 2023-07-19 09:35:00 2023-07-19 08:55:00   \n",
       "1  896fe645cdb1c1d6b96e8b766ee1aa8d 2023-07-19 10:05:00 2023-07-19 08:55:00   \n",
       "2  eb029fd843bb81f3a097861cfedd182f 2023-07-19 11:05:00 2023-07-19 08:55:00   \n",
       "3  006986994ed204bf0e24253f1fbff107 2023-07-19 11:15:00 2023-07-19 08:55:00   \n",
       "4  99a5d553a4d308dd1c335ac53322084a 2023-07-19 12:10:00 2023-07-19 08:55:00   \n",
       "\n",
       "             home_team            away_team  barstool_1_odds  \\\n",
       "0  Cleveland Guardians   Pittsburgh Pirates             1.71   \n",
       "1    Baltimore Orioles  Los Angeles Dodgers             2.25   \n",
       "2       Tampa Bay Rays        Texas Rangers             2.00   \n",
       "3        Miami Marlins  St. Louis Cardinals             1.91   \n",
       "4     Colorado Rockies       Houston Astros             2.30   \n",
       "\n",
       "      barstool_1_time  barstool_2_odds     barstool_2_time  betclic_1_odds  \\\n",
       "0 2023-07-19 08:50:00             2.20 2023-07-19 08:50:00            1.72   \n",
       "1 2023-07-19 08:50:00             1.69 2023-07-19 08:50:00            2.25   \n",
       "2 2023-07-19 08:50:00             1.83 2023-07-19 08:50:00            2.00   \n",
       "3 2023-07-19 08:50:00             1.91 2023-07-19 08:50:00            1.91   \n",
       "4 2023-07-19 08:50:00             1.67 2023-07-19 08:50:00            2.27   \n",
       "\n",
       "   ... williamhill_2_odds  williamhill_2_time williamhill_us_1_odds  \\\n",
       "0  ...               2.20 2023-07-19 08:48:00                  1.67   \n",
       "1  ...               1.62 2023-07-19 08:49:00                   NaN   \n",
       "2  ...               1.82 2023-07-19 08:49:00                   NaN   \n",
       "3  ...               1.90 2023-07-19 08:49:00                   NaN   \n",
       "4  ...               1.65 2023-07-19 08:50:00                   NaN   \n",
       "\n",
       "   williamhill_us_1_time williamhill_us_2_odds  williamhill_us_2_time  \\\n",
       "0    2023-07-19 08:50:00                  2.26    2023-07-19 08:50:00   \n",
       "1                    NaT                   NaN                    NaT   \n",
       "2                    NaT                   NaN                    NaT   \n",
       "3                    NaT                   NaN                    NaT   \n",
       "4                    NaT                   NaN                    NaT   \n",
       "\n",
       "  wynnbet_1_odds      wynnbet_1_time wynnbet_2_odds      wynnbet_2_time  \n",
       "0           1.75 2023-07-19 08:48:00           2.21 2023-07-19 08:48:00  \n",
       "1            NaN                 NaT            NaN                 NaT  \n",
       "2            NaN                 NaT            NaN                 NaT  \n",
       "3            NaN                 NaT            NaN                 NaT  \n",
       "4            NaN                 NaT            NaN                 NaT  \n",
       "\n",
       "[5 rows x 161 columns]"
      ]
     },
     "execution_count": 78,
     "metadata": {},
     "output_type": "execute_result"
    }
   ],
   "source": [
    "raw.head()"
   ]
  },
  {
   "attachments": {},
   "cell_type": "markdown",
   "metadata": {},
   "source": [
    "# Step 3: Make the same my_game_id values in each sheet"
   ]
  },
  {
   "cell_type": "code",
   "execution_count": 79,
   "metadata": {},
   "outputs": [],
   "source": [
    "extra = pd.read_csv(extra_data_file_new)"
   ]
  },
  {
   "cell_type": "code",
   "execution_count": 80,
   "metadata": {},
   "outputs": [],
   "source": [
    "extra['home_team_final'] = extra[['home_team', 'away_team']].min(axis=1)\n",
    "extra['away_team_final'] = extra[['home_team', 'away_team']].max(axis=1)"
   ]
  },
  {
   "cell_type": "code",
   "execution_count": 81,
   "metadata": {},
   "outputs": [],
   "source": [
    "raw['date'] = raw['commence_time'].copy().dt.strftime('%Y%m%d')\n",
    "extra['date']= extra['date'].astype(str)"
   ]
  },
  {
   "cell_type": "code",
   "execution_count": 82,
   "metadata": {},
   "outputs": [
    {
     "data": {
      "text/plain": [
       "0        2023-07-19 09:35:00\n",
       "1        2023-07-19 10:05:00\n",
       "2        2023-07-19 11:05:00\n",
       "3        2023-07-19 11:15:00\n",
       "4        2023-07-19 12:10:00\n",
       "                 ...        \n",
       "282263   2023-03-30 13:10:00\n",
       "282264   2023-03-30 16:08:00\n",
       "282265   2023-03-30 19:07:00\n",
       "282266   2023-03-30 19:10:00\n",
       "282267   2023-03-30 19:10:00\n",
       "Name: commence_time, Length: 635183, dtype: datetime64[ns]"
      ]
     },
     "execution_count": 82,
     "metadata": {},
     "output_type": "execute_result"
    }
   ],
   "source": [
    "raw['commence_time']"
   ]
  },
  {
   "cell_type": "code",
   "execution_count": 83,
   "metadata": {},
   "outputs": [],
   "source": [
    "raw['my_id'] = raw['home_team'] + raw['away_team'] + raw['date']\n",
    "extra['my_id'] = extra['home_team_final'] + extra['away_team_final'] + extra['date']"
   ]
  },
  {
   "attachments": {},
   "cell_type": "markdown",
   "metadata": {},
   "source": [
    "# Step 4: Make a complicated dict"
   ]
  },
  {
   "cell_type": "code",
   "execution_count": 84,
   "metadata": {},
   "outputs": [],
   "source": [
    "# Make a dict that maps raw my_id to raw game_id and includes duplicates\n",
    "mapping_dict = {}\n",
    "for key, value in zip(raw['my_id'], raw['game_id']):\n",
    "    if key in mapping_dict:\n",
    "        mapping_dict[key].append(value)  # Append value to existing key's list\n",
    "        mapping_dict[key] = list(set(mapping_dict[key]))\n",
    "    else:\n",
    "        mapping_dict[key] = [value]  "
   ]
  },
  {
   "cell_type": "code",
   "execution_count": 85,
   "metadata": {},
   "outputs": [
    {
     "name": "stdout",
     "output_type": "stream",
     "text": [
      "21\n"
     ]
    }
   ],
   "source": [
    "count = 0\n",
    "for key, values in mapping_dict.items():\n",
    "    if len(values) == 2:\n",
    "        count+=1\n",
    "print(count)"
   ]
  },
  {
   "cell_type": "code",
   "execution_count": 86,
   "metadata": {},
   "outputs": [
    {
     "name": "stdout",
     "output_type": "stream",
     "text": [
      "1459\n"
     ]
    }
   ],
   "source": [
    "print(len(mapping_dict))"
   ]
  },
  {
   "cell_type": "code",
   "execution_count": 87,
   "metadata": {},
   "outputs": [],
   "source": [
    "extra['number_of_game_today'] = extra['number_of_game_today'].astype(str)"
   ]
  },
  {
   "cell_type": "code",
   "execution_count": 88,
   "metadata": {},
   "outputs": [
    {
     "name": "stdout",
     "output_type": "stream",
     "text": [
      "2424\n"
     ]
    }
   ],
   "source": [
    "# Make a dict that maps extra my_id to the extra game_value (double header or not)\n",
    "extra_dict = {}\n",
    "count = 0\n",
    "for key, value in zip(extra['my_id'], extra['number_of_game_today']):\n",
    "    if key in extra_dict:\n",
    "        extra_dict[key].append(value)\n",
    "        extra_dict[key] = list(extra_dict[key])\n",
    "    else:\n",
    "        extra_dict[key] = [value]\n",
    "print(len(extra_dict))"
   ]
  },
  {
   "cell_type": "code",
   "execution_count": 89,
   "metadata": {},
   "outputs": [],
   "source": [
    "# Make a dict that maps game_id's to commence_times\n",
    "id_commence_dict = {key: value for key, value in zip(raw['game_id'], raw['commence_time'])}"
   ]
  },
  {
   "cell_type": "code",
   "execution_count": 90,
   "metadata": {},
   "outputs": [],
   "source": [
    "# Go through each mapping_dict item\n",
    "# if the length of values is 1, put it in the new dict with the suffix '_0'\n",
    "# if the length of values is 2, put it in the new dict with the proper suffix\n",
    "new_dict = {}\n",
    "for key, values in mapping_dict.items():\n",
    "    if len(values) == 1:\n",
    "        new_dict[str(str(key) + '_0')] = values[0]\n",
    "    elif len(values) == 2:\n",
    "        if id_commence_dict[values[0]] < id_commence_dict[values[1]]:\n",
    "            new_dict[str(str(key) + '_1')] = values[0]\n",
    "            new_dict[str(str(key) + '_2')] = values[1]\n",
    "        elif id_commence_dict[values[0]] > id_commence_dict[values[1]]:\n",
    "            new_dict[str(str(key) + '_2')] = values[0]\n",
    "            new_dict[str(str(key) + '_1')] = values[1]"
   ]
  },
  {
   "cell_type": "code",
   "execution_count": 91,
   "metadata": {},
   "outputs": [],
   "source": [
    "extra['my_id_game'] = extra['home_team_final'] + extra['away_team_final'] + extra['date'] + '_' + extra['number_of_game_today']"
   ]
  },
  {
   "cell_type": "code",
   "execution_count": 92,
   "metadata": {},
   "outputs": [],
   "source": [
    "my_id_game = extra['my_id_game'].tolist()"
   ]
  },
  {
   "cell_type": "code",
   "execution_count": 93,
   "metadata": {},
   "outputs": [],
   "source": [
    "count = 0\n",
    "new_list = []\n",
    "for key, value in new_dict.items():\n",
    "    if key in my_id_game:\n",
    "        new_list.append(key)\n"
   ]
  },
  {
   "cell_type": "code",
   "execution_count": 94,
   "metadata": {},
   "outputs": [
    {
     "name": "stdout",
     "output_type": "stream",
     "text": [
      "1426\n"
     ]
    }
   ],
   "source": [
    "count = 0\n",
    "for item in new_list:\n",
    "    if item in my_id_game:\n",
    "        count +=1\n",
    "print(count)"
   ]
  },
  {
   "cell_type": "code",
   "execution_count": 95,
   "metadata": {},
   "outputs": [
    {
     "data": {
      "text/plain": [
       "0           Cleveland GuardiansPittsburgh Pirates20230719_0\n",
       "1            Baltimore OriolesLos Angeles Dodgers20230719_0\n",
       "2                     Tampa Bay RaysTexas Rangers20230719_0\n",
       "3                Miami MarlinsSt. Louis Cardinals20230719_0\n",
       "4                  Colorado RockiesHouston Astros20230719_0\n",
       "                                ...                        \n",
       "282263       St. Louis CardinalsToronto Blue Jays20230330_0\n",
       "282264            Chicago White SoxHouston Astros20230330_0\n",
       "282265        Los Angeles AngelsOakland Athletics20230330_0\n",
       "282266    Arizona DiamondbacksLos Angeles Dodgers20230330_0\n",
       "282267        Cleveland GuardiansSeattle Mariners20230330_0\n",
       "Name: my_game_id_final, Length: 635183, dtype: object"
      ]
     },
     "execution_count": 95,
     "metadata": {},
     "output_type": "execute_result"
    }
   ],
   "source": [
    "# Takes about 2 minutes\n",
    "raw['my_game_id_final'] = raw['game_id'].apply(lambda x: next((k for k, v in new_dict.items() if v == x), None))\n",
    "raw['my_game_id_final']"
   ]
  },
  {
   "cell_type": "code",
   "execution_count": 96,
   "metadata": {},
   "outputs": [],
   "source": [
    "#raw['winning_team'] = raw['my_game_id_final'].map(extra.set_index('my_id_game')['winning_team'])\n",
    "\n",
    "raw['number_of_game_today'] = raw['my_game_id_final'].map(extra.set_index('my_id_game')['number_of_game_today'])\n",
    "\n",
    "raw['day_of_week'] = raw['my_game_id_final'].map(extra.set_index('my_id_game')['day_of_week'])\n",
    "\n",
    "raw['away_team'] = raw['my_game_id_final'].map(extra.set_index('my_id_game')['away_team'])\n",
    "raw['away_team_league'] = raw['my_game_id_final'].map(extra.set_index('my_id_game')['away_team_league'])\n",
    "raw['away_team_game_number'] = raw['my_game_id_final'].map(extra.set_index('my_id_game')['away_team_game_number'])\n",
    "\n",
    "raw['home_team'] = raw['my_game_id_final'].map(extra.set_index('my_id_game')['home_team'])\n",
    "raw['home_team_league'] = raw['my_game_id_final'].map(extra.set_index('my_id_game')['home_team_league'])\n",
    "raw['home_team_game_number'] = raw['my_game_id_final'].map(extra.set_index('my_id_game')['home_team_game_number'])\n",
    "\n",
    "raw['day_night'] = raw['my_game_id_final'].map(extra.set_index('my_id_game')['day_night'])\n",
    "raw['park_id'] = raw['my_game_id_final'].map(extra.set_index('my_id_game')['park_id'])"
   ]
  },
  {
   "cell_type": "code",
   "execution_count": 97,
   "metadata": {},
   "outputs": [
    {
     "data": {
      "text/plain": [
       "0    621242\n",
       "Name: number_of_game_today, dtype: int64"
      ]
     },
     "execution_count": 97,
     "metadata": {},
     "output_type": "execute_result"
    }
   ],
   "source": [
    "raw.number_of_game_today.value_counts()"
   ]
  },
  {
   "cell_type": "code",
   "execution_count": 34,
   "metadata": {},
   "outputs": [],
   "source": [
    "raw_first_1000 = raw.head(1000)\n",
    "raw_first_1000.to_csv('/Users/stefanfeiler/Desktop/for_micah/outData_mlb_raw_final_first_1000.csv',index=False)"
   ]
  },
  {
   "cell_type": "code",
   "execution_count": 98,
   "metadata": {},
   "outputs": [],
   "source": [
    "import regex as re"
   ]
  },
  {
   "cell_type": "code",
   "execution_count": 99,
   "metadata": {},
   "outputs": [],
   "source": [
    "from datetime import datetime\n",
    "\n",
    "def convert_date_string_to_digits(date_str):\n",
    "    # Define the input and output date formats\n",
    "    input_format = \"%A, %B %d, %Y\"\n",
    "    output_format = \"%Y%m%d\"\n",
    "\n",
    "    # Convert the input date string to a datetime object\n",
    "    date_obj = datetime.strptime(date_str, input_format)\n",
    "\n",
    "    # Convert the datetime object back to the desired string format\n",
    "    return date_obj.strftime(output_format)\n",
    "\n",
    "# Example usage:\n",
    "date_string = \"Thursday, March 30, 2023\"\n",
    "result = convert_date_string_to_digits(date_string)"
   ]
  },
  {
   "cell_type": "code",
   "execution_count": 100,
   "metadata": {},
   "outputs": [
    {
     "name": "stdout",
     "output_type": "stream",
     "text": [
      "<regex.Match object; span=(0, 43), match='Colorado Rockies (7) @ San Diego Padres (2)'>\n"
     ]
    },
    {
     "data": {
      "text/plain": [
       "'2'"
      ]
     },
     "execution_count": 100,
     "metadata": {},
     "output_type": "execute_result"
    }
   ],
   "source": [
    "test = \"Colorado Rockies (7) @ San Diego Padres (2)   Boxscore\"\n",
    "out = re.match(r'.+\\(([0-9]{1,2})\\).+\\(([0-9]{1,2})\\)', test)\n",
    "print(out)\n",
    "out[2]"
   ]
  },
  {
   "cell_type": "code",
   "execution_count": 101,
   "metadata": {},
   "outputs": [],
   "source": [
    "with open('/Users/stefanfeiler/Desktop/for_micah/this_season_scores.txt','r', encoding = 'utf-16') as f:\n",
    "    lines = f.readlines()\n",
    "\n",
    "df = pd.DataFrame(columns=['date','away_team','away_score','home_team','home_score','game_id','winner_home'])\n",
    "j = 0\n",
    "date=0\n",
    "good=0\n",
    "length = len(lines)\n",
    "counter = 0\n",
    "for i in lines:\n",
    "    if re.match(r'\\s', i):\n",
    "        j+=1\n",
    "    elif i.startswith(\"\\\"\"):\n",
    "        date+=1\n",
    "        date_string = i.strip().strip(\"\\\"\")\n",
    "        date_num = convert_date_string_to_digits(date_string)\n",
    "\n",
    "    else:\n",
    "        good+=1\n",
    "        out = re.match(r'(.+) \\(([0-9]{1,2})\\) @ (.+) \\(([0-9]{1,2})\\)', i)\n",
    "        away_team = str(out[1])\n",
    "        home_team = str(out[3])\n",
    "        away_score = int(out[2])\n",
    "        home_score = int(out[4])\n",
    "        if away_score > home_score:\n",
    "            home_winner = False\n",
    "        elif home_score > away_score:\n",
    "            home_winner = True\n",
    "        else: \"shout and scream\"\n",
    "        game_id = away_team + home_team + str(date_num)\n",
    "        game_data = {\n",
    "            'date': date_num,\n",
    "            'away_team': away_team,\n",
    "            'away_score': away_score,\n",
    "            'home_team': home_team,\n",
    "            'home_score': home_score,\n",
    "            'game_id': game_id,  # You might need to define 'counter' somewhere.\n",
    "            'winner_home': home_winner\n",
    "        }\n",
    "        df.loc[len(df.index)] = game_data \n",
    "\n",
    "\n",
    "#innerjoin by game_id"
   ]
  },
  {
   "cell_type": "code",
   "execution_count": 102,
   "metadata": {},
   "outputs": [
    {
     "data": {
      "text/html": [
       "<div>\n",
       "<style scoped>\n",
       "    .dataframe tbody tr th:only-of-type {\n",
       "        vertical-align: middle;\n",
       "    }\n",
       "\n",
       "    .dataframe tbody tr th {\n",
       "        vertical-align: top;\n",
       "    }\n",
       "\n",
       "    .dataframe thead th {\n",
       "        text-align: right;\n",
       "    }\n",
       "</style>\n",
       "<table border=\"1\" class=\"dataframe\">\n",
       "  <thead>\n",
       "    <tr style=\"text-align: right;\">\n",
       "      <th></th>\n",
       "      <th>game_id</th>\n",
       "      <th>commence_time</th>\n",
       "      <th>time_pulled</th>\n",
       "      <th>home_team</th>\n",
       "      <th>away_team</th>\n",
       "      <th>barstool_1_odds</th>\n",
       "      <th>barstool_1_time</th>\n",
       "      <th>barstool_2_odds</th>\n",
       "      <th>barstool_2_time</th>\n",
       "      <th>betclic_1_odds</th>\n",
       "      <th>...</th>\n",
       "      <th>my_id</th>\n",
       "      <th>my_game_id_final</th>\n",
       "      <th>number_of_game_today</th>\n",
       "      <th>day_of_week</th>\n",
       "      <th>away_team_league</th>\n",
       "      <th>away_team_game_number</th>\n",
       "      <th>home_team_league</th>\n",
       "      <th>home_team_game_number</th>\n",
       "      <th>day_night</th>\n",
       "      <th>park_id</th>\n",
       "    </tr>\n",
       "  </thead>\n",
       "  <tbody>\n",
       "    <tr>\n",
       "      <th>0</th>\n",
       "      <td>7f989faf14324e706845194a889bf62d</td>\n",
       "      <td>2023-07-19 09:35:00</td>\n",
       "      <td>2023-07-19 08:55:00</td>\n",
       "      <td>Pittsburgh Pirates</td>\n",
       "      <td>Cleveland Guardians</td>\n",
       "      <td>1.71</td>\n",
       "      <td>2023-07-19 08:50:00</td>\n",
       "      <td>2.20</td>\n",
       "      <td>2023-07-19 08:50:00</td>\n",
       "      <td>1.72</td>\n",
       "      <td>...</td>\n",
       "      <td>Cleveland GuardiansPittsburgh Pirates20230719</td>\n",
       "      <td>Cleveland GuardiansPittsburgh Pirates20230719_0</td>\n",
       "      <td>0</td>\n",
       "      <td>Wed</td>\n",
       "      <td>AL</td>\n",
       "      <td>96.0</td>\n",
       "      <td>NL</td>\n",
       "      <td>96.0</td>\n",
       "      <td>N</td>\n",
       "      <td>PIT08</td>\n",
       "    </tr>\n",
       "    <tr>\n",
       "      <th>1</th>\n",
       "      <td>896fe645cdb1c1d6b96e8b766ee1aa8d</td>\n",
       "      <td>2023-07-19 10:05:00</td>\n",
       "      <td>2023-07-19 08:55:00</td>\n",
       "      <td>Baltimore Orioles</td>\n",
       "      <td>Los Angeles Dodgers</td>\n",
       "      <td>2.25</td>\n",
       "      <td>2023-07-19 08:50:00</td>\n",
       "      <td>1.69</td>\n",
       "      <td>2023-07-19 08:50:00</td>\n",
       "      <td>2.25</td>\n",
       "      <td>...</td>\n",
       "      <td>Baltimore OriolesLos Angeles Dodgers20230719</td>\n",
       "      <td>Baltimore OriolesLos Angeles Dodgers20230719_0</td>\n",
       "      <td>0</td>\n",
       "      <td>Wed</td>\n",
       "      <td>NL</td>\n",
       "      <td>95.0</td>\n",
       "      <td>AL</td>\n",
       "      <td>95.0</td>\n",
       "      <td>D</td>\n",
       "      <td>WIL02</td>\n",
       "    </tr>\n",
       "    <tr>\n",
       "      <th>2</th>\n",
       "      <td>eb029fd843bb81f3a097861cfedd182f</td>\n",
       "      <td>2023-07-19 11:05:00</td>\n",
       "      <td>2023-07-19 08:55:00</td>\n",
       "      <td>Texas Rangers</td>\n",
       "      <td>Tampa Bay Rays</td>\n",
       "      <td>2.00</td>\n",
       "      <td>2023-07-19 08:50:00</td>\n",
       "      <td>1.83</td>\n",
       "      <td>2023-07-19 08:50:00</td>\n",
       "      <td>2.00</td>\n",
       "      <td>...</td>\n",
       "      <td>Tampa Bay RaysTexas Rangers20230719</td>\n",
       "      <td>Tampa Bay RaysTexas Rangers20230719_0</td>\n",
       "      <td>0</td>\n",
       "      <td>Wed</td>\n",
       "      <td>AL</td>\n",
       "      <td>99.0</td>\n",
       "      <td>AL</td>\n",
       "      <td>97.0</td>\n",
       "      <td>D</td>\n",
       "      <td>ARL03</td>\n",
       "    </tr>\n",
       "    <tr>\n",
       "      <th>3</th>\n",
       "      <td>006986994ed204bf0e24253f1fbff107</td>\n",
       "      <td>2023-07-19 11:15:00</td>\n",
       "      <td>2023-07-19 08:55:00</td>\n",
       "      <td>St. Louis Cardinals</td>\n",
       "      <td>Miami Marlins</td>\n",
       "      <td>1.91</td>\n",
       "      <td>2023-07-19 08:50:00</td>\n",
       "      <td>1.91</td>\n",
       "      <td>2023-07-19 08:50:00</td>\n",
       "      <td>1.91</td>\n",
       "      <td>...</td>\n",
       "      <td>Miami MarlinsSt. Louis Cardinals20230719</td>\n",
       "      <td>Miami MarlinsSt. Louis Cardinals20230719_0</td>\n",
       "      <td>0</td>\n",
       "      <td>Wed</td>\n",
       "      <td>NL</td>\n",
       "      <td>98.0</td>\n",
       "      <td>NL</td>\n",
       "      <td>96.0</td>\n",
       "      <td>D</td>\n",
       "      <td>STL10</td>\n",
       "    </tr>\n",
       "    <tr>\n",
       "      <th>4</th>\n",
       "      <td>99a5d553a4d308dd1c335ac53322084a</td>\n",
       "      <td>2023-07-19 12:10:00</td>\n",
       "      <td>2023-07-19 08:55:00</td>\n",
       "      <td>Colorado Rockies</td>\n",
       "      <td>Houston Astros</td>\n",
       "      <td>2.30</td>\n",
       "      <td>2023-07-19 08:50:00</td>\n",
       "      <td>1.67</td>\n",
       "      <td>2023-07-19 08:50:00</td>\n",
       "      <td>2.27</td>\n",
       "      <td>...</td>\n",
       "      <td>Colorado RockiesHouston Astros20230719</td>\n",
       "      <td>Colorado RockiesHouston Astros20230719_0</td>\n",
       "      <td>0</td>\n",
       "      <td>Wed</td>\n",
       "      <td>AL</td>\n",
       "      <td>96.0</td>\n",
       "      <td>NL</td>\n",
       "      <td>96.0</td>\n",
       "      <td>D</td>\n",
       "      <td>DEN02</td>\n",
       "    </tr>\n",
       "  </tbody>\n",
       "</table>\n",
       "<p>5 rows × 172 columns</p>\n",
       "</div>"
      ],
      "text/plain": [
       "                            game_id       commence_time         time_pulled  \\\n",
       "0  7f989faf14324e706845194a889bf62d 2023-07-19 09:35:00 2023-07-19 08:55:00   \n",
       "1  896fe645cdb1c1d6b96e8b766ee1aa8d 2023-07-19 10:05:00 2023-07-19 08:55:00   \n",
       "2  eb029fd843bb81f3a097861cfedd182f 2023-07-19 11:05:00 2023-07-19 08:55:00   \n",
       "3  006986994ed204bf0e24253f1fbff107 2023-07-19 11:15:00 2023-07-19 08:55:00   \n",
       "4  99a5d553a4d308dd1c335ac53322084a 2023-07-19 12:10:00 2023-07-19 08:55:00   \n",
       "\n",
       "             home_team            away_team  barstool_1_odds  \\\n",
       "0   Pittsburgh Pirates  Cleveland Guardians             1.71   \n",
       "1    Baltimore Orioles  Los Angeles Dodgers             2.25   \n",
       "2        Texas Rangers       Tampa Bay Rays             2.00   \n",
       "3  St. Louis Cardinals        Miami Marlins             1.91   \n",
       "4     Colorado Rockies       Houston Astros             2.30   \n",
       "\n",
       "      barstool_1_time  barstool_2_odds     barstool_2_time  betclic_1_odds  \\\n",
       "0 2023-07-19 08:50:00             2.20 2023-07-19 08:50:00            1.72   \n",
       "1 2023-07-19 08:50:00             1.69 2023-07-19 08:50:00            2.25   \n",
       "2 2023-07-19 08:50:00             1.83 2023-07-19 08:50:00            2.00   \n",
       "3 2023-07-19 08:50:00             1.91 2023-07-19 08:50:00            1.91   \n",
       "4 2023-07-19 08:50:00             1.67 2023-07-19 08:50:00            2.27   \n",
       "\n",
       "   ...                                          my_id  \\\n",
       "0  ...  Cleveland GuardiansPittsburgh Pirates20230719   \n",
       "1  ...   Baltimore OriolesLos Angeles Dodgers20230719   \n",
       "2  ...            Tampa Bay RaysTexas Rangers20230719   \n",
       "3  ...       Miami MarlinsSt. Louis Cardinals20230719   \n",
       "4  ...         Colorado RockiesHouston Astros20230719   \n",
       "\n",
       "                                  my_game_id_final number_of_game_today  \\\n",
       "0  Cleveland GuardiansPittsburgh Pirates20230719_0                    0   \n",
       "1   Baltimore OriolesLos Angeles Dodgers20230719_0                    0   \n",
       "2            Tampa Bay RaysTexas Rangers20230719_0                    0   \n",
       "3       Miami MarlinsSt. Louis Cardinals20230719_0                    0   \n",
       "4         Colorado RockiesHouston Astros20230719_0                    0   \n",
       "\n",
       "   day_of_week away_team_league  away_team_game_number home_team_league  \\\n",
       "0          Wed               AL                   96.0               NL   \n",
       "1          Wed               NL                   95.0               AL   \n",
       "2          Wed               AL                   99.0               AL   \n",
       "3          Wed               NL                   98.0               NL   \n",
       "4          Wed               AL                   96.0               NL   \n",
       "\n",
       "   home_team_game_number day_night  park_id  \n",
       "0                   96.0         N    PIT08  \n",
       "1                   95.0         D    WIL02  \n",
       "2                   97.0         D    ARL03  \n",
       "3                   96.0         D    STL10  \n",
       "4                   96.0         D    DEN02  \n",
       "\n",
       "[5 rows x 172 columns]"
      ]
     },
     "execution_count": 102,
     "metadata": {},
     "output_type": "execute_result"
    }
   ],
   "source": [
    "raw.head()"
   ]
  },
  {
   "attachments": {},
   "cell_type": "markdown",
   "metadata": {},
   "source": []
  },
  {
   "cell_type": "code",
   "execution_count": 103,
   "metadata": {},
   "outputs": [
    {
     "data": {
      "text/plain": [
       "0    270289\n",
       "Name: number_of_game_today, dtype: int64"
      ]
     },
     "execution_count": 103,
     "metadata": {},
     "output_type": "execute_result"
    }
   ],
   "source": [
    "#innerjoin by game_id in df equals  my_id in raw_last_1000\n",
    "merged_df = pd.merge(df, raw, left_on='game_id', right_on='my_id', how='inner')\n",
    "merged_df.head()\n",
    "merged_df.number_of_game_today.value_counts()"
   ]
  },
  {
   "cell_type": "code",
   "execution_count": 104,
   "metadata": {},
   "outputs": [
    {
     "data": {
      "text/html": [
       "<div>\n",
       "<style scoped>\n",
       "    .dataframe tbody tr th:only-of-type {\n",
       "        vertical-align: middle;\n",
       "    }\n",
       "\n",
       "    .dataframe tbody tr th {\n",
       "        vertical-align: top;\n",
       "    }\n",
       "\n",
       "    .dataframe thead th {\n",
       "        text-align: right;\n",
       "    }\n",
       "</style>\n",
       "<table border=\"1\" class=\"dataframe\">\n",
       "  <thead>\n",
       "    <tr style=\"text-align: right;\">\n",
       "      <th></th>\n",
       "      <th>date_x</th>\n",
       "      <th>away_team_x</th>\n",
       "      <th>away_score</th>\n",
       "      <th>home_team_x</th>\n",
       "      <th>home_score</th>\n",
       "      <th>game_id_x</th>\n",
       "      <th>winner_home</th>\n",
       "      <th>game_id_y</th>\n",
       "      <th>commence_time</th>\n",
       "      <th>time_pulled</th>\n",
       "      <th>...</th>\n",
       "      <th>my_id</th>\n",
       "      <th>my_game_id_final</th>\n",
       "      <th>number_of_game_today</th>\n",
       "      <th>day_of_week</th>\n",
       "      <th>away_team_league</th>\n",
       "      <th>away_team_game_number</th>\n",
       "      <th>home_team_league</th>\n",
       "      <th>home_team_game_number</th>\n",
       "      <th>day_night</th>\n",
       "      <th>park_id</th>\n",
       "    </tr>\n",
       "  </thead>\n",
       "  <tbody>\n",
       "    <tr>\n",
       "      <th>0</th>\n",
       "      <td>20230330</td>\n",
       "      <td>Baltimore Orioles</td>\n",
       "      <td>10</td>\n",
       "      <td>Boston Red Sox</td>\n",
       "      <td>9</td>\n",
       "      <td>Baltimore OriolesBoston Red Sox20230330</td>\n",
       "      <td>False</td>\n",
       "      <td>f2912049aeca157ded4e77586ad96b6f</td>\n",
       "      <td>2023-03-30 11:10:00</td>\n",
       "      <td>2023-03-30 14:35:00</td>\n",
       "      <td>...</td>\n",
       "      <td>Baltimore OriolesBoston Red Sox20230330</td>\n",
       "      <td>Baltimore OriolesBoston Red Sox20230330_0</td>\n",
       "      <td>0</td>\n",
       "      <td>Thu</td>\n",
       "      <td>AL</td>\n",
       "      <td>1.0</td>\n",
       "      <td>AL</td>\n",
       "      <td>1.0</td>\n",
       "      <td>D</td>\n",
       "      <td>BOS07</td>\n",
       "    </tr>\n",
       "    <tr>\n",
       "      <th>1</th>\n",
       "      <td>20230330</td>\n",
       "      <td>Baltimore Orioles</td>\n",
       "      <td>10</td>\n",
       "      <td>Boston Red Sox</td>\n",
       "      <td>9</td>\n",
       "      <td>Baltimore OriolesBoston Red Sox20230330</td>\n",
       "      <td>False</td>\n",
       "      <td>f2912049aeca157ded4e77586ad96b6f</td>\n",
       "      <td>2023-03-30 11:10:00</td>\n",
       "      <td>2023-03-30 14:30:00</td>\n",
       "      <td>...</td>\n",
       "      <td>Baltimore OriolesBoston Red Sox20230330</td>\n",
       "      <td>Baltimore OriolesBoston Red Sox20230330_0</td>\n",
       "      <td>0</td>\n",
       "      <td>Thu</td>\n",
       "      <td>AL</td>\n",
       "      <td>1.0</td>\n",
       "      <td>AL</td>\n",
       "      <td>1.0</td>\n",
       "      <td>D</td>\n",
       "      <td>BOS07</td>\n",
       "    </tr>\n",
       "    <tr>\n",
       "      <th>2</th>\n",
       "      <td>20230330</td>\n",
       "      <td>Baltimore Orioles</td>\n",
       "      <td>10</td>\n",
       "      <td>Boston Red Sox</td>\n",
       "      <td>9</td>\n",
       "      <td>Baltimore OriolesBoston Red Sox20230330</td>\n",
       "      <td>False</td>\n",
       "      <td>f2912049aeca157ded4e77586ad96b6f</td>\n",
       "      <td>2023-03-30 11:10:00</td>\n",
       "      <td>2023-03-30 14:25:00</td>\n",
       "      <td>...</td>\n",
       "      <td>Baltimore OriolesBoston Red Sox20230330</td>\n",
       "      <td>Baltimore OriolesBoston Red Sox20230330_0</td>\n",
       "      <td>0</td>\n",
       "      <td>Thu</td>\n",
       "      <td>AL</td>\n",
       "      <td>1.0</td>\n",
       "      <td>AL</td>\n",
       "      <td>1.0</td>\n",
       "      <td>D</td>\n",
       "      <td>BOS07</td>\n",
       "    </tr>\n",
       "    <tr>\n",
       "      <th>3</th>\n",
       "      <td>20230330</td>\n",
       "      <td>Baltimore Orioles</td>\n",
       "      <td>10</td>\n",
       "      <td>Boston Red Sox</td>\n",
       "      <td>9</td>\n",
       "      <td>Baltimore OriolesBoston Red Sox20230330</td>\n",
       "      <td>False</td>\n",
       "      <td>f2912049aeca157ded4e77586ad96b6f</td>\n",
       "      <td>2023-03-30 11:10:00</td>\n",
       "      <td>2023-03-30 14:20:00</td>\n",
       "      <td>...</td>\n",
       "      <td>Baltimore OriolesBoston Red Sox20230330</td>\n",
       "      <td>Baltimore OriolesBoston Red Sox20230330_0</td>\n",
       "      <td>0</td>\n",
       "      <td>Thu</td>\n",
       "      <td>AL</td>\n",
       "      <td>1.0</td>\n",
       "      <td>AL</td>\n",
       "      <td>1.0</td>\n",
       "      <td>D</td>\n",
       "      <td>BOS07</td>\n",
       "    </tr>\n",
       "    <tr>\n",
       "      <th>4</th>\n",
       "      <td>20230330</td>\n",
       "      <td>Baltimore Orioles</td>\n",
       "      <td>10</td>\n",
       "      <td>Boston Red Sox</td>\n",
       "      <td>9</td>\n",
       "      <td>Baltimore OriolesBoston Red Sox20230330</td>\n",
       "      <td>False</td>\n",
       "      <td>f2912049aeca157ded4e77586ad96b6f</td>\n",
       "      <td>2023-03-30 11:10:00</td>\n",
       "      <td>2023-03-30 14:15:00</td>\n",
       "      <td>...</td>\n",
       "      <td>Baltimore OriolesBoston Red Sox20230330</td>\n",
       "      <td>Baltimore OriolesBoston Red Sox20230330_0</td>\n",
       "      <td>0</td>\n",
       "      <td>Thu</td>\n",
       "      <td>AL</td>\n",
       "      <td>1.0</td>\n",
       "      <td>AL</td>\n",
       "      <td>1.0</td>\n",
       "      <td>D</td>\n",
       "      <td>BOS07</td>\n",
       "    </tr>\n",
       "  </tbody>\n",
       "</table>\n",
       "<p>5 rows × 179 columns</p>\n",
       "</div>"
      ],
      "text/plain": [
       "     date_x        away_team_x  away_score     home_team_x  home_score  \\\n",
       "0  20230330  Baltimore Orioles          10  Boston Red Sox           9   \n",
       "1  20230330  Baltimore Orioles          10  Boston Red Sox           9   \n",
       "2  20230330  Baltimore Orioles          10  Boston Red Sox           9   \n",
       "3  20230330  Baltimore Orioles          10  Boston Red Sox           9   \n",
       "4  20230330  Baltimore Orioles          10  Boston Red Sox           9   \n",
       "\n",
       "                                 game_id_x  winner_home  \\\n",
       "0  Baltimore OriolesBoston Red Sox20230330        False   \n",
       "1  Baltimore OriolesBoston Red Sox20230330        False   \n",
       "2  Baltimore OriolesBoston Red Sox20230330        False   \n",
       "3  Baltimore OriolesBoston Red Sox20230330        False   \n",
       "4  Baltimore OriolesBoston Red Sox20230330        False   \n",
       "\n",
       "                          game_id_y       commence_time         time_pulled  \\\n",
       "0  f2912049aeca157ded4e77586ad96b6f 2023-03-30 11:10:00 2023-03-30 14:35:00   \n",
       "1  f2912049aeca157ded4e77586ad96b6f 2023-03-30 11:10:00 2023-03-30 14:30:00   \n",
       "2  f2912049aeca157ded4e77586ad96b6f 2023-03-30 11:10:00 2023-03-30 14:25:00   \n",
       "3  f2912049aeca157ded4e77586ad96b6f 2023-03-30 11:10:00 2023-03-30 14:20:00   \n",
       "4  f2912049aeca157ded4e77586ad96b6f 2023-03-30 11:10:00 2023-03-30 14:15:00   \n",
       "\n",
       "   ...                                    my_id  \\\n",
       "0  ...  Baltimore OriolesBoston Red Sox20230330   \n",
       "1  ...  Baltimore OriolesBoston Red Sox20230330   \n",
       "2  ...  Baltimore OriolesBoston Red Sox20230330   \n",
       "3  ...  Baltimore OriolesBoston Red Sox20230330   \n",
       "4  ...  Baltimore OriolesBoston Red Sox20230330   \n",
       "\n",
       "                            my_game_id_final  number_of_game_today  \\\n",
       "0  Baltimore OriolesBoston Red Sox20230330_0                     0   \n",
       "1  Baltimore OriolesBoston Red Sox20230330_0                     0   \n",
       "2  Baltimore OriolesBoston Red Sox20230330_0                     0   \n",
       "3  Baltimore OriolesBoston Red Sox20230330_0                     0   \n",
       "4  Baltimore OriolesBoston Red Sox20230330_0                     0   \n",
       "\n",
       "  day_of_week  away_team_league away_team_game_number  home_team_league  \\\n",
       "0         Thu                AL                   1.0                AL   \n",
       "1         Thu                AL                   1.0                AL   \n",
       "2         Thu                AL                   1.0                AL   \n",
       "3         Thu                AL                   1.0                AL   \n",
       "4         Thu                AL                   1.0                AL   \n",
       "\n",
       "  home_team_game_number  day_night park_id  \n",
       "0                   1.0          D   BOS07  \n",
       "1                   1.0          D   BOS07  \n",
       "2                   1.0          D   BOS07  \n",
       "3                   1.0          D   BOS07  \n",
       "4                   1.0          D   BOS07  \n",
       "\n",
       "[5 rows x 179 columns]"
      ]
     },
     "execution_count": 104,
     "metadata": {},
     "output_type": "execute_result"
    }
   ],
   "source": [
    "merged_df.head()"
   ]
  },
  {
   "cell_type": "code",
   "execution_count": 105,
   "metadata": {},
   "outputs": [],
   "source": [
    "merged_df.rename(columns={'away_team_x' : 'team_1'}, inplace=True)\n",
    "merged_df.rename(columns={'home_team_x' : 'team_2'}, inplace=True)\n",
    "merged_df.rename(columns={'away_team_y' : 'away_team'}, inplace=True)\n",
    "merged_df.rename(columns={'home_team_y' : 'home_team'}, inplace=True)\n",
    "merged_df.rename(columns={'game_id_y' : 'game_id'}, inplace=True)\n",
    "merged_df.rename(columns={'date_y' : 'date'}, inplace=True)"
   ]
  },
  {
   "cell_type": "code",
   "execution_count": 106,
   "metadata": {},
   "outputs": [
    {
     "name": "stderr",
     "output_type": "stream",
     "text": [
      "/var/folders/45/vvds_7n55h151_y61fjd1fmc0000gn/T/ipykernel_3579/226154304.py:1: PerformanceWarning: DataFrame is highly fragmented.  This is usually the result of calling `frame.insert` many times, which has poor performance.  Consider joining all columns at once using pd.concat(axis=1) instead. To get a de-fragmented frame, use `newframe = frame.copy()`\n",
      "  merged_df['winning_team'] = np.where(merged_df['winner_home'] == True, merged_df['home_team'], merged_df['away_team'])\n"
     ]
    }
   ],
   "source": [
    "merged_df['winning_team'] = np.where(merged_df['winner_home'] == True, merged_df['home_team'], merged_df['away_team'])"
   ]
  },
  {
   "cell_type": "code",
   "execution_count": 110,
   "metadata": {},
   "outputs": [
    {
     "name": "stdout",
     "output_type": "stream",
     "text": [
      "Number of NaN values in 'winning_team': 12083\n",
      "Number of NaN values in 'winning_team' after drop: 0\n"
     ]
    }
   ],
   "source": [
    "# Observations where we don't have winning team data. If we update our score data from the same site these should decrease\n",
    "nan_count = merged_df['winning_team'].isna().sum()\n",
    "\n",
    "print(\"Number of NaN values in 'winning_team':\", nan_count)\n",
    "\n",
    "# Drop rows where the value of 'Column_Name' is NaN\n",
    "merged_df = merged_df.dropna(subset=['winning_team'], axis=0)\n",
    "\n",
    "nan_count = merged_df['winning_team'].isna().sum()\n",
    "\n",
    "print(\"Number of NaN values in 'winning_team' after drop:\", nan_count)"
   ]
  },
  {
   "cell_type": "code",
   "execution_count": 111,
   "metadata": {},
   "outputs": [
    {
     "data": {
      "text/html": [
       "<div>\n",
       "<style scoped>\n",
       "    .dataframe tbody tr th:only-of-type {\n",
       "        vertical-align: middle;\n",
       "    }\n",
       "\n",
       "    .dataframe tbody tr th {\n",
       "        vertical-align: top;\n",
       "    }\n",
       "\n",
       "    .dataframe thead th {\n",
       "        text-align: right;\n",
       "    }\n",
       "</style>\n",
       "<table border=\"1\" class=\"dataframe\">\n",
       "  <thead>\n",
       "    <tr style=\"text-align: right;\">\n",
       "      <th></th>\n",
       "      <th>date_x</th>\n",
       "      <th>team_1</th>\n",
       "      <th>away_score</th>\n",
       "      <th>team_2</th>\n",
       "      <th>home_score</th>\n",
       "      <th>game_id_x</th>\n",
       "      <th>winner_home</th>\n",
       "      <th>game_id</th>\n",
       "      <th>commence_time</th>\n",
       "      <th>time_pulled</th>\n",
       "      <th>...</th>\n",
       "      <th>my_game_id_final</th>\n",
       "      <th>number_of_game_today</th>\n",
       "      <th>day_of_week</th>\n",
       "      <th>away_team_league</th>\n",
       "      <th>away_team_game_number</th>\n",
       "      <th>home_team_league</th>\n",
       "      <th>home_team_game_number</th>\n",
       "      <th>day_night</th>\n",
       "      <th>park_id</th>\n",
       "      <th>winning_team</th>\n",
       "    </tr>\n",
       "  </thead>\n",
       "  <tbody>\n",
       "    <tr>\n",
       "      <th>0</th>\n",
       "      <td>20230330</td>\n",
       "      <td>Baltimore Orioles</td>\n",
       "      <td>10</td>\n",
       "      <td>Boston Red Sox</td>\n",
       "      <td>9</td>\n",
       "      <td>Baltimore OriolesBoston Red Sox20230330</td>\n",
       "      <td>False</td>\n",
       "      <td>f2912049aeca157ded4e77586ad96b6f</td>\n",
       "      <td>2023-03-30 11:10:00</td>\n",
       "      <td>2023-03-30 14:35:00</td>\n",
       "      <td>...</td>\n",
       "      <td>Baltimore OriolesBoston Red Sox20230330_0</td>\n",
       "      <td>0</td>\n",
       "      <td>Thu</td>\n",
       "      <td>AL</td>\n",
       "      <td>1.0</td>\n",
       "      <td>AL</td>\n",
       "      <td>1.0</td>\n",
       "      <td>D</td>\n",
       "      <td>BOS07</td>\n",
       "      <td>Baltimore Orioles</td>\n",
       "    </tr>\n",
       "    <tr>\n",
       "      <th>1</th>\n",
       "      <td>20230330</td>\n",
       "      <td>Baltimore Orioles</td>\n",
       "      <td>10</td>\n",
       "      <td>Boston Red Sox</td>\n",
       "      <td>9</td>\n",
       "      <td>Baltimore OriolesBoston Red Sox20230330</td>\n",
       "      <td>False</td>\n",
       "      <td>f2912049aeca157ded4e77586ad96b6f</td>\n",
       "      <td>2023-03-30 11:10:00</td>\n",
       "      <td>2023-03-30 14:30:00</td>\n",
       "      <td>...</td>\n",
       "      <td>Baltimore OriolesBoston Red Sox20230330_0</td>\n",
       "      <td>0</td>\n",
       "      <td>Thu</td>\n",
       "      <td>AL</td>\n",
       "      <td>1.0</td>\n",
       "      <td>AL</td>\n",
       "      <td>1.0</td>\n",
       "      <td>D</td>\n",
       "      <td>BOS07</td>\n",
       "      <td>Baltimore Orioles</td>\n",
       "    </tr>\n",
       "    <tr>\n",
       "      <th>2</th>\n",
       "      <td>20230330</td>\n",
       "      <td>Baltimore Orioles</td>\n",
       "      <td>10</td>\n",
       "      <td>Boston Red Sox</td>\n",
       "      <td>9</td>\n",
       "      <td>Baltimore OriolesBoston Red Sox20230330</td>\n",
       "      <td>False</td>\n",
       "      <td>f2912049aeca157ded4e77586ad96b6f</td>\n",
       "      <td>2023-03-30 11:10:00</td>\n",
       "      <td>2023-03-30 14:25:00</td>\n",
       "      <td>...</td>\n",
       "      <td>Baltimore OriolesBoston Red Sox20230330_0</td>\n",
       "      <td>0</td>\n",
       "      <td>Thu</td>\n",
       "      <td>AL</td>\n",
       "      <td>1.0</td>\n",
       "      <td>AL</td>\n",
       "      <td>1.0</td>\n",
       "      <td>D</td>\n",
       "      <td>BOS07</td>\n",
       "      <td>Baltimore Orioles</td>\n",
       "    </tr>\n",
       "    <tr>\n",
       "      <th>3</th>\n",
       "      <td>20230330</td>\n",
       "      <td>Baltimore Orioles</td>\n",
       "      <td>10</td>\n",
       "      <td>Boston Red Sox</td>\n",
       "      <td>9</td>\n",
       "      <td>Baltimore OriolesBoston Red Sox20230330</td>\n",
       "      <td>False</td>\n",
       "      <td>f2912049aeca157ded4e77586ad96b6f</td>\n",
       "      <td>2023-03-30 11:10:00</td>\n",
       "      <td>2023-03-30 14:20:00</td>\n",
       "      <td>...</td>\n",
       "      <td>Baltimore OriolesBoston Red Sox20230330_0</td>\n",
       "      <td>0</td>\n",
       "      <td>Thu</td>\n",
       "      <td>AL</td>\n",
       "      <td>1.0</td>\n",
       "      <td>AL</td>\n",
       "      <td>1.0</td>\n",
       "      <td>D</td>\n",
       "      <td>BOS07</td>\n",
       "      <td>Baltimore Orioles</td>\n",
       "    </tr>\n",
       "    <tr>\n",
       "      <th>4</th>\n",
       "      <td>20230330</td>\n",
       "      <td>Baltimore Orioles</td>\n",
       "      <td>10</td>\n",
       "      <td>Boston Red Sox</td>\n",
       "      <td>9</td>\n",
       "      <td>Baltimore OriolesBoston Red Sox20230330</td>\n",
       "      <td>False</td>\n",
       "      <td>f2912049aeca157ded4e77586ad96b6f</td>\n",
       "      <td>2023-03-30 11:10:00</td>\n",
       "      <td>2023-03-30 14:15:00</td>\n",
       "      <td>...</td>\n",
       "      <td>Baltimore OriolesBoston Red Sox20230330_0</td>\n",
       "      <td>0</td>\n",
       "      <td>Thu</td>\n",
       "      <td>AL</td>\n",
       "      <td>1.0</td>\n",
       "      <td>AL</td>\n",
       "      <td>1.0</td>\n",
       "      <td>D</td>\n",
       "      <td>BOS07</td>\n",
       "      <td>Baltimore Orioles</td>\n",
       "    </tr>\n",
       "  </tbody>\n",
       "</table>\n",
       "<p>5 rows × 180 columns</p>\n",
       "</div>"
      ],
      "text/plain": [
       "     date_x             team_1  away_score          team_2  home_score  \\\n",
       "0  20230330  Baltimore Orioles          10  Boston Red Sox           9   \n",
       "1  20230330  Baltimore Orioles          10  Boston Red Sox           9   \n",
       "2  20230330  Baltimore Orioles          10  Boston Red Sox           9   \n",
       "3  20230330  Baltimore Orioles          10  Boston Red Sox           9   \n",
       "4  20230330  Baltimore Orioles          10  Boston Red Sox           9   \n",
       "\n",
       "                                 game_id_x  winner_home  \\\n",
       "0  Baltimore OriolesBoston Red Sox20230330        False   \n",
       "1  Baltimore OriolesBoston Red Sox20230330        False   \n",
       "2  Baltimore OriolesBoston Red Sox20230330        False   \n",
       "3  Baltimore OriolesBoston Red Sox20230330        False   \n",
       "4  Baltimore OriolesBoston Red Sox20230330        False   \n",
       "\n",
       "                            game_id       commence_time         time_pulled  \\\n",
       "0  f2912049aeca157ded4e77586ad96b6f 2023-03-30 11:10:00 2023-03-30 14:35:00   \n",
       "1  f2912049aeca157ded4e77586ad96b6f 2023-03-30 11:10:00 2023-03-30 14:30:00   \n",
       "2  f2912049aeca157ded4e77586ad96b6f 2023-03-30 11:10:00 2023-03-30 14:25:00   \n",
       "3  f2912049aeca157ded4e77586ad96b6f 2023-03-30 11:10:00 2023-03-30 14:20:00   \n",
       "4  f2912049aeca157ded4e77586ad96b6f 2023-03-30 11:10:00 2023-03-30 14:15:00   \n",
       "\n",
       "   ...                           my_game_id_final number_of_game_today  \\\n",
       "0  ...  Baltimore OriolesBoston Red Sox20230330_0                    0   \n",
       "1  ...  Baltimore OriolesBoston Red Sox20230330_0                    0   \n",
       "2  ...  Baltimore OriolesBoston Red Sox20230330_0                    0   \n",
       "3  ...  Baltimore OriolesBoston Red Sox20230330_0                    0   \n",
       "4  ...  Baltimore OriolesBoston Red Sox20230330_0                    0   \n",
       "\n",
       "   day_of_week away_team_league  away_team_game_number home_team_league  \\\n",
       "0          Thu               AL                    1.0               AL   \n",
       "1          Thu               AL                    1.0               AL   \n",
       "2          Thu               AL                    1.0               AL   \n",
       "3          Thu               AL                    1.0               AL   \n",
       "4          Thu               AL                    1.0               AL   \n",
       "\n",
       "   home_team_game_number day_night  park_id       winning_team  \n",
       "0                    1.0         D    BOS07  Baltimore Orioles  \n",
       "1                    1.0         D    BOS07  Baltimore Orioles  \n",
       "2                    1.0         D    BOS07  Baltimore Orioles  \n",
       "3                    1.0         D    BOS07  Baltimore Orioles  \n",
       "4                    1.0         D    BOS07  Baltimore Orioles  \n",
       "\n",
       "[5 rows x 180 columns]"
      ]
     },
     "execution_count": 111,
     "metadata": {},
     "output_type": "execute_result"
    }
   ],
   "source": [
    "merged_df.head()"
   ]
  },
  {
   "cell_type": "code",
   "execution_count": 125,
   "metadata": {},
   "outputs": [
    {
     "data": {
      "text/plain": [
       "['team_1',\n",
       " 'team_2',\n",
       " 'game_id',\n",
       " 'commence_time',\n",
       " 'time_pulled',\n",
       " 'home_team',\n",
       " 'away_team',\n",
       " 'barstool_1_odds',\n",
       " 'barstool_1_time',\n",
       " 'barstool_2_odds',\n",
       " 'barstool_2_time',\n",
       " 'betclic_1_odds',\n",
       " 'betclic_1_time',\n",
       " 'betclic_2_odds',\n",
       " 'betclic_2_time',\n",
       " 'betfair_1_odds',\n",
       " 'betfair_1_time',\n",
       " 'betfair_2_odds',\n",
       " 'betfair_2_time',\n",
       " 'betfred_1_odds',\n",
       " 'betfred_1_time',\n",
       " 'betfred_2_odds',\n",
       " 'betfred_2_time',\n",
       " 'betmgm_1_odds',\n",
       " 'betmgm_1_time',\n",
       " 'betmgm_2_odds',\n",
       " 'betmgm_2_time',\n",
       " 'betonlineag_1_odds',\n",
       " 'betonlineag_1_time',\n",
       " 'betonlineag_2_odds',\n",
       " 'betonlineag_2_time',\n",
       " 'betrivers_1_odds',\n",
       " 'betrivers_1_time',\n",
       " 'betrivers_2_odds',\n",
       " 'betrivers_2_time',\n",
       " 'betus_1_odds',\n",
       " 'betus_1_time',\n",
       " 'betus_2_odds',\n",
       " 'betus_2_time',\n",
       " 'betway_1_odds',\n",
       " 'betway_1_time',\n",
       " 'betway_2_odds',\n",
       " 'betway_2_time',\n",
       " 'bovada_1_odds',\n",
       " 'bovada_1_time',\n",
       " 'bovada_2_odds',\n",
       " 'bovada_2_time',\n",
       " 'casumo_1_odds',\n",
       " 'casumo_1_time',\n",
       " 'casumo_2_odds',\n",
       " 'casumo_2_time',\n",
       " 'circasports_1_odds',\n",
       " 'circasports_1_time',\n",
       " 'circasports_2_odds',\n",
       " 'circasports_2_time',\n",
       " 'coral_1_odds',\n",
       " 'coral_1_time',\n",
       " 'coral_2_odds',\n",
       " 'coral_2_time',\n",
       " 'draftkings_1_odds',\n",
       " 'draftkings_1_time',\n",
       " 'draftkings_2_odds',\n",
       " 'draftkings_2_time',\n",
       " 'fanduel_1_odds',\n",
       " 'fanduel_1_time',\n",
       " 'fanduel_2_odds',\n",
       " 'fanduel_2_time',\n",
       " 'foxbet_1_odds',\n",
       " 'foxbet_1_time',\n",
       " 'foxbet_2_odds',\n",
       " 'foxbet_2_time',\n",
       " 'gtbets_1_odds',\n",
       " 'gtbets_1_time',\n",
       " 'gtbets_2_odds',\n",
       " 'gtbets_2_time',\n",
       " 'ladbrokes_1_odds',\n",
       " 'ladbrokes_1_time',\n",
       " 'ladbrokes_2_odds',\n",
       " 'ladbrokes_2_time',\n",
       " 'lowvig_1_odds',\n",
       " 'lowvig_1_time',\n",
       " 'lowvig_2_odds',\n",
       " 'lowvig_2_time',\n",
       " 'marathonbet_1_odds',\n",
       " 'marathonbet_1_time',\n",
       " 'marathonbet_2_odds',\n",
       " 'marathonbet_2_time',\n",
       " 'matchbook_1_odds',\n",
       " 'matchbook_1_time',\n",
       " 'matchbook_2_odds',\n",
       " 'matchbook_2_time',\n",
       " 'mrgreen_1_odds',\n",
       " 'mrgreen_1_time',\n",
       " 'mrgreen_2_odds',\n",
       " 'mrgreen_2_time',\n",
       " 'mybookieag_1_odds',\n",
       " 'mybookieag_1_time',\n",
       " 'mybookieag_2_odds',\n",
       " 'mybookieag_2_time',\n",
       " 'nordicbet_1_odds',\n",
       " 'nordicbet_1_time',\n",
       " 'nordicbet_2_odds',\n",
       " 'nordicbet_2_time',\n",
       " 'onexbet_1_odds',\n",
       " 'onexbet_1_time',\n",
       " 'onexbet_2_odds',\n",
       " 'onexbet_2_time',\n",
       " 'paddypower_1_odds',\n",
       " 'paddypower_1_time',\n",
       " 'paddypower_2_odds',\n",
       " 'paddypower_2_time',\n",
       " 'pinnacle_1_odds',\n",
       " 'pinnacle_1_time',\n",
       " 'pinnacle_2_odds',\n",
       " 'pinnacle_2_time',\n",
       " 'pointsbetus_1_odds',\n",
       " 'pointsbetus_1_time',\n",
       " 'pointsbetus_2_odds',\n",
       " 'pointsbetus_2_time',\n",
       " 'sport888_1_odds',\n",
       " 'sport888_1_time',\n",
       " 'sport888_2_odds',\n",
       " 'sport888_2_time',\n",
       " 'sugarhouse_1_odds',\n",
       " 'sugarhouse_1_time',\n",
       " 'sugarhouse_2_odds',\n",
       " 'sugarhouse_2_time',\n",
       " 'superbook_1_odds',\n",
       " 'superbook_1_time',\n",
       " 'superbook_2_odds',\n",
       " 'superbook_2_time',\n",
       " 'twinspires_1_odds',\n",
       " 'twinspires_1_time',\n",
       " 'twinspires_2_odds',\n",
       " 'twinspires_2_time',\n",
       " 'unibet_1_odds',\n",
       " 'unibet_1_time',\n",
       " 'unibet_2_odds',\n",
       " 'unibet_2_time',\n",
       " 'unibet_eu_1_odds',\n",
       " 'unibet_eu_1_time',\n",
       " 'unibet_eu_2_odds',\n",
       " 'unibet_eu_2_time',\n",
       " 'unibet_uk_1_odds',\n",
       " 'unibet_uk_1_time',\n",
       " 'unibet_uk_2_odds',\n",
       " 'unibet_uk_2_time',\n",
       " 'unibet_us_1_odds',\n",
       " 'unibet_us_1_time',\n",
       " 'unibet_us_2_odds',\n",
       " 'unibet_us_2_time',\n",
       " 'williamhill_1_odds',\n",
       " 'williamhill_1_time',\n",
       " 'williamhill_2_odds',\n",
       " 'williamhill_2_time',\n",
       " 'williamhill_us_1_odds',\n",
       " 'williamhill_us_1_time',\n",
       " 'williamhill_us_2_odds',\n",
       " 'williamhill_us_2_time',\n",
       " 'wynnbet_1_odds',\n",
       " 'wynnbet_1_time',\n",
       " 'wynnbet_2_odds',\n",
       " 'wynnbet_2_time',\n",
       " 'date',\n",
       " 'my_id',\n",
       " 'my_game_id_final',\n",
       " 'number_of_game_today',\n",
       " 'day_of_week',\n",
       " 'away_team_league',\n",
       " 'away_team_game_number',\n",
       " 'home_team_league',\n",
       " 'home_team_game_number',\n",
       " 'day_night',\n",
       " 'park_id',\n",
       " 'winning_team']"
      ]
     },
     "execution_count": 125,
     "metadata": {},
     "output_type": "execute_result"
    }
   ],
   "source": [
    "merged_df.columns.tolist()"
   ]
  },
  {
   "cell_type": "code",
   "execution_count": 50,
   "metadata": {},
   "outputs": [],
   "source": [
    "# Did this part manually in excel before prepreocessing\n",
    "\n",
    "# cols_to_drop = ['date_x', 'away_score', 'home_score', 'game_id_x', 'winner_home', '1.7','7/19/23 15:50','2.2','7/19/23 15:50.1','1.73', '7/19/23 15:49','2.15','7/19/23 15:49.1','1.73.1','7/19/23 15:50.2','2.15.1','7/19/23 15:50.3','1.75','7/19/23 15:50.4','2.3','7/19/23 15:50.5','1.75.1','7/19/23 15:49.2','2.3.1','7/19/23 15:49.3','1.65','7/19/23 15:49.4','2.15.2','7/19/23 15:49.5']\n",
    "\n",
    "# merged_df.drop(columns=cols_to_drop, inplace=True)"
   ]
  },
  {
   "cell_type": "code",
   "execution_count": 114,
   "metadata": {},
   "outputs": [],
   "source": [
    "cols_to_drop = ['date_x', 'away_score', 'home_score', 'game_id_x', 'winner_home']\n",
    "merged_df.drop(columns=cols_to_drop, inplace=True)"
   ]
  },
  {
   "cell_type": "code",
   "execution_count": 115,
   "metadata": {},
   "outputs": [
    {
     "data": {
      "text/plain": [
       "175"
      ]
     },
     "execution_count": 115,
     "metadata": {},
     "output_type": "execute_result"
    }
   ],
   "source": [
    "len(merged_df.columns.tolist())"
   ]
  },
  {
   "cell_type": "code",
   "execution_count": 120,
   "metadata": {},
   "outputs": [],
   "source": [
    "merged_df.to_parquet(\"/Users/stefanfeiler/Desktop/SmartBetter_site/website/mlb_data/2023_data_for_val.parquet\")"
   ]
  },
  {
   "cell_type": "code",
   "execution_count": 123,
   "metadata": {},
   "outputs": [],
   "source": [
    "merged_df.to_csv(\"/Users/stefanfeiler/Desktop/SmartBetter_site/website/mlb_data/2023_data_for_val.csv\")"
   ]
  },
  {
   "cell_type": "code",
   "execution_count": 122,
   "metadata": {},
   "outputs": [
    {
     "data": {
      "text/plain": [
       "270289"
      ]
     },
     "execution_count": 122,
     "metadata": {},
     "output_type": "execute_result"
    }
   ],
   "source": [
    "len(merged_df)"
   ]
  },
  {
   "cell_type": "code",
   "execution_count": 121,
   "metadata": {},
   "outputs": [
    {
     "data": {
      "text/html": [
       "<div>\n",
       "<style scoped>\n",
       "    .dataframe tbody tr th:only-of-type {\n",
       "        vertical-align: middle;\n",
       "    }\n",
       "\n",
       "    .dataframe tbody tr th {\n",
       "        vertical-align: top;\n",
       "    }\n",
       "\n",
       "    .dataframe thead th {\n",
       "        text-align: right;\n",
       "    }\n",
       "</style>\n",
       "<table border=\"1\" class=\"dataframe\">\n",
       "  <thead>\n",
       "    <tr style=\"text-align: right;\">\n",
       "      <th></th>\n",
       "      <th>team_1</th>\n",
       "      <th>team_2</th>\n",
       "      <th>game_id</th>\n",
       "      <th>commence_time</th>\n",
       "      <th>time_pulled</th>\n",
       "      <th>home_team</th>\n",
       "      <th>away_team</th>\n",
       "      <th>barstool_1_odds</th>\n",
       "      <th>barstool_1_time</th>\n",
       "      <th>barstool_2_odds</th>\n",
       "      <th>...</th>\n",
       "      <th>my_game_id_final</th>\n",
       "      <th>number_of_game_today</th>\n",
       "      <th>day_of_week</th>\n",
       "      <th>away_team_league</th>\n",
       "      <th>away_team_game_number</th>\n",
       "      <th>home_team_league</th>\n",
       "      <th>home_team_game_number</th>\n",
       "      <th>day_night</th>\n",
       "      <th>park_id</th>\n",
       "      <th>winning_team</th>\n",
       "    </tr>\n",
       "  </thead>\n",
       "  <tbody>\n",
       "    <tr>\n",
       "      <th>0</th>\n",
       "      <td>Baltimore Orioles</td>\n",
       "      <td>Boston Red Sox</td>\n",
       "      <td>f2912049aeca157ded4e77586ad96b6f</td>\n",
       "      <td>2023-03-30 11:10:00</td>\n",
       "      <td>2023-03-30 14:35:00</td>\n",
       "      <td>Boston Red Sox</td>\n",
       "      <td>Baltimore Orioles</td>\n",
       "      <td>1.04</td>\n",
       "      <td>2023-03-30 14:25:00</td>\n",
       "      <td>10.0</td>\n",
       "      <td>...</td>\n",
       "      <td>Baltimore OriolesBoston Red Sox20230330_0</td>\n",
       "      <td>0</td>\n",
       "      <td>Thu</td>\n",
       "      <td>AL</td>\n",
       "      <td>1.0</td>\n",
       "      <td>AL</td>\n",
       "      <td>1.0</td>\n",
       "      <td>D</td>\n",
       "      <td>BOS07</td>\n",
       "      <td>Baltimore Orioles</td>\n",
       "    </tr>\n",
       "    <tr>\n",
       "      <th>1</th>\n",
       "      <td>Baltimore Orioles</td>\n",
       "      <td>Boston Red Sox</td>\n",
       "      <td>f2912049aeca157ded4e77586ad96b6f</td>\n",
       "      <td>2023-03-30 11:10:00</td>\n",
       "      <td>2023-03-30 14:30:00</td>\n",
       "      <td>Boston Red Sox</td>\n",
       "      <td>Baltimore Orioles</td>\n",
       "      <td>1.04</td>\n",
       "      <td>2023-03-30 14:25:00</td>\n",
       "      <td>10.0</td>\n",
       "      <td>...</td>\n",
       "      <td>Baltimore OriolesBoston Red Sox20230330_0</td>\n",
       "      <td>0</td>\n",
       "      <td>Thu</td>\n",
       "      <td>AL</td>\n",
       "      <td>1.0</td>\n",
       "      <td>AL</td>\n",
       "      <td>1.0</td>\n",
       "      <td>D</td>\n",
       "      <td>BOS07</td>\n",
       "      <td>Baltimore Orioles</td>\n",
       "    </tr>\n",
       "    <tr>\n",
       "      <th>2</th>\n",
       "      <td>Baltimore Orioles</td>\n",
       "      <td>Boston Red Sox</td>\n",
       "      <td>f2912049aeca157ded4e77586ad96b6f</td>\n",
       "      <td>2023-03-30 11:10:00</td>\n",
       "      <td>2023-03-30 14:25:00</td>\n",
       "      <td>Boston Red Sox</td>\n",
       "      <td>Baltimore Orioles</td>\n",
       "      <td>1.04</td>\n",
       "      <td>2023-03-30 14:25:00</td>\n",
       "      <td>10.0</td>\n",
       "      <td>...</td>\n",
       "      <td>Baltimore OriolesBoston Red Sox20230330_0</td>\n",
       "      <td>0</td>\n",
       "      <td>Thu</td>\n",
       "      <td>AL</td>\n",
       "      <td>1.0</td>\n",
       "      <td>AL</td>\n",
       "      <td>1.0</td>\n",
       "      <td>D</td>\n",
       "      <td>BOS07</td>\n",
       "      <td>Baltimore Orioles</td>\n",
       "    </tr>\n",
       "    <tr>\n",
       "      <th>3</th>\n",
       "      <td>Baltimore Orioles</td>\n",
       "      <td>Boston Red Sox</td>\n",
       "      <td>f2912049aeca157ded4e77586ad96b6f</td>\n",
       "      <td>2023-03-30 11:10:00</td>\n",
       "      <td>2023-03-30 14:20:00</td>\n",
       "      <td>Boston Red Sox</td>\n",
       "      <td>Baltimore Orioles</td>\n",
       "      <td>1.16</td>\n",
       "      <td>2023-03-30 14:19:00</td>\n",
       "      <td>5.1</td>\n",
       "      <td>...</td>\n",
       "      <td>Baltimore OriolesBoston Red Sox20230330_0</td>\n",
       "      <td>0</td>\n",
       "      <td>Thu</td>\n",
       "      <td>AL</td>\n",
       "      <td>1.0</td>\n",
       "      <td>AL</td>\n",
       "      <td>1.0</td>\n",
       "      <td>D</td>\n",
       "      <td>BOS07</td>\n",
       "      <td>Baltimore Orioles</td>\n",
       "    </tr>\n",
       "    <tr>\n",
       "      <th>4</th>\n",
       "      <td>Baltimore Orioles</td>\n",
       "      <td>Boston Red Sox</td>\n",
       "      <td>f2912049aeca157ded4e77586ad96b6f</td>\n",
       "      <td>2023-03-30 11:10:00</td>\n",
       "      <td>2023-03-30 14:15:00</td>\n",
       "      <td>Boston Red Sox</td>\n",
       "      <td>Baltimore Orioles</td>\n",
       "      <td>1.16</td>\n",
       "      <td>2023-03-30 14:15:00</td>\n",
       "      <td>5.1</td>\n",
       "      <td>...</td>\n",
       "      <td>Baltimore OriolesBoston Red Sox20230330_0</td>\n",
       "      <td>0</td>\n",
       "      <td>Thu</td>\n",
       "      <td>AL</td>\n",
       "      <td>1.0</td>\n",
       "      <td>AL</td>\n",
       "      <td>1.0</td>\n",
       "      <td>D</td>\n",
       "      <td>BOS07</td>\n",
       "      <td>Baltimore Orioles</td>\n",
       "    </tr>\n",
       "  </tbody>\n",
       "</table>\n",
       "<p>5 rows × 175 columns</p>\n",
       "</div>"
      ],
      "text/plain": [
       "              team_1          team_2                           game_id  \\\n",
       "0  Baltimore Orioles  Boston Red Sox  f2912049aeca157ded4e77586ad96b6f   \n",
       "1  Baltimore Orioles  Boston Red Sox  f2912049aeca157ded4e77586ad96b6f   \n",
       "2  Baltimore Orioles  Boston Red Sox  f2912049aeca157ded4e77586ad96b6f   \n",
       "3  Baltimore Orioles  Boston Red Sox  f2912049aeca157ded4e77586ad96b6f   \n",
       "4  Baltimore Orioles  Boston Red Sox  f2912049aeca157ded4e77586ad96b6f   \n",
       "\n",
       "        commence_time         time_pulled       home_team          away_team  \\\n",
       "0 2023-03-30 11:10:00 2023-03-30 14:35:00  Boston Red Sox  Baltimore Orioles   \n",
       "1 2023-03-30 11:10:00 2023-03-30 14:30:00  Boston Red Sox  Baltimore Orioles   \n",
       "2 2023-03-30 11:10:00 2023-03-30 14:25:00  Boston Red Sox  Baltimore Orioles   \n",
       "3 2023-03-30 11:10:00 2023-03-30 14:20:00  Boston Red Sox  Baltimore Orioles   \n",
       "4 2023-03-30 11:10:00 2023-03-30 14:15:00  Boston Red Sox  Baltimore Orioles   \n",
       "\n",
       "   barstool_1_odds     barstool_1_time  barstool_2_odds  ...  \\\n",
       "0             1.04 2023-03-30 14:25:00             10.0  ...   \n",
       "1             1.04 2023-03-30 14:25:00             10.0  ...   \n",
       "2             1.04 2023-03-30 14:25:00             10.0  ...   \n",
       "3             1.16 2023-03-30 14:19:00              5.1  ...   \n",
       "4             1.16 2023-03-30 14:15:00              5.1  ...   \n",
       "\n",
       "                            my_game_id_final  number_of_game_today  \\\n",
       "0  Baltimore OriolesBoston Red Sox20230330_0                     0   \n",
       "1  Baltimore OriolesBoston Red Sox20230330_0                     0   \n",
       "2  Baltimore OriolesBoston Red Sox20230330_0                     0   \n",
       "3  Baltimore OriolesBoston Red Sox20230330_0                     0   \n",
       "4  Baltimore OriolesBoston Red Sox20230330_0                     0   \n",
       "\n",
       "  day_of_week  away_team_league away_team_game_number  home_team_league  \\\n",
       "0         Thu                AL                   1.0                AL   \n",
       "1         Thu                AL                   1.0                AL   \n",
       "2         Thu                AL                   1.0                AL   \n",
       "3         Thu                AL                   1.0                AL   \n",
       "4         Thu                AL                   1.0                AL   \n",
       "\n",
       "  home_team_game_number  day_night park_id       winning_team  \n",
       "0                   1.0          D   BOS07  Baltimore Orioles  \n",
       "1                   1.0          D   BOS07  Baltimore Orioles  \n",
       "2                   1.0          D   BOS07  Baltimore Orioles  \n",
       "3                   1.0          D   BOS07  Baltimore Orioles  \n",
       "4                   1.0          D   BOS07  Baltimore Orioles  \n",
       "\n",
       "[5 rows x 175 columns]"
      ]
     },
     "execution_count": 121,
     "metadata": {},
     "output_type": "execute_result"
    }
   ],
   "source": [
    "merged_df.head()"
   ]
  },
  {
   "attachments": {},
   "cell_type": "markdown",
   "metadata": {},
   "source": [
    "THIS IS WHERE MICAHS WORK STOPS. THIS IS ONLY A SUBSET OF THE DATA BUT CAN BE EASILY ADAPTED ONCE WE HAVE ALL DATA"
   ]
  },
  {
   "cell_type": "code",
   "execution_count": 27,
   "metadata": {},
   "outputs": [],
   "source": [
    "raw_first_1000 = raw.head(1000)\n",
    "raw_first_1000.to_csv('/Users/stefanfeiler/Desktop/SmartBetter/SmartBetter/data/mlb_raw_final_first_1000.csv',index=False)"
   ]
  },
  {
   "cell_type": "code",
   "execution_count": 28,
   "metadata": {},
   "outputs": [],
   "source": [
    "raw.to_csv('/Users/stefanfeiler/Desktop/SmartBetter/SmartBetter/data/mlb_raw_final_categories.csv',index=False)"
   ]
  },
  {
   "cell_type": "code",
   "execution_count": 29,
   "metadata": {},
   "outputs": [],
   "source": [
    "raw.to_parquet('/Users/stefanfeiler/Desktop/SmartBetter/SmartBetter/data/mlb_raw_final_categories.parquet', index=False)"
   ]
  },
  {
   "cell_type": "code",
   "execution_count": 30,
   "metadata": {},
   "outputs": [],
   "source": [
    "raw = pd.read_parquet('/Users/stefanfeiler/Desktop/SmartBetter/SmartBetter/data/mlb_raw_final_categories.parquet')"
   ]
  },
  {
   "attachments": {},
   "cell_type": "markdown",
   "metadata": {},
   "source": [
    "# DONE!!!!"
   ]
  },
  {
   "cell_type": "code",
   "execution_count": 31,
   "metadata": {},
   "outputs": [],
   "source": [
    "# Some extra cleaning. We want to drop all columns where we don't know "
   ]
  },
  {
   "attachments": {},
   "cell_type": "markdown",
   "metadata": {},
   "source": [
    "# BEFORE WE DO ANYTHING, WE NEED TO READ IN THE FULL RAW CSV AND SAVE THE TEAM_1 AND TEAM_2 COLUMNS BACK INTO THE FINAL DF"
   ]
  },
  {
   "attachments": {},
   "cell_type": "markdown",
   "metadata": {},
   "source": [
    "raw = pd.read_parquet('/Users/stefanfeiler/Desktop/SmartBetter/SmartBetter/data/mlb_raw_final_categories.parquet')"
   ]
  },
  {
   "cell_type": "code",
   "execution_count": 32,
   "metadata": {},
   "outputs": [
    {
     "name": "stderr",
     "output_type": "stream",
     "text": [
      "/Users/stefanfeiler/Library/Python/3.9/lib/python/site-packages/IPython/core/interactiveshell.py:3505: DtypeWarning: Columns (90,92,94,96,110,112,114,116,118,120,122,124,126,128,130,132,134,136,138,140,142,144,146,148,150,152,154,156,158,160,162,164,166,168) have mixed types.Specify dtype option on import or set low_memory=False.\n",
      "  exec(code_obj, self.user_global_ns, self.user_ns)\n"
     ]
    }
   ],
   "source": [
    "raw_with_alpha_teams = pd.read_csv('/Users/stefanfeiler/Desktop/SmartBetter/SmartBetter/data/mlb_raw_full.csv')"
   ]
  },
  {
   "cell_type": "code",
   "execution_count": 33,
   "metadata": {},
   "outputs": [],
   "source": [
    "raw_home_away = pd.read_parquet('/Users/stefanfeiler/Desktop/SmartBetter/SmartBetter/data/mlb_raw_final_categories.parquet')"
   ]
  },
  {
   "cell_type": "code",
   "execution_count": 34,
   "metadata": {},
   "outputs": [
    {
     "name": "stdout",
     "output_type": "stream",
     "text": [
      "921714\n"
     ]
    }
   ],
   "source": [
    "print(len(raw_with_alpha_teams))"
   ]
  },
  {
   "cell_type": "code",
   "execution_count": 35,
   "metadata": {},
   "outputs": [
    {
     "name": "stdout",
     "output_type": "stream",
     "text": [
      "921714\n"
     ]
    }
   ],
   "source": [
    "print(len(raw_home_away))"
   ]
  },
  {
   "cell_type": "code",
   "execution_count": 36,
   "metadata": {},
   "outputs": [],
   "source": [
    "raw_home_away['team_1'] = raw_with_alpha_teams['home_team']\n",
    "raw_home_away['team_2'] = raw_with_alpha_teams['away_team']"
   ]
  },
  {
   "cell_type": "code",
   "execution_count": 37,
   "metadata": {},
   "outputs": [],
   "source": [
    "raw_home_away.to_parquet('/Users/stefanfeiler/Desktop/SmartBetter/SmartBetter/data/mlb_raw_final_categories.parquet', index=False)"
   ]
  },
  {
   "cell_type": "code",
   "execution_count": null,
   "metadata": {},
   "outputs": [],
   "source": []
  },
  {
   "attachments": {},
   "cell_type": "markdown",
   "metadata": {},
   "source": [
    "# More recent data"
   ]
  },
  {
   "cell_type": "code",
   "execution_count": 1,
   "metadata": {},
   "outputs": [],
   "source": [
    "# just found some more recent data. Have to process 2023 season up through the current date rn...."
   ]
  },
  {
   "cell_type": "code",
   "execution_count": 6,
   "metadata": {},
   "outputs": [],
   "source": [
    "names_file ='/Users/stefanfeiler/Desktop/SmartBetter/SmartBetter/data/names.csv'"
   ]
  },
  {
   "cell_type": "code",
   "execution_count": 7,
   "metadata": {},
   "outputs": [],
   "source": [
    "df = pd.read_csv(names_file)"
   ]
  },
  {
   "cell_type": "code",
   "execution_count": 8,
   "metadata": {},
   "outputs": [],
   "source": [
    "mapping_dict = {key: value for key, value in zip(df['abbrev'], df['full_name'])}"
   ]
  },
  {
   "cell_type": "code",
   "execution_count": 9,
   "metadata": {},
   "outputs": [],
   "source": [
    "extra_data_file = '/Users/stefanfeiler/Desktop/SmartBetter/SmartBetter/data/2023SKED.csv'"
   ]
  },
  {
   "cell_type": "code",
   "execution_count": 10,
   "metadata": {},
   "outputs": [],
   "source": [
    "extra_df = pd.read_csv(extra_data_file)"
   ]
  },
  {
   "cell_type": "code",
   "execution_count": 11,
   "metadata": {},
   "outputs": [],
   "source": [
    "extra_df = extra_df.replace(mapping_dict)"
   ]
  },
  {
   "cell_type": "code",
   "execution_count": 18,
   "metadata": {},
   "outputs": [],
   "source": [
    "extra_df.to_csv('/Users/stefanfeiler/Desktop/SmartBetter/SmartBetter/data/2023SKED_uniform_names.csv')"
   ]
  },
  {
   "cell_type": "code",
   "execution_count": 19,
   "metadata": {},
   "outputs": [],
   "source": [
    "# Nevermind! We don't have the scores....."
   ]
  },
  {
   "cell_type": "code",
   "execution_count": null,
   "metadata": {},
   "outputs": [],
   "source": [
    "# Nevermind again! Suck my cock "
   ]
  },
  {
   "cell_type": "code",
   "execution_count": 14,
   "metadata": {},
   "outputs": [],
   "source": [
    "import pandas as pd\n",
    "import plotly.express as px"
   ]
  },
  {
   "cell_type": "code",
   "execution_count": 15,
   "metadata": {},
   "outputs": [],
   "source": [
    "df = pd.read_csv('/Users/stefanfeiler/Desktop/another test final tonight copy.csv')"
   ]
  },
  {
   "cell_type": "code",
   "execution_count": 16,
   "metadata": {},
   "outputs": [
    {
     "data": {
      "application/vnd.plotly.v1+json": {
       "config": {
        "plotlyServerURL": "https://plot.ly"
       },
       "data": [
        {
         "alignmentgroup": "True",
         "hovertemplate": "Team=%{x}<br>Count=%{y}<br>target=%{marker.color}<extra></extra>",
         "legendgroup": "",
         "marker": {
          "color": [
           0,
           1,
           0,
           1,
           0,
           1,
           0,
           1,
           0,
           1,
           0,
           1,
           0,
           1,
           0,
           1,
           0,
           1,
           0,
           1,
           0,
           1,
           0,
           1,
           0,
           1,
           0,
           1,
           0,
           1,
           0,
           1,
           0,
           1,
           0,
           1,
           0,
           1,
           0,
           1,
           0,
           1,
           0,
           0,
           1,
           0,
           0,
           1,
           0,
           1,
           0,
           1,
           0,
           1,
           0,
           1
          ],
          "coloraxis": "coloraxis",
          "pattern": {
           "shape": ""
          }
         },
         "name": "",
         "offsetgroup": "",
         "orientation": "v",
         "showlegend": false,
         "textposition": "auto",
         "type": "bar",
         "x": [
          "Atlanta Braves",
          "Atlanta Braves",
          "Baltimore Orioles",
          "Baltimore Orioles",
          "Boston Red Sox",
          "Boston Red Sox",
          "Chicago Cubs",
          "Chicago Cubs",
          "Chicago White Sox",
          "Chicago White Sox",
          "Cincinnati Reds",
          "Cincinnati Reds",
          "Cleveland Guardians",
          "Cleveland Guardians",
          "Colorado Rockies",
          "Colorado Rockies",
          "Detroit Tigers",
          "Detroit Tigers",
          "Houston Astros",
          "Houston Astros",
          "Kansas City Royals",
          "Kansas City Royals",
          "Los Angeles Angels",
          "Los Angeles Angels",
          "Los Angeles Dodgers",
          "Los Angeles Dodgers",
          "Miami Marlins",
          "Miami Marlins",
          "Milwaukee Brewers",
          "Milwaukee Brewers",
          "Minnesota Twins",
          "Minnesota Twins",
          "New York Mets",
          "New York Mets",
          "New York Yankees",
          "New York Yankees",
          "Oakland Athletics",
          "Oakland Athletics",
          "Philadelphia Phillies",
          "Philadelphia Phillies",
          "Pittsburgh Pirates",
          "Pittsburgh Pirates",
          "San Diego Padres",
          "San Francisco Giants",
          "San Francisco Giants",
          "Seattle Mariners",
          "St. Louis Cardinals",
          "St. Louis Cardinals",
          "Tampa Bay Rays",
          "Tampa Bay Rays",
          "Texas Rangers",
          "Texas Rangers",
          "Toronto Blue Jays",
          "Toronto Blue Jays",
          "Washington Nationals",
          "Washington Nationals"
         ],
         "xaxis": "x",
         "y": [
          8,
          3,
          14,
          8,
          23,
          10,
          27,
          6,
          41,
          7,
          35,
          19,
          22,
          8,
          27,
          5,
          34,
          10,
          26,
          6,
          65,
          27,
          13,
          11,
          10,
          6,
          12,
          4,
          26,
          11,
          11,
          8,
          30,
          2,
          21,
          6,
          59,
          17,
          29,
          2,
          32,
          13,
          31,
          19,
          12,
          20,
          34,
          2,
          25,
          5,
          14,
          6,
          26,
          6,
          46,
          6
         ],
         "yaxis": "y"
        }
       ],
       "layout": {
        "barmode": "relative",
        "coloraxis": {
         "colorbar": {
          "title": {
           "text": "target"
          }
         },
         "colorscale": [
          [
           0,
           "#0d0887"
          ],
          [
           0.1111111111111111,
           "#46039f"
          ],
          [
           0.2222222222222222,
           "#7201a8"
          ],
          [
           0.3333333333333333,
           "#9c179e"
          ],
          [
           0.4444444444444444,
           "#bd3786"
          ],
          [
           0.5555555555555556,
           "#d8576b"
          ],
          [
           0.6666666666666666,
           "#ed7953"
          ],
          [
           0.7777777777777778,
           "#fb9f3a"
          ],
          [
           0.8888888888888888,
           "#fdca26"
          ],
          [
           1,
           "#f0f921"
          ]
         ]
        },
        "legend": {
         "tracegroupgap": 0
        },
        "template": {
         "data": {
          "bar": [
           {
            "error_x": {
             "color": "#2a3f5f"
            },
            "error_y": {
             "color": "#2a3f5f"
            },
            "marker": {
             "line": {
              "color": "#E5ECF6",
              "width": 0.5
             },
             "pattern": {
              "fillmode": "overlay",
              "size": 10,
              "solidity": 0.2
             }
            },
            "type": "bar"
           }
          ],
          "barpolar": [
           {
            "marker": {
             "line": {
              "color": "#E5ECF6",
              "width": 0.5
             },
             "pattern": {
              "fillmode": "overlay",
              "size": 10,
              "solidity": 0.2
             }
            },
            "type": "barpolar"
           }
          ],
          "carpet": [
           {
            "aaxis": {
             "endlinecolor": "#2a3f5f",
             "gridcolor": "white",
             "linecolor": "white",
             "minorgridcolor": "white",
             "startlinecolor": "#2a3f5f"
            },
            "baxis": {
             "endlinecolor": "#2a3f5f",
             "gridcolor": "white",
             "linecolor": "white",
             "minorgridcolor": "white",
             "startlinecolor": "#2a3f5f"
            },
            "type": "carpet"
           }
          ],
          "choropleth": [
           {
            "colorbar": {
             "outlinewidth": 0,
             "ticks": ""
            },
            "type": "choropleth"
           }
          ],
          "contour": [
           {
            "colorbar": {
             "outlinewidth": 0,
             "ticks": ""
            },
            "colorscale": [
             [
              0,
              "#0d0887"
             ],
             [
              0.1111111111111111,
              "#46039f"
             ],
             [
              0.2222222222222222,
              "#7201a8"
             ],
             [
              0.3333333333333333,
              "#9c179e"
             ],
             [
              0.4444444444444444,
              "#bd3786"
             ],
             [
              0.5555555555555556,
              "#d8576b"
             ],
             [
              0.6666666666666666,
              "#ed7953"
             ],
             [
              0.7777777777777778,
              "#fb9f3a"
             ],
             [
              0.8888888888888888,
              "#fdca26"
             ],
             [
              1,
              "#f0f921"
             ]
            ],
            "type": "contour"
           }
          ],
          "contourcarpet": [
           {
            "colorbar": {
             "outlinewidth": 0,
             "ticks": ""
            },
            "type": "contourcarpet"
           }
          ],
          "heatmap": [
           {
            "colorbar": {
             "outlinewidth": 0,
             "ticks": ""
            },
            "colorscale": [
             [
              0,
              "#0d0887"
             ],
             [
              0.1111111111111111,
              "#46039f"
             ],
             [
              0.2222222222222222,
              "#7201a8"
             ],
             [
              0.3333333333333333,
              "#9c179e"
             ],
             [
              0.4444444444444444,
              "#bd3786"
             ],
             [
              0.5555555555555556,
              "#d8576b"
             ],
             [
              0.6666666666666666,
              "#ed7953"
             ],
             [
              0.7777777777777778,
              "#fb9f3a"
             ],
             [
              0.8888888888888888,
              "#fdca26"
             ],
             [
              1,
              "#f0f921"
             ]
            ],
            "type": "heatmap"
           }
          ],
          "heatmapgl": [
           {
            "colorbar": {
             "outlinewidth": 0,
             "ticks": ""
            },
            "colorscale": [
             [
              0,
              "#0d0887"
             ],
             [
              0.1111111111111111,
              "#46039f"
             ],
             [
              0.2222222222222222,
              "#7201a8"
             ],
             [
              0.3333333333333333,
              "#9c179e"
             ],
             [
              0.4444444444444444,
              "#bd3786"
             ],
             [
              0.5555555555555556,
              "#d8576b"
             ],
             [
              0.6666666666666666,
              "#ed7953"
             ],
             [
              0.7777777777777778,
              "#fb9f3a"
             ],
             [
              0.8888888888888888,
              "#fdca26"
             ],
             [
              1,
              "#f0f921"
             ]
            ],
            "type": "heatmapgl"
           }
          ],
          "histogram": [
           {
            "marker": {
             "pattern": {
              "fillmode": "overlay",
              "size": 10,
              "solidity": 0.2
             }
            },
            "type": "histogram"
           }
          ],
          "histogram2d": [
           {
            "colorbar": {
             "outlinewidth": 0,
             "ticks": ""
            },
            "colorscale": [
             [
              0,
              "#0d0887"
             ],
             [
              0.1111111111111111,
              "#46039f"
             ],
             [
              0.2222222222222222,
              "#7201a8"
             ],
             [
              0.3333333333333333,
              "#9c179e"
             ],
             [
              0.4444444444444444,
              "#bd3786"
             ],
             [
              0.5555555555555556,
              "#d8576b"
             ],
             [
              0.6666666666666666,
              "#ed7953"
             ],
             [
              0.7777777777777778,
              "#fb9f3a"
             ],
             [
              0.8888888888888888,
              "#fdca26"
             ],
             [
              1,
              "#f0f921"
             ]
            ],
            "type": "histogram2d"
           }
          ],
          "histogram2dcontour": [
           {
            "colorbar": {
             "outlinewidth": 0,
             "ticks": ""
            },
            "colorscale": [
             [
              0,
              "#0d0887"
             ],
             [
              0.1111111111111111,
              "#46039f"
             ],
             [
              0.2222222222222222,
              "#7201a8"
             ],
             [
              0.3333333333333333,
              "#9c179e"
             ],
             [
              0.4444444444444444,
              "#bd3786"
             ],
             [
              0.5555555555555556,
              "#d8576b"
             ],
             [
              0.6666666666666666,
              "#ed7953"
             ],
             [
              0.7777777777777778,
              "#fb9f3a"
             ],
             [
              0.8888888888888888,
              "#fdca26"
             ],
             [
              1,
              "#f0f921"
             ]
            ],
            "type": "histogram2dcontour"
           }
          ],
          "mesh3d": [
           {
            "colorbar": {
             "outlinewidth": 0,
             "ticks": ""
            },
            "type": "mesh3d"
           }
          ],
          "parcoords": [
           {
            "line": {
             "colorbar": {
              "outlinewidth": 0,
              "ticks": ""
             }
            },
            "type": "parcoords"
           }
          ],
          "pie": [
           {
            "automargin": true,
            "type": "pie"
           }
          ],
          "scatter": [
           {
            "fillpattern": {
             "fillmode": "overlay",
             "size": 10,
             "solidity": 0.2
            },
            "type": "scatter"
           }
          ],
          "scatter3d": [
           {
            "line": {
             "colorbar": {
              "outlinewidth": 0,
              "ticks": ""
             }
            },
            "marker": {
             "colorbar": {
              "outlinewidth": 0,
              "ticks": ""
             }
            },
            "type": "scatter3d"
           }
          ],
          "scattercarpet": [
           {
            "marker": {
             "colorbar": {
              "outlinewidth": 0,
              "ticks": ""
             }
            },
            "type": "scattercarpet"
           }
          ],
          "scattergeo": [
           {
            "marker": {
             "colorbar": {
              "outlinewidth": 0,
              "ticks": ""
             }
            },
            "type": "scattergeo"
           }
          ],
          "scattergl": [
           {
            "marker": {
             "colorbar": {
              "outlinewidth": 0,
              "ticks": ""
             }
            },
            "type": "scattergl"
           }
          ],
          "scattermapbox": [
           {
            "marker": {
             "colorbar": {
              "outlinewidth": 0,
              "ticks": ""
             }
            },
            "type": "scattermapbox"
           }
          ],
          "scatterpolar": [
           {
            "marker": {
             "colorbar": {
              "outlinewidth": 0,
              "ticks": ""
             }
            },
            "type": "scatterpolar"
           }
          ],
          "scatterpolargl": [
           {
            "marker": {
             "colorbar": {
              "outlinewidth": 0,
              "ticks": ""
             }
            },
            "type": "scatterpolargl"
           }
          ],
          "scatterternary": [
           {
            "marker": {
             "colorbar": {
              "outlinewidth": 0,
              "ticks": ""
             }
            },
            "type": "scatterternary"
           }
          ],
          "surface": [
           {
            "colorbar": {
             "outlinewidth": 0,
             "ticks": ""
            },
            "colorscale": [
             [
              0,
              "#0d0887"
             ],
             [
              0.1111111111111111,
              "#46039f"
             ],
             [
              0.2222222222222222,
              "#7201a8"
             ],
             [
              0.3333333333333333,
              "#9c179e"
             ],
             [
              0.4444444444444444,
              "#bd3786"
             ],
             [
              0.5555555555555556,
              "#d8576b"
             ],
             [
              0.6666666666666666,
              "#ed7953"
             ],
             [
              0.7777777777777778,
              "#fb9f3a"
             ],
             [
              0.8888888888888888,
              "#fdca26"
             ],
             [
              1,
              "#f0f921"
             ]
            ],
            "type": "surface"
           }
          ],
          "table": [
           {
            "cells": {
             "fill": {
              "color": "#EBF0F8"
             },
             "line": {
              "color": "white"
             }
            },
            "header": {
             "fill": {
              "color": "#C8D4E3"
             },
             "line": {
              "color": "white"
             }
            },
            "type": "table"
           }
          ]
         },
         "layout": {
          "annotationdefaults": {
           "arrowcolor": "#2a3f5f",
           "arrowhead": 0,
           "arrowwidth": 1
          },
          "autotypenumbers": "strict",
          "coloraxis": {
           "colorbar": {
            "outlinewidth": 0,
            "ticks": ""
           }
          },
          "colorscale": {
           "diverging": [
            [
             0,
             "#8e0152"
            ],
            [
             0.1,
             "#c51b7d"
            ],
            [
             0.2,
             "#de77ae"
            ],
            [
             0.3,
             "#f1b6da"
            ],
            [
             0.4,
             "#fde0ef"
            ],
            [
             0.5,
             "#f7f7f7"
            ],
            [
             0.6,
             "#e6f5d0"
            ],
            [
             0.7,
             "#b8e186"
            ],
            [
             0.8,
             "#7fbc41"
            ],
            [
             0.9,
             "#4d9221"
            ],
            [
             1,
             "#276419"
            ]
           ],
           "sequential": [
            [
             0,
             "#0d0887"
            ],
            [
             0.1111111111111111,
             "#46039f"
            ],
            [
             0.2222222222222222,
             "#7201a8"
            ],
            [
             0.3333333333333333,
             "#9c179e"
            ],
            [
             0.4444444444444444,
             "#bd3786"
            ],
            [
             0.5555555555555556,
             "#d8576b"
            ],
            [
             0.6666666666666666,
             "#ed7953"
            ],
            [
             0.7777777777777778,
             "#fb9f3a"
            ],
            [
             0.8888888888888888,
             "#fdca26"
            ],
            [
             1,
             "#f0f921"
            ]
           ],
           "sequentialminus": [
            [
             0,
             "#0d0887"
            ],
            [
             0.1111111111111111,
             "#46039f"
            ],
            [
             0.2222222222222222,
             "#7201a8"
            ],
            [
             0.3333333333333333,
             "#9c179e"
            ],
            [
             0.4444444444444444,
             "#bd3786"
            ],
            [
             0.5555555555555556,
             "#d8576b"
            ],
            [
             0.6666666666666666,
             "#ed7953"
            ],
            [
             0.7777777777777778,
             "#fb9f3a"
            ],
            [
             0.8888888888888888,
             "#fdca26"
            ],
            [
             1,
             "#f0f921"
            ]
           ]
          },
          "colorway": [
           "#636efa",
           "#EF553B",
           "#00cc96",
           "#ab63fa",
           "#FFA15A",
           "#19d3f3",
           "#FF6692",
           "#B6E880",
           "#FF97FF",
           "#FECB52"
          ],
          "font": {
           "color": "#2a3f5f"
          },
          "geo": {
           "bgcolor": "white",
           "lakecolor": "white",
           "landcolor": "#E5ECF6",
           "showlakes": true,
           "showland": true,
           "subunitcolor": "white"
          },
          "hoverlabel": {
           "align": "left"
          },
          "hovermode": "closest",
          "mapbox": {
           "style": "light"
          },
          "paper_bgcolor": "white",
          "plot_bgcolor": "#E5ECF6",
          "polar": {
           "angularaxis": {
            "gridcolor": "white",
            "linecolor": "white",
            "ticks": ""
           },
           "bgcolor": "#E5ECF6",
           "radialaxis": {
            "gridcolor": "white",
            "linecolor": "white",
            "ticks": ""
           }
          },
          "scene": {
           "xaxis": {
            "backgroundcolor": "#E5ECF6",
            "gridcolor": "white",
            "gridwidth": 2,
            "linecolor": "white",
            "showbackground": true,
            "ticks": "",
            "zerolinecolor": "white"
           },
           "yaxis": {
            "backgroundcolor": "#E5ECF6",
            "gridcolor": "white",
            "gridwidth": 2,
            "linecolor": "white",
            "showbackground": true,
            "ticks": "",
            "zerolinecolor": "white"
           },
           "zaxis": {
            "backgroundcolor": "#E5ECF6",
            "gridcolor": "white",
            "gridwidth": 2,
            "linecolor": "white",
            "showbackground": true,
            "ticks": "",
            "zerolinecolor": "white"
           }
          },
          "shapedefaults": {
           "line": {
            "color": "#2a3f5f"
           }
          },
          "ternary": {
           "aaxis": {
            "gridcolor": "white",
            "linecolor": "white",
            "ticks": ""
           },
           "baxis": {
            "gridcolor": "white",
            "linecolor": "white",
            "ticks": ""
           },
           "bgcolor": "#E5ECF6",
           "caxis": {
            "gridcolor": "white",
            "linecolor": "white",
            "ticks": ""
           }
          },
          "title": {
           "x": 0.05
          },
          "xaxis": {
           "automargin": true,
           "gridcolor": "white",
           "linecolor": "white",
           "ticks": "",
           "title": {
            "standoff": 15
           },
           "zerolinecolor": "white",
           "zerolinewidth": 2
          },
          "yaxis": {
           "automargin": true,
           "gridcolor": "white",
           "linecolor": "white",
           "ticks": "",
           "title": {
            "standoff": 15
           },
           "zerolinecolor": "white",
           "zerolinewidth": 2
          }
         }
        },
        "title": {
         "text": "Distribution of Categories in DataFrame Colored by Binary Column"
        },
        "xaxis": {
         "anchor": "y",
         "domain": [
          0,
          1
         ],
         "title": {
          "text": "Team"
         }
        },
        "yaxis": {
         "anchor": "x",
         "domain": [
          0,
          1
         ],
         "title": {
          "text": "Count"
         }
        }
       }
      }
     },
     "metadata": {},
     "output_type": "display_data"
    }
   ],
   "source": [
    "# Step 1: Prepare the data\n",
    "df_counts = df.groupby(['team', 'target']).size().reset_index(name='count')\n",
    "\n",
    "# Step 2: Create the bar graph using Plotly\n",
    "fig = px.bar(df_counts, x='team', y='count', color='target',\n",
    "             labels={'team': 'Team', 'count': 'Count'},\n",
    "             title='Distribution of Categories in DataFrame Colored by Binary Column')\n",
    "\n",
    "# If you want to adjust the appearance of the graph, you can use the following optional parameters:\n",
    "# fig.update_traces(marker_line_width=1.5, opacity=0.6)\n",
    "\n",
    "# Show the plot\n",
    "fig.show()"
   ]
  },
  {
   "cell_type": "code",
   "execution_count": 29,
   "metadata": {},
   "outputs": [],
   "source": [
    "df1 = pd.read_csv('/Users/stefanfeiler/Desktop/scores_test.csv')\n",
    "df2 = pd.read_csv('/Users/stefanfeiler/Desktop/SmartBetter high risk copy.csv')"
   ]
  },
  {
   "cell_type": "code",
   "execution_count": 45,
   "metadata": {},
   "outputs": [],
   "source": [
    "game_winners = df1.set_index('game_id')['winning_team'].to_dict()"
   ]
  },
  {
   "cell_type": "code",
   "execution_count": 57,
   "metadata": {},
   "outputs": [],
   "source": [
    "def fill_na_with_winner(row):\n",
    "    game_id = row['game_id']\n",
    "    team = row['team']\n",
    "    opponenet = row['opponent']\n",
    "    winning_team = game_winners.get(game_id)\n",
    "    if team == winning_team:\n",
    "        return 1\n",
    "    elif opponenet == winning_team:\n",
    "        return 0\n",
    "    else:\n",
    "        return row['target']\n",
    "\n",
    "# Apply the function to fill NA values\n",
    "df2['target'] = df2.apply(lambda row: fill_na_with_winner(row), axis=1)"
   ]
  },
  {
   "cell_type": "code",
   "execution_count": 58,
   "metadata": {},
   "outputs": [],
   "source": [
    "df2.to_csv('/Users/stefanfeiler/Desktop/scores_filled.csv')"
   ]
  },
  {
   "cell_type": "code",
   "execution_count": 36,
   "metadata": {},
   "outputs": [],
   "source": [
    "df_merged = pd.merge(df1, df2, on='game_id', how='inner')"
   ]
  },
  {
   "cell_type": "code",
   "execution_count": 39,
   "metadata": {},
   "outputs": [],
   "source": [
    "df_merged['target'] = (df_merged['winning_team'] == df_merged['team']).astype(int)"
   ]
  },
  {
   "cell_type": "code",
   "execution_count": 40,
   "metadata": {},
   "outputs": [],
   "source": [
    "df_merged.to_csv('/Users/stefanfeiler/Desktop/merge_test.csv')"
   ]
  },
  {
   "cell_type": "code",
   "execution_count": 42,
   "metadata": {},
   "outputs": [],
   "source": [
    "game_id_target_map = df_merged.set_index('game_id')['target'].to_dict()"
   ]
  },
  {
   "cell_type": "code",
   "execution_count": 43,
   "metadata": {},
   "outputs": [
    {
     "data": {
      "text/plain": [
       "{'96d47d41251c8e6991fe067926d156bf': 1,\n",
       " '928d216ad34dc0eea0c54425d8bd5eea': 0,\n",
       " 'd84e8a2218b10737e16c22820555d118': 0,\n",
       " 'f6a9c25fe8e1d7cc9cafbf6cebeaa890': 0,\n",
       " '8ab5e3b027cad19aef74c4886941ad1b': 0}"
      ]
     },
     "execution_count": 43,
     "metadata": {},
     "output_type": "execute_result"
    }
   ],
   "source": [
    "game_id_target_map"
   ]
  },
  {
   "cell_type": "code",
   "execution_count": 126,
   "metadata": {},
   "outputs": [],
   "source": [
    "df = pd.read_csv('/Users/stefanfeiler/Desktop/SmartBetter_site/website/users/user_strategy_names.csv')\n",
    "text_allowed = df[df['text_alerts'] == True ]"
   ]
  },
  {
   "cell_type": "code",
   "execution_count": 127,
   "metadata": {},
   "outputs": [
    {
     "data": {
      "text/html": [
       "<div>\n",
       "<style scoped>\n",
       "    .dataframe tbody tr th:only-of-type {\n",
       "        vertical-align: middle;\n",
       "    }\n",
       "\n",
       "    .dataframe tbody tr th {\n",
       "        vertical-align: top;\n",
       "    }\n",
       "\n",
       "    .dataframe thead th {\n",
       "        text-align: right;\n",
       "    }\n",
       "</style>\n",
       "<table border=\"1\" class=\"dataframe\">\n",
       "  <thead>\n",
       "    <tr style=\"text-align: right;\">\n",
       "      <th></th>\n",
       "      <th>username</th>\n",
       "      <th>strategy_name</th>\n",
       "      <th>text_alerts</th>\n",
       "    </tr>\n",
       "  </thead>\n",
       "  <tbody>\n",
       "    <tr>\n",
       "      <th>0</th>\n",
       "      <td>youngfeiler</td>\n",
       "      <td>SmartBetter low risk</td>\n",
       "      <td>True</td>\n",
       "    </tr>\n",
       "    <tr>\n",
       "      <th>3</th>\n",
       "      <td>youngfeiler</td>\n",
       "      <td>big mama</td>\n",
       "      <td>True</td>\n",
       "    </tr>\n",
       "    <tr>\n",
       "      <th>9</th>\n",
       "      <td>chrisfeiler</td>\n",
       "      <td>big mama</td>\n",
       "      <td>True</td>\n",
       "    </tr>\n",
       "  </tbody>\n",
       "</table>\n",
       "</div>"
      ],
      "text/plain": [
       "      username         strategy_name  text_alerts\n",
       "0  youngfeiler  SmartBetter low risk         True\n",
       "3  youngfeiler              big mama         True\n",
       "9  chrisfeiler              big mama         True"
      ]
     },
     "execution_count": 127,
     "metadata": {},
     "output_type": "execute_result"
    }
   ],
   "source": [
    "text_allowed"
   ]
  },
  {
   "cell_type": "code",
   "execution_count": 433,
   "metadata": {},
   "outputs": [],
   "source": [
    "phone_nums = pd.read_csv('/Users/stefanfeiler/Desktop/SmartBetter_site/website/users/login_info.csv')"
   ]
  },
  {
   "cell_type": "code",
   "execution_count": 434,
   "metadata": {},
   "outputs": [],
   "source": [
    "merged_df = phone_nums.merge(text_allowed, on='username', how='inner')"
   ]
  },
  {
   "cell_type": "code",
   "execution_count": 435,
   "metadata": {},
   "outputs": [],
   "source": [
    "merged_df_info = merged_df[['phone', 'strategy_name']]"
   ]
  },
  {
   "cell_type": "code",
   "execution_count": 436,
   "metadata": {},
   "outputs": [
    {
     "data": {
      "text/html": [
       "<div>\n",
       "<style scoped>\n",
       "    .dataframe tbody tr th:only-of-type {\n",
       "        vertical-align: middle;\n",
       "    }\n",
       "\n",
       "    .dataframe tbody tr th {\n",
       "        vertical-align: top;\n",
       "    }\n",
       "\n",
       "    .dataframe thead th {\n",
       "        text-align: right;\n",
       "    }\n",
       "</style>\n",
       "<table border=\"1\" class=\"dataframe\">\n",
       "  <thead>\n",
       "    <tr style=\"text-align: right;\">\n",
       "      <th></th>\n",
       "      <th>phone</th>\n",
       "      <th>strategy_name</th>\n",
       "    </tr>\n",
       "  </thead>\n",
       "  <tbody>\n",
       "    <tr>\n",
       "      <th>0</th>\n",
       "      <td>13035796207</td>\n",
       "      <td>SmartBetter low risk</td>\n",
       "    </tr>\n",
       "    <tr>\n",
       "      <th>1</th>\n",
       "      <td>13035796207</td>\n",
       "      <td>big mama</td>\n",
       "    </tr>\n",
       "    <tr>\n",
       "      <th>2</th>\n",
       "      <td>13037176950</td>\n",
       "      <td>big mama</td>\n",
       "    </tr>\n",
       "  </tbody>\n",
       "</table>\n",
       "</div>"
      ],
      "text/plain": [
       "         phone         strategy_name\n",
       "0  13035796207  SmartBetter low risk\n",
       "1  13035796207              big mama\n",
       "2  13037176950              big mama"
      ]
     },
     "execution_count": 436,
     "metadata": {},
     "output_type": "execute_result"
    }
   ],
   "source": [
    "merged_df_info"
   ]
  },
  {
   "cell_type": "code",
   "execution_count": 437,
   "metadata": {},
   "outputs": [
    {
     "data": {
      "text/plain": [
       "{13035796207: ['SmartBetter low risk', 'big mama'], 13037176950: ['big mama']}"
      ]
     },
     "execution_count": 437,
     "metadata": {},
     "output_type": "execute_result"
    }
   ],
   "source": [
    "grouped_dict = merged_df_info.groupby('phone')['strategy_name'].agg(list).to_dict()\n",
    "grouped_dict"
   ]
  },
  {
   "cell_type": "code",
   "execution_count": 438,
   "metadata": {},
   "outputs": [],
   "source": [
    "from twilio.rest import Client\n",
    "account_sid = 'AC8c14921fcae1fead46c9a56bbd46d606'\n",
    "auth_token = 'a3bfa3894e91404fe1d53c6f2fb8246a'\n",
    "twilio_phone_number = '+18573922435'\n",
    "client = Client(account_sid, auth_token)"
   ]
  },
  {
   "cell_type": "code",
   "execution_count": 442,
   "metadata": {},
   "outputs": [
    {
     "name": "stdout",
     "output_type": "stream",
     "text": [
      "Smart Alert:\n",
      "\n",
      "New info available for one of your strategies \n",
      "\n",
      "Act now:\n",
      "\n",
      "-------\n",
      "Smart Alert:\n",
      "\n",
      "New info available for one of your strategies \n",
      "\n",
      "Act now:\n",
      "\n",
      "-------\n"
     ]
    }
   ],
   "source": [
    "for phone_number, strategy_list  in grouped_dict.items():\n",
    "  strategies_for_user = ''.join([f'\\n\"{element}\"' for element in strategy_list])\n",
    "  message_body = f'Smart Alert:\\n\\nNew info available for one of your strategies \\n\\nAct now:\\n'\n",
    "  print(message_body)\n",
    "  print('-------')\n",
    "  message = client.messages.create(\n",
    "                  body=message_body,\n",
    "                  from_=twilio_phone_number,\n",
    "                  to=phone_number\n",
    "              )"
   ]
  },
  {
   "cell_type": "code",
   "execution_count": 304,
   "metadata": {},
   "outputs": [],
   "source": [
    "df = pd.read_csv('/Users/stefanfeiler/Desktop/test_live_stacked 6.36.22 PM.csv')"
   ]
  },
  {
   "cell_type": "code",
   "execution_count": 417,
   "metadata": {},
   "outputs": [],
   "source": [
    "time_cols = [col for col in df.columns if '_1_time' in col]\n",
    "odds_cols = [col for col in df.columns if '_1_odds' in col]\n",
    "odds_df = df[odds_cols]\n",
    "snap_time_col = pd.DataFrame()\n",
    "snap_time_col = pd.to_timedelta(df['snapshot_time'].astype(str))\n",
    "subset_columns = [col for col in odds_cols if any(item in col for item in ['barstool', 'betmgm', 'draftkings', 'bovada', 'coral', 'fanduel'])]\n",
    "\n",
    "# df['snapshot_time'] = pd.to_timedelta(df['snapshot_time'].astype(str))\n",
    "time_df = pd.DataFrame()\n",
    "\n",
    "for col in time_cols:\n",
    "    time_df[col] = pd.to_timedelta(pd.to_datetime(df[col]).dt.time.astype(str))\n",
    "\n",
    "result_df = time_df.sub(snap_time_col, axis=0)"
   ]
  },
  {
   "cell_type": "code",
   "execution_count": 418,
   "metadata": {},
   "outputs": [
    {
     "data": {
      "text/plain": [
       "['barstool_1_odds',\n",
       " 'betmgm_1_odds',\n",
       " 'bovada_1_odds',\n",
       " 'coral_1_odds',\n",
       " 'draftkings_1_odds',\n",
       " 'fanduel_1_odds']"
      ]
     },
     "execution_count": 418,
     "metadata": {},
     "output_type": "execute_result"
    }
   ],
   "source": [
    "subset_columns"
   ]
  },
  {
   "cell_type": "code",
   "execution_count": 419,
   "metadata": {},
   "outputs": [],
   "source": [
    "result_df = result_df.abs()"
   ]
  },
  {
   "cell_type": "code",
   "execution_count": 420,
   "metadata": {},
   "outputs": [
    {
     "data": {
      "text/html": [
       "<div>\n",
       "<style scoped>\n",
       "    .dataframe tbody tr th:only-of-type {\n",
       "        vertical-align: middle;\n",
       "    }\n",
       "\n",
       "    .dataframe tbody tr th {\n",
       "        vertical-align: top;\n",
       "    }\n",
       "\n",
       "    .dataframe thead th {\n",
       "        text-align: right;\n",
       "    }\n",
       "</style>\n",
       "<table border=\"1\" class=\"dataframe\">\n",
       "  <thead>\n",
       "    <tr style=\"text-align: right;\">\n",
       "      <th></th>\n",
       "      <th>barstool_1_time</th>\n",
       "      <th>betclic_1_time</th>\n",
       "      <th>betfair_1_time</th>\n",
       "      <th>betfred_1_time</th>\n",
       "      <th>betmgm_1_time</th>\n",
       "      <th>betonlineag_1_time</th>\n",
       "      <th>betrivers_1_time</th>\n",
       "      <th>betus_1_time</th>\n",
       "      <th>betway_1_time</th>\n",
       "      <th>bovada_1_time</th>\n",
       "      <th>...</th>\n",
       "      <th>sugarhouse_1_time</th>\n",
       "      <th>superbook_1_time</th>\n",
       "      <th>twinspires_1_time</th>\n",
       "      <th>unibet_1_time</th>\n",
       "      <th>unibet_eu_1_time</th>\n",
       "      <th>unibet_uk_1_time</th>\n",
       "      <th>unibet_us_1_time</th>\n",
       "      <th>williamhill_1_time</th>\n",
       "      <th>williamhill_us_1_time</th>\n",
       "      <th>wynnbet_1_time</th>\n",
       "    </tr>\n",
       "  </thead>\n",
       "  <tbody>\n",
       "    <tr>\n",
       "      <th>0</th>\n",
       "      <td>0 days 00:00:39</td>\n",
       "      <td>0 days 00:00:08</td>\n",
       "      <td>0 days 20:56:56</td>\n",
       "      <td>0 days 20:56:56</td>\n",
       "      <td>0 days</td>\n",
       "      <td>0 days 20:56:56</td>\n",
       "      <td>0 days 20:56:56</td>\n",
       "      <td>0 days 20:56:56</td>\n",
       "      <td>0 days 20:56:56</td>\n",
       "      <td>0 days 00:00:38</td>\n",
       "      <td>...</td>\n",
       "      <td>0 days 20:56:56</td>\n",
       "      <td>0 days 20:56:56</td>\n",
       "      <td>0 days 00:00:25</td>\n",
       "      <td>0 days 20:56:56</td>\n",
       "      <td>0 days 00:00:25</td>\n",
       "      <td>0 days 00:00:06</td>\n",
       "      <td>0 days</td>\n",
       "      <td>0 days 20:56:56</td>\n",
       "      <td>0 days 20:56:56</td>\n",
       "      <td>0 days 20:56:56</td>\n",
       "    </tr>\n",
       "    <tr>\n",
       "      <th>1</th>\n",
       "      <td>0 days 00:00:39</td>\n",
       "      <td>0 days 00:00:08</td>\n",
       "      <td>0 days 20:56:56</td>\n",
       "      <td>0 days 20:56:56</td>\n",
       "      <td>0 days</td>\n",
       "      <td>0 days 20:56:56</td>\n",
       "      <td>0 days 20:56:56</td>\n",
       "      <td>0 days 20:56:56</td>\n",
       "      <td>0 days 20:56:56</td>\n",
       "      <td>0 days 00:00:38</td>\n",
       "      <td>...</td>\n",
       "      <td>0 days 20:56:56</td>\n",
       "      <td>0 days 20:56:56</td>\n",
       "      <td>0 days 00:00:25</td>\n",
       "      <td>0 days 20:56:56</td>\n",
       "      <td>0 days 00:00:25</td>\n",
       "      <td>0 days 00:00:06</td>\n",
       "      <td>0 days</td>\n",
       "      <td>0 days 20:56:56</td>\n",
       "      <td>0 days 20:56:56</td>\n",
       "      <td>0 days 20:56:56</td>\n",
       "    </tr>\n",
       "    <tr>\n",
       "      <th>2</th>\n",
       "      <td>0 days 00:00:39</td>\n",
       "      <td>0 days 00:00:08</td>\n",
       "      <td>0 days 20:56:56</td>\n",
       "      <td>0 days 20:56:56</td>\n",
       "      <td>0 days</td>\n",
       "      <td>0 days 20:56:56</td>\n",
       "      <td>0 days 20:56:56</td>\n",
       "      <td>0 days 20:56:56</td>\n",
       "      <td>0 days 20:56:56</td>\n",
       "      <td>0 days 00:00:38</td>\n",
       "      <td>...</td>\n",
       "      <td>0 days 20:56:56</td>\n",
       "      <td>0 days 20:56:56</td>\n",
       "      <td>0 days 00:00:25</td>\n",
       "      <td>0 days 20:56:56</td>\n",
       "      <td>0 days 00:00:25</td>\n",
       "      <td>0 days 00:00:06</td>\n",
       "      <td>0 days</td>\n",
       "      <td>0 days 20:56:56</td>\n",
       "      <td>0 days 20:56:56</td>\n",
       "      <td>0 days 20:56:56</td>\n",
       "    </tr>\n",
       "    <tr>\n",
       "      <th>3</th>\n",
       "      <td>0 days 00:00:39</td>\n",
       "      <td>0 days 00:00:08</td>\n",
       "      <td>0 days 20:56:56</td>\n",
       "      <td>0 days 20:56:56</td>\n",
       "      <td>0 days</td>\n",
       "      <td>0 days 00:00:25</td>\n",
       "      <td>0 days 00:00:25</td>\n",
       "      <td>0 days 00:00:33</td>\n",
       "      <td>0 days 20:56:56</td>\n",
       "      <td>0 days 00:00:38</td>\n",
       "      <td>...</td>\n",
       "      <td>0 days 20:56:56</td>\n",
       "      <td>0 days 00:00:34</td>\n",
       "      <td>0 days 00:00:25</td>\n",
       "      <td>0 days 20:56:56</td>\n",
       "      <td>0 days 00:00:25</td>\n",
       "      <td>0 days 00:00:06</td>\n",
       "      <td>0 days</td>\n",
       "      <td>0 days 00:00:45</td>\n",
       "      <td>0 days 00:00:31</td>\n",
       "      <td>0 days 00:03:12</td>\n",
       "    </tr>\n",
       "    <tr>\n",
       "      <th>4</th>\n",
       "      <td>0 days 00:00:39</td>\n",
       "      <td>0 days 00:00:08</td>\n",
       "      <td>0 days 20:56:56</td>\n",
       "      <td>0 days 20:56:56</td>\n",
       "      <td>0 days</td>\n",
       "      <td>0 days 00:00:25</td>\n",
       "      <td>0 days 00:00:25</td>\n",
       "      <td>0 days 00:00:33</td>\n",
       "      <td>0 days 20:56:56</td>\n",
       "      <td>0 days 00:00:38</td>\n",
       "      <td>...</td>\n",
       "      <td>0 days 20:56:56</td>\n",
       "      <td>0 days 00:00:34</td>\n",
       "      <td>0 days 00:00:25</td>\n",
       "      <td>0 days 20:56:56</td>\n",
       "      <td>0 days 00:00:25</td>\n",
       "      <td>0 days 00:00:06</td>\n",
       "      <td>0 days</td>\n",
       "      <td>0 days 00:00:45</td>\n",
       "      <td>0 days 00:00:31</td>\n",
       "      <td>0 days 00:03:12</td>\n",
       "    </tr>\n",
       "  </tbody>\n",
       "</table>\n",
       "<p>5 rows × 39 columns</p>\n",
       "</div>"
      ],
      "text/plain": [
       "  barstool_1_time  betclic_1_time  betfair_1_time  betfred_1_time  \\\n",
       "0 0 days 00:00:39 0 days 00:00:08 0 days 20:56:56 0 days 20:56:56   \n",
       "1 0 days 00:00:39 0 days 00:00:08 0 days 20:56:56 0 days 20:56:56   \n",
       "2 0 days 00:00:39 0 days 00:00:08 0 days 20:56:56 0 days 20:56:56   \n",
       "3 0 days 00:00:39 0 days 00:00:08 0 days 20:56:56 0 days 20:56:56   \n",
       "4 0 days 00:00:39 0 days 00:00:08 0 days 20:56:56 0 days 20:56:56   \n",
       "\n",
       "  betmgm_1_time betonlineag_1_time betrivers_1_time    betus_1_time  \\\n",
       "0        0 days    0 days 20:56:56  0 days 20:56:56 0 days 20:56:56   \n",
       "1        0 days    0 days 20:56:56  0 days 20:56:56 0 days 20:56:56   \n",
       "2        0 days    0 days 20:56:56  0 days 20:56:56 0 days 20:56:56   \n",
       "3        0 days    0 days 00:00:25  0 days 00:00:25 0 days 00:00:33   \n",
       "4        0 days    0 days 00:00:25  0 days 00:00:25 0 days 00:00:33   \n",
       "\n",
       "    betway_1_time   bovada_1_time  ... sugarhouse_1_time superbook_1_time  \\\n",
       "0 0 days 20:56:56 0 days 00:00:38  ...   0 days 20:56:56  0 days 20:56:56   \n",
       "1 0 days 20:56:56 0 days 00:00:38  ...   0 days 20:56:56  0 days 20:56:56   \n",
       "2 0 days 20:56:56 0 days 00:00:38  ...   0 days 20:56:56  0 days 20:56:56   \n",
       "3 0 days 20:56:56 0 days 00:00:38  ...   0 days 20:56:56  0 days 00:00:34   \n",
       "4 0 days 20:56:56 0 days 00:00:38  ...   0 days 20:56:56  0 days 00:00:34   \n",
       "\n",
       "  twinspires_1_time   unibet_1_time unibet_eu_1_time unibet_uk_1_time  \\\n",
       "0   0 days 00:00:25 0 days 20:56:56  0 days 00:00:25  0 days 00:00:06   \n",
       "1   0 days 00:00:25 0 days 20:56:56  0 days 00:00:25  0 days 00:00:06   \n",
       "2   0 days 00:00:25 0 days 20:56:56  0 days 00:00:25  0 days 00:00:06   \n",
       "3   0 days 00:00:25 0 days 20:56:56  0 days 00:00:25  0 days 00:00:06   \n",
       "4   0 days 00:00:25 0 days 20:56:56  0 days 00:00:25  0 days 00:00:06   \n",
       "\n",
       "  unibet_us_1_time williamhill_1_time williamhill_us_1_time  wynnbet_1_time  \n",
       "0           0 days    0 days 20:56:56       0 days 20:56:56 0 days 20:56:56  \n",
       "1           0 days    0 days 20:56:56       0 days 20:56:56 0 days 20:56:56  \n",
       "2           0 days    0 days 20:56:56       0 days 20:56:56 0 days 20:56:56  \n",
       "3           0 days    0 days 00:00:45       0 days 00:00:31 0 days 00:03:12  \n",
       "4           0 days    0 days 00:00:45       0 days 00:00:31 0 days 00:03:12  \n",
       "\n",
       "[5 rows x 39 columns]"
      ]
     },
     "execution_count": 420,
     "metadata": {},
     "output_type": "execute_result"
    }
   ],
   "source": [
    "result_df.head()"
   ]
  },
  {
   "cell_type": "code",
   "execution_count": 421,
   "metadata": {},
   "outputs": [
    {
     "data": {
      "text/html": [
       "<div>\n",
       "<style scoped>\n",
       "    .dataframe tbody tr th:only-of-type {\n",
       "        vertical-align: middle;\n",
       "    }\n",
       "\n",
       "    .dataframe tbody tr th {\n",
       "        vertical-align: top;\n",
       "    }\n",
       "\n",
       "    .dataframe thead th {\n",
       "        text-align: right;\n",
       "    }\n",
       "</style>\n",
       "<table border=\"1\" class=\"dataframe\">\n",
       "  <thead>\n",
       "    <tr style=\"text-align: right;\">\n",
       "      <th></th>\n",
       "      <th>barstool_1_odds</th>\n",
       "      <th>betclic_1_odds</th>\n",
       "      <th>betfair_1_odds</th>\n",
       "      <th>betfred_1_odds</th>\n",
       "      <th>betmgm_1_odds</th>\n",
       "      <th>betonlineag_1_odds</th>\n",
       "      <th>betrivers_1_odds</th>\n",
       "      <th>betus_1_odds</th>\n",
       "      <th>betway_1_odds</th>\n",
       "      <th>bovada_1_odds</th>\n",
       "      <th>...</th>\n",
       "      <th>sugarhouse_1_odds</th>\n",
       "      <th>superbook_1_odds</th>\n",
       "      <th>twinspires_1_odds</th>\n",
       "      <th>unibet_1_odds</th>\n",
       "      <th>unibet_eu_1_odds</th>\n",
       "      <th>unibet_uk_1_odds</th>\n",
       "      <th>unibet_us_1_odds</th>\n",
       "      <th>williamhill_1_odds</th>\n",
       "      <th>williamhill_us_1_odds</th>\n",
       "      <th>wynnbet_1_odds</th>\n",
       "    </tr>\n",
       "  </thead>\n",
       "  <tbody>\n",
       "    <tr>\n",
       "      <th>0</th>\n",
       "      <td>1.10</td>\n",
       "      <td>1.10</td>\n",
       "      <td>0.0</td>\n",
       "      <td>0.0</td>\n",
       "      <td>1.13</td>\n",
       "      <td>0.00</td>\n",
       "      <td>0.00</td>\n",
       "      <td>0.00</td>\n",
       "      <td>0.0</td>\n",
       "      <td>1.09</td>\n",
       "      <td>...</td>\n",
       "      <td>0.0</td>\n",
       "      <td>0.00</td>\n",
       "      <td>1.13</td>\n",
       "      <td>0.0</td>\n",
       "      <td>1.13</td>\n",
       "      <td>1.12</td>\n",
       "      <td>1.14</td>\n",
       "      <td>0.00</td>\n",
       "      <td>0.00</td>\n",
       "      <td>0.00</td>\n",
       "    </tr>\n",
       "    <tr>\n",
       "      <th>1</th>\n",
       "      <td>1.05</td>\n",
       "      <td>1.06</td>\n",
       "      <td>0.0</td>\n",
       "      <td>0.0</td>\n",
       "      <td>1.05</td>\n",
       "      <td>0.00</td>\n",
       "      <td>0.00</td>\n",
       "      <td>0.00</td>\n",
       "      <td>0.0</td>\n",
       "      <td>1.05</td>\n",
       "      <td>...</td>\n",
       "      <td>0.0</td>\n",
       "      <td>0.00</td>\n",
       "      <td>1.01</td>\n",
       "      <td>0.0</td>\n",
       "      <td>1.01</td>\n",
       "      <td>1.04</td>\n",
       "      <td>1.04</td>\n",
       "      <td>0.00</td>\n",
       "      <td>0.00</td>\n",
       "      <td>0.00</td>\n",
       "    </tr>\n",
       "    <tr>\n",
       "      <th>2</th>\n",
       "      <td>1.83</td>\n",
       "      <td>1.85</td>\n",
       "      <td>0.0</td>\n",
       "      <td>0.0</td>\n",
       "      <td>1.87</td>\n",
       "      <td>0.00</td>\n",
       "      <td>0.00</td>\n",
       "      <td>0.00</td>\n",
       "      <td>0.0</td>\n",
       "      <td>1.77</td>\n",
       "      <td>...</td>\n",
       "      <td>0.0</td>\n",
       "      <td>0.00</td>\n",
       "      <td>1.82</td>\n",
       "      <td>0.0</td>\n",
       "      <td>1.82</td>\n",
       "      <td>1.89</td>\n",
       "      <td>1.85</td>\n",
       "      <td>0.00</td>\n",
       "      <td>0.00</td>\n",
       "      <td>0.00</td>\n",
       "    </tr>\n",
       "    <tr>\n",
       "      <th>3</th>\n",
       "      <td>2.10</td>\n",
       "      <td>2.15</td>\n",
       "      <td>0.0</td>\n",
       "      <td>0.0</td>\n",
       "      <td>2.10</td>\n",
       "      <td>2.14</td>\n",
       "      <td>2.16</td>\n",
       "      <td>2.16</td>\n",
       "      <td>0.0</td>\n",
       "      <td>2.08</td>\n",
       "      <td>...</td>\n",
       "      <td>0.0</td>\n",
       "      <td>2.15</td>\n",
       "      <td>2.15</td>\n",
       "      <td>0.0</td>\n",
       "      <td>2.16</td>\n",
       "      <td>2.15</td>\n",
       "      <td>2.16</td>\n",
       "      <td>2.10</td>\n",
       "      <td>2.10</td>\n",
       "      <td>2.15</td>\n",
       "    </tr>\n",
       "    <tr>\n",
       "      <th>4</th>\n",
       "      <td>1.77</td>\n",
       "      <td>1.78</td>\n",
       "      <td>0.0</td>\n",
       "      <td>0.0</td>\n",
       "      <td>1.77</td>\n",
       "      <td>1.79</td>\n",
       "      <td>1.74</td>\n",
       "      <td>1.77</td>\n",
       "      <td>0.0</td>\n",
       "      <td>1.76</td>\n",
       "      <td>...</td>\n",
       "      <td>0.0</td>\n",
       "      <td>1.78</td>\n",
       "      <td>1.74</td>\n",
       "      <td>0.0</td>\n",
       "      <td>1.74</td>\n",
       "      <td>1.74</td>\n",
       "      <td>1.74</td>\n",
       "      <td>1.77</td>\n",
       "      <td>1.77</td>\n",
       "      <td>1.80</td>\n",
       "    </tr>\n",
       "  </tbody>\n",
       "</table>\n",
       "<p>5 rows × 39 columns</p>\n",
       "</div>"
      ],
      "text/plain": [
       "   barstool_1_odds  betclic_1_odds  betfair_1_odds  betfred_1_odds  \\\n",
       "0             1.10            1.10             0.0             0.0   \n",
       "1             1.05            1.06             0.0             0.0   \n",
       "2             1.83            1.85             0.0             0.0   \n",
       "3             2.10            2.15             0.0             0.0   \n",
       "4             1.77            1.78             0.0             0.0   \n",
       "\n",
       "   betmgm_1_odds  betonlineag_1_odds  betrivers_1_odds  betus_1_odds  \\\n",
       "0           1.13                0.00              0.00          0.00   \n",
       "1           1.05                0.00              0.00          0.00   \n",
       "2           1.87                0.00              0.00          0.00   \n",
       "3           2.10                2.14              2.16          2.16   \n",
       "4           1.77                1.79              1.74          1.77   \n",
       "\n",
       "   betway_1_odds  bovada_1_odds  ...  sugarhouse_1_odds  superbook_1_odds  \\\n",
       "0            0.0           1.09  ...                0.0              0.00   \n",
       "1            0.0           1.05  ...                0.0              0.00   \n",
       "2            0.0           1.77  ...                0.0              0.00   \n",
       "3            0.0           2.08  ...                0.0              2.15   \n",
       "4            0.0           1.76  ...                0.0              1.78   \n",
       "\n",
       "   twinspires_1_odds  unibet_1_odds  unibet_eu_1_odds  unibet_uk_1_odds  \\\n",
       "0               1.13            0.0              1.13              1.12   \n",
       "1               1.01            0.0              1.01              1.04   \n",
       "2               1.82            0.0              1.82              1.89   \n",
       "3               2.15            0.0              2.16              2.15   \n",
       "4               1.74            0.0              1.74              1.74   \n",
       "\n",
       "   unibet_us_1_odds  williamhill_1_odds  williamhill_us_1_odds  wynnbet_1_odds  \n",
       "0              1.14                0.00                   0.00            0.00  \n",
       "1              1.04                0.00                   0.00            0.00  \n",
       "2              1.85                0.00                   0.00            0.00  \n",
       "3              2.16                2.10                   2.10            2.15  \n",
       "4              1.74                1.77                   1.77            1.80  \n",
       "\n",
       "[5 rows x 39 columns]"
      ]
     },
     "execution_count": 421,
     "metadata": {},
     "output_type": "execute_result"
    }
   ],
   "source": [
    "odds_df.head()"
   ]
  },
  {
   "cell_type": "code",
   "execution_count": 422,
   "metadata": {},
   "outputs": [],
   "source": [
    "threshold = pd.Timedelta(seconds=30)"
   ]
  },
  {
   "cell_type": "code",
   "execution_count": 423,
   "metadata": {},
   "outputs": [
    {
     "data": {
      "text/html": [
       "<div>\n",
       "<style scoped>\n",
       "    .dataframe tbody tr th:only-of-type {\n",
       "        vertical-align: middle;\n",
       "    }\n",
       "\n",
       "    .dataframe tbody tr th {\n",
       "        vertical-align: top;\n",
       "    }\n",
       "\n",
       "    .dataframe thead th {\n",
       "        text-align: right;\n",
       "    }\n",
       "</style>\n",
       "<table border=\"1\" class=\"dataframe\">\n",
       "  <thead>\n",
       "    <tr style=\"text-align: right;\">\n",
       "      <th></th>\n",
       "      <th>barstool_1_time</th>\n",
       "      <th>betclic_1_time</th>\n",
       "      <th>betfair_1_time</th>\n",
       "      <th>betfred_1_time</th>\n",
       "      <th>betmgm_1_time</th>\n",
       "      <th>betonlineag_1_time</th>\n",
       "      <th>betrivers_1_time</th>\n",
       "      <th>betus_1_time</th>\n",
       "      <th>betway_1_time</th>\n",
       "      <th>bovada_1_time</th>\n",
       "      <th>...</th>\n",
       "      <th>sugarhouse_1_time</th>\n",
       "      <th>superbook_1_time</th>\n",
       "      <th>twinspires_1_time</th>\n",
       "      <th>unibet_1_time</th>\n",
       "      <th>unibet_eu_1_time</th>\n",
       "      <th>unibet_uk_1_time</th>\n",
       "      <th>unibet_us_1_time</th>\n",
       "      <th>williamhill_1_time</th>\n",
       "      <th>williamhill_us_1_time</th>\n",
       "      <th>wynnbet_1_time</th>\n",
       "    </tr>\n",
       "  </thead>\n",
       "  <tbody>\n",
       "    <tr>\n",
       "      <th>0</th>\n",
       "      <td>False</td>\n",
       "      <td>True</td>\n",
       "      <td>False</td>\n",
       "      <td>False</td>\n",
       "      <td>True</td>\n",
       "      <td>False</td>\n",
       "      <td>False</td>\n",
       "      <td>False</td>\n",
       "      <td>False</td>\n",
       "      <td>False</td>\n",
       "      <td>...</td>\n",
       "      <td>False</td>\n",
       "      <td>False</td>\n",
       "      <td>True</td>\n",
       "      <td>False</td>\n",
       "      <td>True</td>\n",
       "      <td>True</td>\n",
       "      <td>True</td>\n",
       "      <td>False</td>\n",
       "      <td>False</td>\n",
       "      <td>False</td>\n",
       "    </tr>\n",
       "    <tr>\n",
       "      <th>1</th>\n",
       "      <td>False</td>\n",
       "      <td>True</td>\n",
       "      <td>False</td>\n",
       "      <td>False</td>\n",
       "      <td>True</td>\n",
       "      <td>False</td>\n",
       "      <td>False</td>\n",
       "      <td>False</td>\n",
       "      <td>False</td>\n",
       "      <td>False</td>\n",
       "      <td>...</td>\n",
       "      <td>False</td>\n",
       "      <td>False</td>\n",
       "      <td>True</td>\n",
       "      <td>False</td>\n",
       "      <td>True</td>\n",
       "      <td>True</td>\n",
       "      <td>True</td>\n",
       "      <td>False</td>\n",
       "      <td>False</td>\n",
       "      <td>False</td>\n",
       "    </tr>\n",
       "    <tr>\n",
       "      <th>2</th>\n",
       "      <td>False</td>\n",
       "      <td>True</td>\n",
       "      <td>False</td>\n",
       "      <td>False</td>\n",
       "      <td>True</td>\n",
       "      <td>False</td>\n",
       "      <td>False</td>\n",
       "      <td>False</td>\n",
       "      <td>False</td>\n",
       "      <td>False</td>\n",
       "      <td>...</td>\n",
       "      <td>False</td>\n",
       "      <td>False</td>\n",
       "      <td>True</td>\n",
       "      <td>False</td>\n",
       "      <td>True</td>\n",
       "      <td>True</td>\n",
       "      <td>True</td>\n",
       "      <td>False</td>\n",
       "      <td>False</td>\n",
       "      <td>False</td>\n",
       "    </tr>\n",
       "    <tr>\n",
       "      <th>3</th>\n",
       "      <td>False</td>\n",
       "      <td>True</td>\n",
       "      <td>False</td>\n",
       "      <td>False</td>\n",
       "      <td>True</td>\n",
       "      <td>True</td>\n",
       "      <td>True</td>\n",
       "      <td>False</td>\n",
       "      <td>False</td>\n",
       "      <td>False</td>\n",
       "      <td>...</td>\n",
       "      <td>False</td>\n",
       "      <td>False</td>\n",
       "      <td>True</td>\n",
       "      <td>False</td>\n",
       "      <td>True</td>\n",
       "      <td>True</td>\n",
       "      <td>True</td>\n",
       "      <td>False</td>\n",
       "      <td>False</td>\n",
       "      <td>False</td>\n",
       "    </tr>\n",
       "    <tr>\n",
       "      <th>4</th>\n",
       "      <td>False</td>\n",
       "      <td>True</td>\n",
       "      <td>False</td>\n",
       "      <td>False</td>\n",
       "      <td>True</td>\n",
       "      <td>True</td>\n",
       "      <td>True</td>\n",
       "      <td>False</td>\n",
       "      <td>False</td>\n",
       "      <td>False</td>\n",
       "      <td>...</td>\n",
       "      <td>False</td>\n",
       "      <td>False</td>\n",
       "      <td>True</td>\n",
       "      <td>False</td>\n",
       "      <td>True</td>\n",
       "      <td>True</td>\n",
       "      <td>True</td>\n",
       "      <td>False</td>\n",
       "      <td>False</td>\n",
       "      <td>False</td>\n",
       "    </tr>\n",
       "  </tbody>\n",
       "</table>\n",
       "<p>5 rows × 39 columns</p>\n",
       "</div>"
      ],
      "text/plain": [
       "   barstool_1_time  betclic_1_time  betfair_1_time  betfred_1_time  \\\n",
       "0            False            True           False           False   \n",
       "1            False            True           False           False   \n",
       "2            False            True           False           False   \n",
       "3            False            True           False           False   \n",
       "4            False            True           False           False   \n",
       "\n",
       "   betmgm_1_time  betonlineag_1_time  betrivers_1_time  betus_1_time  \\\n",
       "0           True               False             False         False   \n",
       "1           True               False             False         False   \n",
       "2           True               False             False         False   \n",
       "3           True                True              True         False   \n",
       "4           True                True              True         False   \n",
       "\n",
       "   betway_1_time  bovada_1_time  ...  sugarhouse_1_time  superbook_1_time  \\\n",
       "0          False          False  ...              False             False   \n",
       "1          False          False  ...              False             False   \n",
       "2          False          False  ...              False             False   \n",
       "3          False          False  ...              False             False   \n",
       "4          False          False  ...              False             False   \n",
       "\n",
       "   twinspires_1_time  unibet_1_time  unibet_eu_1_time  unibet_uk_1_time  \\\n",
       "0               True          False              True              True   \n",
       "1               True          False              True              True   \n",
       "2               True          False              True              True   \n",
       "3               True          False              True              True   \n",
       "4               True          False              True              True   \n",
       "\n",
       "   unibet_us_1_time  williamhill_1_time  williamhill_us_1_time  wynnbet_1_time  \n",
       "0              True               False                  False           False  \n",
       "1              True               False                  False           False  \n",
       "2              True               False                  False           False  \n",
       "3              True               False                  False           False  \n",
       "4              True               False                  False           False  \n",
       "\n",
       "[5 rows x 39 columns]"
      ]
     },
     "execution_count": 423,
     "metadata": {},
     "output_type": "execute_result"
    }
   ],
   "source": [
    "mask = result_df <= threshold\n",
    "mask.head()"
   ]
  },
  {
   "cell_type": "code",
   "execution_count": 424,
   "metadata": {},
   "outputs": [],
   "source": [
    "# Create a new mask DataFrame with the correct column names\n",
    "mask.columns = odds_df.columns\n"
   ]
  },
  {
   "cell_type": "code",
   "execution_count": 425,
   "metadata": {},
   "outputs": [
    {
     "data": {
      "text/html": [
       "<div>\n",
       "<style scoped>\n",
       "    .dataframe tbody tr th:only-of-type {\n",
       "        vertical-align: middle;\n",
       "    }\n",
       "\n",
       "    .dataframe tbody tr th {\n",
       "        vertical-align: top;\n",
       "    }\n",
       "\n",
       "    .dataframe thead th {\n",
       "        text-align: right;\n",
       "    }\n",
       "</style>\n",
       "<table border=\"1\" class=\"dataframe\">\n",
       "  <thead>\n",
       "    <tr style=\"text-align: right;\">\n",
       "      <th></th>\n",
       "      <th>barstool_1_odds</th>\n",
       "      <th>betclic_1_odds</th>\n",
       "      <th>betfair_1_odds</th>\n",
       "      <th>betfred_1_odds</th>\n",
       "      <th>betmgm_1_odds</th>\n",
       "      <th>betonlineag_1_odds</th>\n",
       "      <th>betrivers_1_odds</th>\n",
       "      <th>betus_1_odds</th>\n",
       "      <th>betway_1_odds</th>\n",
       "      <th>bovada_1_odds</th>\n",
       "      <th>...</th>\n",
       "      <th>sugarhouse_1_odds</th>\n",
       "      <th>superbook_1_odds</th>\n",
       "      <th>twinspires_1_odds</th>\n",
       "      <th>unibet_1_odds</th>\n",
       "      <th>unibet_eu_1_odds</th>\n",
       "      <th>unibet_uk_1_odds</th>\n",
       "      <th>unibet_us_1_odds</th>\n",
       "      <th>williamhill_1_odds</th>\n",
       "      <th>williamhill_us_1_odds</th>\n",
       "      <th>wynnbet_1_odds</th>\n",
       "    </tr>\n",
       "  </thead>\n",
       "  <tbody>\n",
       "    <tr>\n",
       "      <th>0</th>\n",
       "      <td>False</td>\n",
       "      <td>True</td>\n",
       "      <td>False</td>\n",
       "      <td>False</td>\n",
       "      <td>True</td>\n",
       "      <td>False</td>\n",
       "      <td>False</td>\n",
       "      <td>False</td>\n",
       "      <td>False</td>\n",
       "      <td>False</td>\n",
       "      <td>...</td>\n",
       "      <td>False</td>\n",
       "      <td>False</td>\n",
       "      <td>True</td>\n",
       "      <td>False</td>\n",
       "      <td>True</td>\n",
       "      <td>True</td>\n",
       "      <td>True</td>\n",
       "      <td>False</td>\n",
       "      <td>False</td>\n",
       "      <td>False</td>\n",
       "    </tr>\n",
       "    <tr>\n",
       "      <th>1</th>\n",
       "      <td>False</td>\n",
       "      <td>True</td>\n",
       "      <td>False</td>\n",
       "      <td>False</td>\n",
       "      <td>True</td>\n",
       "      <td>False</td>\n",
       "      <td>False</td>\n",
       "      <td>False</td>\n",
       "      <td>False</td>\n",
       "      <td>False</td>\n",
       "      <td>...</td>\n",
       "      <td>False</td>\n",
       "      <td>False</td>\n",
       "      <td>True</td>\n",
       "      <td>False</td>\n",
       "      <td>True</td>\n",
       "      <td>True</td>\n",
       "      <td>True</td>\n",
       "      <td>False</td>\n",
       "      <td>False</td>\n",
       "      <td>False</td>\n",
       "    </tr>\n",
       "    <tr>\n",
       "      <th>2</th>\n",
       "      <td>False</td>\n",
       "      <td>True</td>\n",
       "      <td>False</td>\n",
       "      <td>False</td>\n",
       "      <td>True</td>\n",
       "      <td>False</td>\n",
       "      <td>False</td>\n",
       "      <td>False</td>\n",
       "      <td>False</td>\n",
       "      <td>False</td>\n",
       "      <td>...</td>\n",
       "      <td>False</td>\n",
       "      <td>False</td>\n",
       "      <td>True</td>\n",
       "      <td>False</td>\n",
       "      <td>True</td>\n",
       "      <td>True</td>\n",
       "      <td>True</td>\n",
       "      <td>False</td>\n",
       "      <td>False</td>\n",
       "      <td>False</td>\n",
       "    </tr>\n",
       "    <tr>\n",
       "      <th>3</th>\n",
       "      <td>False</td>\n",
       "      <td>True</td>\n",
       "      <td>False</td>\n",
       "      <td>False</td>\n",
       "      <td>True</td>\n",
       "      <td>True</td>\n",
       "      <td>True</td>\n",
       "      <td>False</td>\n",
       "      <td>False</td>\n",
       "      <td>False</td>\n",
       "      <td>...</td>\n",
       "      <td>False</td>\n",
       "      <td>False</td>\n",
       "      <td>True</td>\n",
       "      <td>False</td>\n",
       "      <td>True</td>\n",
       "      <td>True</td>\n",
       "      <td>True</td>\n",
       "      <td>False</td>\n",
       "      <td>False</td>\n",
       "      <td>False</td>\n",
       "    </tr>\n",
       "    <tr>\n",
       "      <th>4</th>\n",
       "      <td>False</td>\n",
       "      <td>True</td>\n",
       "      <td>False</td>\n",
       "      <td>False</td>\n",
       "      <td>True</td>\n",
       "      <td>True</td>\n",
       "      <td>True</td>\n",
       "      <td>False</td>\n",
       "      <td>False</td>\n",
       "      <td>False</td>\n",
       "      <td>...</td>\n",
       "      <td>False</td>\n",
       "      <td>False</td>\n",
       "      <td>True</td>\n",
       "      <td>False</td>\n",
       "      <td>True</td>\n",
       "      <td>True</td>\n",
       "      <td>True</td>\n",
       "      <td>False</td>\n",
       "      <td>False</td>\n",
       "      <td>False</td>\n",
       "    </tr>\n",
       "  </tbody>\n",
       "</table>\n",
       "<p>5 rows × 39 columns</p>\n",
       "</div>"
      ],
      "text/plain": [
       "   barstool_1_odds  betclic_1_odds  betfair_1_odds  betfred_1_odds  \\\n",
       "0            False            True           False           False   \n",
       "1            False            True           False           False   \n",
       "2            False            True           False           False   \n",
       "3            False            True           False           False   \n",
       "4            False            True           False           False   \n",
       "\n",
       "   betmgm_1_odds  betonlineag_1_odds  betrivers_1_odds  betus_1_odds  \\\n",
       "0           True               False             False         False   \n",
       "1           True               False             False         False   \n",
       "2           True               False             False         False   \n",
       "3           True                True              True         False   \n",
       "4           True                True              True         False   \n",
       "\n",
       "   betway_1_odds  bovada_1_odds  ...  sugarhouse_1_odds  superbook_1_odds  \\\n",
       "0          False          False  ...              False             False   \n",
       "1          False          False  ...              False             False   \n",
       "2          False          False  ...              False             False   \n",
       "3          False          False  ...              False             False   \n",
       "4          False          False  ...              False             False   \n",
       "\n",
       "   twinspires_1_odds  unibet_1_odds  unibet_eu_1_odds  unibet_uk_1_odds  \\\n",
       "0               True          False              True              True   \n",
       "1               True          False              True              True   \n",
       "2               True          False              True              True   \n",
       "3               True          False              True              True   \n",
       "4               True          False              True              True   \n",
       "\n",
       "   unibet_us_1_odds  williamhill_1_odds  williamhill_us_1_odds  wynnbet_1_odds  \n",
       "0              True               False                  False           False  \n",
       "1              True               False                  False           False  \n",
       "2              True               False                  False           False  \n",
       "3              True               False                  False           False  \n",
       "4              True               False                  False           False  \n",
       "\n",
       "[5 rows x 39 columns]"
      ]
     },
     "execution_count": 425,
     "metadata": {},
     "output_type": "execute_result"
    }
   ],
   "source": [
    "mask.head()"
   ]
  },
  {
   "cell_type": "code",
   "execution_count": 426,
   "metadata": {},
   "outputs": [
    {
     "data": {
      "text/html": [
       "<div>\n",
       "<style scoped>\n",
       "    .dataframe tbody tr th:only-of-type {\n",
       "        vertical-align: middle;\n",
       "    }\n",
       "\n",
       "    .dataframe tbody tr th {\n",
       "        vertical-align: top;\n",
       "    }\n",
       "\n",
       "    .dataframe thead th {\n",
       "        text-align: right;\n",
       "    }\n",
       "</style>\n",
       "<table border=\"1\" class=\"dataframe\">\n",
       "  <thead>\n",
       "    <tr style=\"text-align: right;\">\n",
       "      <th></th>\n",
       "      <th>barstool_1_odds</th>\n",
       "      <th>betclic_1_odds</th>\n",
       "      <th>betfair_1_odds</th>\n",
       "      <th>betfred_1_odds</th>\n",
       "      <th>betmgm_1_odds</th>\n",
       "      <th>betonlineag_1_odds</th>\n",
       "      <th>betrivers_1_odds</th>\n",
       "      <th>betus_1_odds</th>\n",
       "      <th>betway_1_odds</th>\n",
       "      <th>bovada_1_odds</th>\n",
       "      <th>...</th>\n",
       "      <th>sugarhouse_1_odds</th>\n",
       "      <th>superbook_1_odds</th>\n",
       "      <th>twinspires_1_odds</th>\n",
       "      <th>unibet_1_odds</th>\n",
       "      <th>unibet_eu_1_odds</th>\n",
       "      <th>unibet_uk_1_odds</th>\n",
       "      <th>unibet_us_1_odds</th>\n",
       "      <th>williamhill_1_odds</th>\n",
       "      <th>williamhill_us_1_odds</th>\n",
       "      <th>wynnbet_1_odds</th>\n",
       "    </tr>\n",
       "  </thead>\n",
       "  <tbody>\n",
       "    <tr>\n",
       "      <th>0</th>\n",
       "      <td>1.10</td>\n",
       "      <td>1.10</td>\n",
       "      <td>0.0</td>\n",
       "      <td>0.0</td>\n",
       "      <td>1.13</td>\n",
       "      <td>0.00</td>\n",
       "      <td>0.00</td>\n",
       "      <td>0.00</td>\n",
       "      <td>0.0</td>\n",
       "      <td>1.09</td>\n",
       "      <td>...</td>\n",
       "      <td>0.0</td>\n",
       "      <td>0.00</td>\n",
       "      <td>1.13</td>\n",
       "      <td>0.0</td>\n",
       "      <td>1.13</td>\n",
       "      <td>1.12</td>\n",
       "      <td>1.14</td>\n",
       "      <td>0.00</td>\n",
       "      <td>0.00</td>\n",
       "      <td>0.00</td>\n",
       "    </tr>\n",
       "    <tr>\n",
       "      <th>1</th>\n",
       "      <td>1.05</td>\n",
       "      <td>1.06</td>\n",
       "      <td>0.0</td>\n",
       "      <td>0.0</td>\n",
       "      <td>1.05</td>\n",
       "      <td>0.00</td>\n",
       "      <td>0.00</td>\n",
       "      <td>0.00</td>\n",
       "      <td>0.0</td>\n",
       "      <td>1.05</td>\n",
       "      <td>...</td>\n",
       "      <td>0.0</td>\n",
       "      <td>0.00</td>\n",
       "      <td>1.01</td>\n",
       "      <td>0.0</td>\n",
       "      <td>1.01</td>\n",
       "      <td>1.04</td>\n",
       "      <td>1.04</td>\n",
       "      <td>0.00</td>\n",
       "      <td>0.00</td>\n",
       "      <td>0.00</td>\n",
       "    </tr>\n",
       "    <tr>\n",
       "      <th>2</th>\n",
       "      <td>1.83</td>\n",
       "      <td>1.85</td>\n",
       "      <td>0.0</td>\n",
       "      <td>0.0</td>\n",
       "      <td>1.87</td>\n",
       "      <td>0.00</td>\n",
       "      <td>0.00</td>\n",
       "      <td>0.00</td>\n",
       "      <td>0.0</td>\n",
       "      <td>1.77</td>\n",
       "      <td>...</td>\n",
       "      <td>0.0</td>\n",
       "      <td>0.00</td>\n",
       "      <td>1.82</td>\n",
       "      <td>0.0</td>\n",
       "      <td>1.82</td>\n",
       "      <td>1.89</td>\n",
       "      <td>1.85</td>\n",
       "      <td>0.00</td>\n",
       "      <td>0.00</td>\n",
       "      <td>0.00</td>\n",
       "    </tr>\n",
       "    <tr>\n",
       "      <th>3</th>\n",
       "      <td>2.10</td>\n",
       "      <td>2.15</td>\n",
       "      <td>0.0</td>\n",
       "      <td>0.0</td>\n",
       "      <td>2.10</td>\n",
       "      <td>2.14</td>\n",
       "      <td>2.16</td>\n",
       "      <td>2.16</td>\n",
       "      <td>0.0</td>\n",
       "      <td>2.08</td>\n",
       "      <td>...</td>\n",
       "      <td>0.0</td>\n",
       "      <td>2.15</td>\n",
       "      <td>2.15</td>\n",
       "      <td>0.0</td>\n",
       "      <td>2.16</td>\n",
       "      <td>2.15</td>\n",
       "      <td>2.16</td>\n",
       "      <td>2.10</td>\n",
       "      <td>2.10</td>\n",
       "      <td>2.15</td>\n",
       "    </tr>\n",
       "    <tr>\n",
       "      <th>4</th>\n",
       "      <td>1.77</td>\n",
       "      <td>1.78</td>\n",
       "      <td>0.0</td>\n",
       "      <td>0.0</td>\n",
       "      <td>1.77</td>\n",
       "      <td>1.79</td>\n",
       "      <td>1.74</td>\n",
       "      <td>1.77</td>\n",
       "      <td>0.0</td>\n",
       "      <td>1.76</td>\n",
       "      <td>...</td>\n",
       "      <td>0.0</td>\n",
       "      <td>1.78</td>\n",
       "      <td>1.74</td>\n",
       "      <td>0.0</td>\n",
       "      <td>1.74</td>\n",
       "      <td>1.74</td>\n",
       "      <td>1.74</td>\n",
       "      <td>1.77</td>\n",
       "      <td>1.77</td>\n",
       "      <td>1.80</td>\n",
       "    </tr>\n",
       "  </tbody>\n",
       "</table>\n",
       "<p>5 rows × 39 columns</p>\n",
       "</div>"
      ],
      "text/plain": [
       "   barstool_1_odds  betclic_1_odds  betfair_1_odds  betfred_1_odds  \\\n",
       "0             1.10            1.10             0.0             0.0   \n",
       "1             1.05            1.06             0.0             0.0   \n",
       "2             1.83            1.85             0.0             0.0   \n",
       "3             2.10            2.15             0.0             0.0   \n",
       "4             1.77            1.78             0.0             0.0   \n",
       "\n",
       "   betmgm_1_odds  betonlineag_1_odds  betrivers_1_odds  betus_1_odds  \\\n",
       "0           1.13                0.00              0.00          0.00   \n",
       "1           1.05                0.00              0.00          0.00   \n",
       "2           1.87                0.00              0.00          0.00   \n",
       "3           2.10                2.14              2.16          2.16   \n",
       "4           1.77                1.79              1.74          1.77   \n",
       "\n",
       "   betway_1_odds  bovada_1_odds  ...  sugarhouse_1_odds  superbook_1_odds  \\\n",
       "0            0.0           1.09  ...                0.0              0.00   \n",
       "1            0.0           1.05  ...                0.0              0.00   \n",
       "2            0.0           1.77  ...                0.0              0.00   \n",
       "3            0.0           2.08  ...                0.0              2.15   \n",
       "4            0.0           1.76  ...                0.0              1.78   \n",
       "\n",
       "   twinspires_1_odds  unibet_1_odds  unibet_eu_1_odds  unibet_uk_1_odds  \\\n",
       "0               1.13            0.0              1.13              1.12   \n",
       "1               1.01            0.0              1.01              1.04   \n",
       "2               1.82            0.0              1.82              1.89   \n",
       "3               2.15            0.0              2.16              2.15   \n",
       "4               1.74            0.0              1.74              1.74   \n",
       "\n",
       "   unibet_us_1_odds  williamhill_1_odds  williamhill_us_1_odds  wynnbet_1_odds  \n",
       "0              1.14                0.00                   0.00            0.00  \n",
       "1              1.04                0.00                   0.00            0.00  \n",
       "2              1.85                0.00                   0.00            0.00  \n",
       "3              2.16                2.10                   2.10            2.15  \n",
       "4              1.74                1.77                   1.77            1.80  \n",
       "\n",
       "[5 rows x 39 columns]"
      ]
     },
     "execution_count": 426,
     "metadata": {},
     "output_type": "execute_result"
    }
   ],
   "source": [
    "odds_df.head()"
   ]
  },
  {
   "cell_type": "code",
   "execution_count": 427,
   "metadata": {},
   "outputs": [],
   "source": [
    "odds_df_masked = odds_df.where(mask, 0)"
   ]
  },
  {
   "cell_type": "code",
   "execution_count": 428,
   "metadata": {},
   "outputs": [
    {
     "data": {
      "text/html": [
       "<div>\n",
       "<style scoped>\n",
       "    .dataframe tbody tr th:only-of-type {\n",
       "        vertical-align: middle;\n",
       "    }\n",
       "\n",
       "    .dataframe tbody tr th {\n",
       "        vertical-align: top;\n",
       "    }\n",
       "\n",
       "    .dataframe thead th {\n",
       "        text-align: right;\n",
       "    }\n",
       "</style>\n",
       "<table border=\"1\" class=\"dataframe\">\n",
       "  <thead>\n",
       "    <tr style=\"text-align: right;\">\n",
       "      <th></th>\n",
       "      <th>barstool_1_odds</th>\n",
       "      <th>betclic_1_odds</th>\n",
       "      <th>betfair_1_odds</th>\n",
       "      <th>betfred_1_odds</th>\n",
       "      <th>betmgm_1_odds</th>\n",
       "      <th>betonlineag_1_odds</th>\n",
       "      <th>betrivers_1_odds</th>\n",
       "      <th>betus_1_odds</th>\n",
       "      <th>betway_1_odds</th>\n",
       "      <th>bovada_1_odds</th>\n",
       "      <th>...</th>\n",
       "      <th>sugarhouse_1_odds</th>\n",
       "      <th>superbook_1_odds</th>\n",
       "      <th>twinspires_1_odds</th>\n",
       "      <th>unibet_1_odds</th>\n",
       "      <th>unibet_eu_1_odds</th>\n",
       "      <th>unibet_uk_1_odds</th>\n",
       "      <th>unibet_us_1_odds</th>\n",
       "      <th>williamhill_1_odds</th>\n",
       "      <th>williamhill_us_1_odds</th>\n",
       "      <th>wynnbet_1_odds</th>\n",
       "    </tr>\n",
       "  </thead>\n",
       "  <tbody>\n",
       "    <tr>\n",
       "      <th>0</th>\n",
       "      <td>0.0</td>\n",
       "      <td>1.10</td>\n",
       "      <td>0.0</td>\n",
       "      <td>0.0</td>\n",
       "      <td>1.13</td>\n",
       "      <td>0.00</td>\n",
       "      <td>0.00</td>\n",
       "      <td>0.0</td>\n",
       "      <td>0.0</td>\n",
       "      <td>0.0</td>\n",
       "      <td>...</td>\n",
       "      <td>0.0</td>\n",
       "      <td>0.0</td>\n",
       "      <td>1.13</td>\n",
       "      <td>0.0</td>\n",
       "      <td>1.13</td>\n",
       "      <td>1.12</td>\n",
       "      <td>1.14</td>\n",
       "      <td>0.0</td>\n",
       "      <td>0.0</td>\n",
       "      <td>0.0</td>\n",
       "    </tr>\n",
       "    <tr>\n",
       "      <th>1</th>\n",
       "      <td>0.0</td>\n",
       "      <td>1.06</td>\n",
       "      <td>0.0</td>\n",
       "      <td>0.0</td>\n",
       "      <td>1.05</td>\n",
       "      <td>0.00</td>\n",
       "      <td>0.00</td>\n",
       "      <td>0.0</td>\n",
       "      <td>0.0</td>\n",
       "      <td>0.0</td>\n",
       "      <td>...</td>\n",
       "      <td>0.0</td>\n",
       "      <td>0.0</td>\n",
       "      <td>1.01</td>\n",
       "      <td>0.0</td>\n",
       "      <td>1.01</td>\n",
       "      <td>1.04</td>\n",
       "      <td>1.04</td>\n",
       "      <td>0.0</td>\n",
       "      <td>0.0</td>\n",
       "      <td>0.0</td>\n",
       "    </tr>\n",
       "    <tr>\n",
       "      <th>2</th>\n",
       "      <td>0.0</td>\n",
       "      <td>1.85</td>\n",
       "      <td>0.0</td>\n",
       "      <td>0.0</td>\n",
       "      <td>1.87</td>\n",
       "      <td>0.00</td>\n",
       "      <td>0.00</td>\n",
       "      <td>0.0</td>\n",
       "      <td>0.0</td>\n",
       "      <td>0.0</td>\n",
       "      <td>...</td>\n",
       "      <td>0.0</td>\n",
       "      <td>0.0</td>\n",
       "      <td>1.82</td>\n",
       "      <td>0.0</td>\n",
       "      <td>1.82</td>\n",
       "      <td>1.89</td>\n",
       "      <td>1.85</td>\n",
       "      <td>0.0</td>\n",
       "      <td>0.0</td>\n",
       "      <td>0.0</td>\n",
       "    </tr>\n",
       "    <tr>\n",
       "      <th>3</th>\n",
       "      <td>0.0</td>\n",
       "      <td>2.15</td>\n",
       "      <td>0.0</td>\n",
       "      <td>0.0</td>\n",
       "      <td>2.10</td>\n",
       "      <td>2.14</td>\n",
       "      <td>2.16</td>\n",
       "      <td>0.0</td>\n",
       "      <td>0.0</td>\n",
       "      <td>0.0</td>\n",
       "      <td>...</td>\n",
       "      <td>0.0</td>\n",
       "      <td>0.0</td>\n",
       "      <td>2.15</td>\n",
       "      <td>0.0</td>\n",
       "      <td>2.16</td>\n",
       "      <td>2.15</td>\n",
       "      <td>2.16</td>\n",
       "      <td>0.0</td>\n",
       "      <td>0.0</td>\n",
       "      <td>0.0</td>\n",
       "    </tr>\n",
       "    <tr>\n",
       "      <th>4</th>\n",
       "      <td>0.0</td>\n",
       "      <td>1.78</td>\n",
       "      <td>0.0</td>\n",
       "      <td>0.0</td>\n",
       "      <td>1.77</td>\n",
       "      <td>1.79</td>\n",
       "      <td>1.74</td>\n",
       "      <td>0.0</td>\n",
       "      <td>0.0</td>\n",
       "      <td>0.0</td>\n",
       "      <td>...</td>\n",
       "      <td>0.0</td>\n",
       "      <td>0.0</td>\n",
       "      <td>1.74</td>\n",
       "      <td>0.0</td>\n",
       "      <td>1.74</td>\n",
       "      <td>1.74</td>\n",
       "      <td>1.74</td>\n",
       "      <td>0.0</td>\n",
       "      <td>0.0</td>\n",
       "      <td>0.0</td>\n",
       "    </tr>\n",
       "  </tbody>\n",
       "</table>\n",
       "<p>5 rows × 39 columns</p>\n",
       "</div>"
      ],
      "text/plain": [
       "   barstool_1_odds  betclic_1_odds  betfair_1_odds  betfred_1_odds  \\\n",
       "0              0.0            1.10             0.0             0.0   \n",
       "1              0.0            1.06             0.0             0.0   \n",
       "2              0.0            1.85             0.0             0.0   \n",
       "3              0.0            2.15             0.0             0.0   \n",
       "4              0.0            1.78             0.0             0.0   \n",
       "\n",
       "   betmgm_1_odds  betonlineag_1_odds  betrivers_1_odds  betus_1_odds  \\\n",
       "0           1.13                0.00              0.00           0.0   \n",
       "1           1.05                0.00              0.00           0.0   \n",
       "2           1.87                0.00              0.00           0.0   \n",
       "3           2.10                2.14              2.16           0.0   \n",
       "4           1.77                1.79              1.74           0.0   \n",
       "\n",
       "   betway_1_odds  bovada_1_odds  ...  sugarhouse_1_odds  superbook_1_odds  \\\n",
       "0            0.0            0.0  ...                0.0               0.0   \n",
       "1            0.0            0.0  ...                0.0               0.0   \n",
       "2            0.0            0.0  ...                0.0               0.0   \n",
       "3            0.0            0.0  ...                0.0               0.0   \n",
       "4            0.0            0.0  ...                0.0               0.0   \n",
       "\n",
       "   twinspires_1_odds  unibet_1_odds  unibet_eu_1_odds  unibet_uk_1_odds  \\\n",
       "0               1.13            0.0              1.13              1.12   \n",
       "1               1.01            0.0              1.01              1.04   \n",
       "2               1.82            0.0              1.82              1.89   \n",
       "3               2.15            0.0              2.16              2.15   \n",
       "4               1.74            0.0              1.74              1.74   \n",
       "\n",
       "   unibet_us_1_odds  williamhill_1_odds  williamhill_us_1_odds  wynnbet_1_odds  \n",
       "0              1.14                 0.0                    0.0             0.0  \n",
       "1              1.04                 0.0                    0.0             0.0  \n",
       "2              1.85                 0.0                    0.0             0.0  \n",
       "3              2.16                 0.0                    0.0             0.0  \n",
       "4              1.74                 0.0                    0.0             0.0  \n",
       "\n",
       "[5 rows x 39 columns]"
      ]
     },
     "execution_count": 428,
     "metadata": {},
     "output_type": "execute_result"
    }
   ],
   "source": [
    "odds_df_masked.head()"
   ]
  },
  {
   "cell_type": "code",
   "execution_count": 429,
   "metadata": {},
   "outputs": [
    {
     "data": {
      "text/plain": [
       "['barstool_1_odds',\n",
       " 'betmgm_1_odds',\n",
       " 'bovada_1_odds',\n",
       " 'coral_1_odds',\n",
       " 'draftkings_1_odds',\n",
       " 'fanduel_1_odds']"
      ]
     },
     "execution_count": 429,
     "metadata": {},
     "output_type": "execute_result"
    }
   ],
   "source": [
    "subset_columns"
   ]
  },
  {
   "cell_type": "code",
   "execution_count": 430,
   "metadata": {},
   "outputs": [
    {
     "data": {
      "text/html": [
       "<div>\n",
       "<style scoped>\n",
       "    .dataframe tbody tr th:only-of-type {\n",
       "        vertical-align: middle;\n",
       "    }\n",
       "\n",
       "    .dataframe tbody tr th {\n",
       "        vertical-align: top;\n",
       "    }\n",
       "\n",
       "    .dataframe thead th {\n",
       "        text-align: right;\n",
       "    }\n",
       "</style>\n",
       "<table border=\"1\" class=\"dataframe\">\n",
       "  <thead>\n",
       "    <tr style=\"text-align: right;\">\n",
       "      <th></th>\n",
       "      <th>barstool_1_odds</th>\n",
       "      <th>betmgm_1_odds</th>\n",
       "      <th>bovada_1_odds</th>\n",
       "      <th>coral_1_odds</th>\n",
       "      <th>draftkings_1_odds</th>\n",
       "      <th>fanduel_1_odds</th>\n",
       "    </tr>\n",
       "  </thead>\n",
       "  <tbody>\n",
       "    <tr>\n",
       "      <th>0</th>\n",
       "      <td>0.0</td>\n",
       "      <td>1.13</td>\n",
       "      <td>0.0</td>\n",
       "      <td>0.0</td>\n",
       "      <td>1.11</td>\n",
       "      <td>1.08</td>\n",
       "    </tr>\n",
       "    <tr>\n",
       "      <th>1</th>\n",
       "      <td>0.0</td>\n",
       "      <td>1.05</td>\n",
       "      <td>0.0</td>\n",
       "      <td>0.0</td>\n",
       "      <td>1.03</td>\n",
       "      <td>1.05</td>\n",
       "    </tr>\n",
       "    <tr>\n",
       "      <th>2</th>\n",
       "      <td>0.0</td>\n",
       "      <td>1.87</td>\n",
       "      <td>0.0</td>\n",
       "      <td>0.0</td>\n",
       "      <td>1.80</td>\n",
       "      <td>1.77</td>\n",
       "    </tr>\n",
       "    <tr>\n",
       "      <th>3</th>\n",
       "      <td>0.0</td>\n",
       "      <td>2.10</td>\n",
       "      <td>0.0</td>\n",
       "      <td>0.0</td>\n",
       "      <td>2.10</td>\n",
       "      <td>2.16</td>\n",
       "    </tr>\n",
       "    <tr>\n",
       "      <th>4</th>\n",
       "      <td>0.0</td>\n",
       "      <td>1.77</td>\n",
       "      <td>0.0</td>\n",
       "      <td>0.0</td>\n",
       "      <td>1.77</td>\n",
       "      <td>1.74</td>\n",
       "    </tr>\n",
       "  </tbody>\n",
       "</table>\n",
       "</div>"
      ],
      "text/plain": [
       "   barstool_1_odds  betmgm_1_odds  bovada_1_odds  coral_1_odds  \\\n",
       "0              0.0           1.13            0.0           0.0   \n",
       "1              0.0           1.05            0.0           0.0   \n",
       "2              0.0           1.87            0.0           0.0   \n",
       "3              0.0           2.10            0.0           0.0   \n",
       "4              0.0           1.77            0.0           0.0   \n",
       "\n",
       "   draftkings_1_odds  fanduel_1_odds  \n",
       "0               1.11            1.08  \n",
       "1               1.03            1.05  \n",
       "2               1.80            1.77  \n",
       "3               2.10            2.16  \n",
       "4               1.77            1.74  "
      ]
     },
     "execution_count": 430,
     "metadata": {},
     "output_type": "execute_result"
    }
   ],
   "source": [
    "odds_df_masked[subset_columns].head()"
   ]
  },
  {
   "cell_type": "code",
   "execution_count": 431,
   "metadata": {},
   "outputs": [],
   "source": [
    "df['highest_bettable_odds'] = odds_df_masked[subset_columns].max(axis=1)"
   ]
  },
  {
   "cell_type": "code",
   "execution_count": 432,
   "metadata": {},
   "outputs": [
    {
     "data": {
      "text/plain": [
       "0    1.13\n",
       "1    1.05\n",
       "2    1.87\n",
       "3    2.16\n",
       "4    1.77\n",
       "Name: highest_bettable_odds, dtype: float64"
      ]
     },
     "execution_count": 432,
     "metadata": {},
     "output_type": "execute_result"
    }
   ],
   "source": [
    "df['highest_bettable_odds'].head()"
   ]
  },
  {
   "cell_type": "code",
   "execution_count": null,
   "metadata": {},
   "outputs": [],
   "source": []
  },
  {
   "cell_type": "code",
   "execution_count": 444,
   "metadata": {},
   "outputs": [],
   "source": [
    "df = pd.read_parquet('/Users/stefanfeiler/Desktop/Smartbetter_site/website/mlb_data/2023_data_for_val.parquet')"
   ]
  },
  {
   "cell_type": "code",
   "execution_count": 446,
   "metadata": {},
   "outputs": [
    {
     "data": {
      "text/html": [
       "<div>\n",
       "<style scoped>\n",
       "    .dataframe tbody tr th:only-of-type {\n",
       "        vertical-align: middle;\n",
       "    }\n",
       "\n",
       "    .dataframe tbody tr th {\n",
       "        vertical-align: top;\n",
       "    }\n",
       "\n",
       "    .dataframe thead th {\n",
       "        text-align: right;\n",
       "    }\n",
       "</style>\n",
       "<table border=\"1\" class=\"dataframe\">\n",
       "  <thead>\n",
       "    <tr style=\"text-align: right;\">\n",
       "      <th></th>\n",
       "      <th>team_1</th>\n",
       "      <th>team_2</th>\n",
       "      <th>game_id</th>\n",
       "      <th>commence_time</th>\n",
       "      <th>time_pulled</th>\n",
       "      <th>home_team</th>\n",
       "      <th>away_team</th>\n",
       "      <th>barstool_1_odds</th>\n",
       "      <th>barstool_1_time</th>\n",
       "      <th>barstool_2_odds</th>\n",
       "      <th>...</th>\n",
       "      <th>my_game_id_final</th>\n",
       "      <th>number_of_game_today</th>\n",
       "      <th>day_of_week</th>\n",
       "      <th>away_team_league</th>\n",
       "      <th>away_team_game_number</th>\n",
       "      <th>home_team_league</th>\n",
       "      <th>home_team_game_number</th>\n",
       "      <th>day_night</th>\n",
       "      <th>park_id</th>\n",
       "      <th>winning_team</th>\n",
       "    </tr>\n",
       "  </thead>\n",
       "  <tbody>\n",
       "    <tr>\n",
       "      <th>282371</th>\n",
       "      <td>Tampa Bay Rays</td>\n",
       "      <td>Texas Rangers</td>\n",
       "      <td>885c435a882bb2570a2b197844bf15bc</td>\n",
       "      <td>2023-07-17 17:05:00</td>\n",
       "      <td>2023-07-16 10:55:00</td>\n",
       "      <td>Texas Rangers</td>\n",
       "      <td>Tampa Bay Rays</td>\n",
       "      <td>1.87</td>\n",
       "      <td>2023-07-16 10:55:00</td>\n",
       "      <td>1.95</td>\n",
       "      <td>...</td>\n",
       "      <td>Tampa Bay RaysTexas Rangers20230717_0</td>\n",
       "      <td>0</td>\n",
       "      <td>Mon</td>\n",
       "      <td>AL</td>\n",
       "      <td>97.0</td>\n",
       "      <td>AL</td>\n",
       "      <td>95.0</td>\n",
       "      <td>N</td>\n",
       "      <td>ARL03</td>\n",
       "      <td>Texas Rangers</td>\n",
       "    </tr>\n",
       "  </tbody>\n",
       "</table>\n",
       "<p>1 rows × 175 columns</p>\n",
       "</div>"
      ],
      "text/plain": [
       "                team_1         team_2                           game_id  \\\n",
       "282371  Tampa Bay Rays  Texas Rangers  885c435a882bb2570a2b197844bf15bc   \n",
       "\n",
       "             commence_time         time_pulled      home_team       away_team  \\\n",
       "282371 2023-07-17 17:05:00 2023-07-16 10:55:00  Texas Rangers  Tampa Bay Rays   \n",
       "\n",
       "        barstool_1_odds     barstool_1_time  barstool_2_odds  ...  \\\n",
       "282371             1.87 2023-07-16 10:55:00             1.95  ...   \n",
       "\n",
       "                             my_game_id_final  number_of_game_today  \\\n",
       "282371  Tampa Bay RaysTexas Rangers20230717_0                     0   \n",
       "\n",
       "       day_of_week  away_team_league away_team_game_number  home_team_league  \\\n",
       "282371         Mon                AL                  97.0                AL   \n",
       "\n",
       "       home_team_game_number  day_night park_id   winning_team  \n",
       "282371                  95.0          N   ARL03  Texas Rangers  \n",
       "\n",
       "[1 rows x 175 columns]"
      ]
     },
     "execution_count": 446,
     "metadata": {},
     "output_type": "execute_result"
    }
   ],
   "source": [
    "df.tail(1)"
   ]
  },
  {
   "cell_type": "code",
   "execution_count": 463,
   "metadata": {},
   "outputs": [],
   "source": []
  },
  {
   "cell_type": "code",
   "execution_count": 464,
   "metadata": {},
   "outputs": [],
   "source": []
  },
  {
   "cell_type": "code",
   "execution_count": 465,
   "metadata": {},
   "outputs": [
    {
     "data": {
      "text/plain": [
       "150"
      ]
     },
     "execution_count": 465,
     "metadata": {},
     "output_type": "execute_result"
    }
   ],
   "source": []
  },
  {
   "cell_type": "code",
   "execution_count": null,
   "metadata": {},
   "outputs": [],
   "source": []
  }
 ],
 "metadata": {
  "kernelspec": {
   "display_name": "Python 3",
   "language": "python",
   "name": "python3"
  },
  "language_info": {
   "codemirror_mode": {
    "name": "ipython",
    "version": 3
   },
   "file_extension": ".py",
   "mimetype": "text/x-python",
   "name": "python",
   "nbconvert_exporter": "python",
   "pygments_lexer": "ipython3",
   "version": "3.10.12"
  },
  "orig_nbformat": 4
 },
 "nbformat": 4,
 "nbformat_minor": 2
}
