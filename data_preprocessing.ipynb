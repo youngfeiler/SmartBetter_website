{
 "cells": [
  {
   "cell_type": "code",
   "execution_count": 1,
   "metadata": {},
   "outputs": [],
   "source": [
    "import pandas as pd\n",
    "import pyarrow as pa\n",
    "import pyarrow.parquet as pq\n",
    "from datetime import datetime\n",
    "import numpy as np"
   ]
  },
  {
   "attachments": {},
   "cell_type": "markdown",
   "metadata": {},
   "source": [
    "# Make team names uniform between sheets"
   ]
  },
  {
   "cell_type": "code",
   "execution_count": 2,
   "metadata": {},
   "outputs": [],
   "source": [
    "names_file ='/Users/stefanfeiler/Desktop/for_micah/names.csv'"
   ]
  },
  {
   "cell_type": "code",
   "execution_count": 3,
   "metadata": {},
   "outputs": [],
   "source": [
    "df = pd.read_csv(names_file)"
   ]
  },
  {
   "cell_type": "code",
   "execution_count": 4,
   "metadata": {},
   "outputs": [],
   "source": [
    "mapping_dict = {key: value for key, value in zip(df['abbrev'], df['full_name'])}"
   ]
  },
  {
   "cell_type": "code",
   "execution_count": 5,
   "metadata": {},
   "outputs": [],
   "source": [
    "extra_data_file = '/Users/stefanfeiler/Desktop/for_micah/2023_mlb_extra.csv'"
   ]
  },
  {
   "cell_type": "code",
   "execution_count": 6,
   "metadata": {},
   "outputs": [],
   "source": [
    "extra_df = pd.read_csv(extra_data_file)"
   ]
  },
  {
   "cell_type": "code",
   "execution_count": 7,
   "metadata": {},
   "outputs": [],
   "source": [
    "extra_df = extra_df.replace(mapping_dict)"
   ]
  },
  {
   "cell_type": "code",
   "execution_count": 8,
   "metadata": {},
   "outputs": [],
   "source": [
    "extra_data_file_new = '/Users/stefanfeiler/Desktop/for_micah/mlb_extra_stats_uniform_names.csv'"
   ]
  },
  {
   "cell_type": "code",
   "execution_count": 9,
   "metadata": {},
   "outputs": [],
   "source": [
    "extra_df.to_csv(extra_data_file_new)"
   ]
  },
  {
   "attachments": {},
   "cell_type": "markdown",
   "metadata": {},
   "source": [
    "# Step 2: Convert all times to MST"
   ]
  },
  {
   "cell_type": "code",
   "execution_count": 10,
   "metadata": {},
   "outputs": [
    {
     "name": "stderr",
     "output_type": "stream",
     "text": [
      "/var/folders/45/vvds_7n55h151_y61fjd1fmc0000gn/T/ipykernel_31287/2425686787.py:1: DtypeWarning: Columns (158,160) have mixed types. Specify dtype option on import or set low_memory=False.\n",
      "  raw_part_1 = pd.read_csv('/Users/stefanfeiler/Desktop/data/mlb_raw_2023_07_PART1.csv')\n",
      "/var/folders/45/vvds_7n55h151_y61fjd1fmc0000gn/T/ipykernel_31287/2425686787.py:2: DtypeWarning: Columns (158,160) have mixed types. Specify dtype option on import or set low_memory=False.\n",
      "  raw_part_2 = pd.read_csv('/Users/stefanfeiler/Desktop/data/mlb_raw_2023_07_PART2.csv')\n"
     ]
    }
   ],
   "source": [
    "raw_part_1 = pd.read_csv('/Users/stefanfeiler/Desktop/data/mlb_raw_2023_07_PART1.csv')\n",
    "raw_part_2 = pd.read_csv('/Users/stefanfeiler/Desktop/data/mlb_raw_2023_07_PART2.csv')\n",
    "raw = pd.concat([raw_part_1, raw_part_2])"
   ]
  },
  {
   "cell_type": "code",
   "execution_count": 11,
   "metadata": {},
   "outputs": [],
   "source": [
    "raw.head(10).to_csv('/Users/stefanfeiler/Desktop/data/mlb_raw_2023_07_columns.csv')"
   ]
  },
  {
   "cell_type": "code",
   "execution_count": 12,
   "metadata": {},
   "outputs": [
    {
     "name": "stdout",
     "output_type": "stream",
     "text": [
      "Elements unique to list1: []\n",
      "Elements unique to list2: []\n"
     ]
    }
   ],
   "source": [
    "def find_different_elements(list1, list2):\n",
    "    # Convert lists to sets\n",
    "    set1 = set(list1)\n",
    "    set2 = set(list2)\n",
    "\n",
    "    # Find elements that are in set1 but not in set2\n",
    "    unique_to_set1 = set1 - set2\n",
    "\n",
    "    # Find elements that are in set2 but not in set1\n",
    "    unique_to_set2 = set2 - set1\n",
    "\n",
    "    return list(unique_to_set1), list(unique_to_set2)\n",
    "\n",
    "# Example lists\n",
    "list1 = [1, 2, 3, 4, 5]\n",
    "list2 = [3, 4, 5, 6, 7]\n",
    "\n",
    "# Find different elements\n",
    "diff_list1, diff_list2 = find_different_elements(raw_part_2.columns, raw_part_1.columns)\n",
    "\n",
    "print(\"Elements unique to list1:\", diff_list1)\n",
    "print(\"Elements unique to list2:\", diff_list2)"
   ]
  },
  {
   "cell_type": "code",
   "execution_count": 13,
   "metadata": {},
   "outputs": [
    {
     "data": {
      "text/plain": [
       "game_id                  7f989faf14324e706845194a889bf62d\n",
       "commence_time                               7/19/23 16:35\n",
       "time_pulled                                 7/19/23 15:55\n",
       "home_team                             Cleveland Guardians\n",
       "away_team                              Pittsburgh Pirates\n",
       "                                       ...               \n",
       "williamhill_us_2_time                       7/19/23 15:50\n",
       "wynnbet_1_odds                                       1.75\n",
       "wynnbet_1_time                              7/19/23 15:48\n",
       "wynnbet_2_odds                                       2.21\n",
       "wynnbet_2_time                              7/19/23 15:48\n",
       "Name: 0, Length: 161, dtype: object"
      ]
     },
     "execution_count": 13,
     "metadata": {},
     "output_type": "execute_result"
    }
   ],
   "source": [
    "raw.iloc[0]"
   ]
  },
  {
   "cell_type": "code",
   "execution_count": 76,
   "metadata": {},
   "outputs": [],
   "source": [
    "# # This takes 2.5 minutes\n",
    "time_columns = [col for col in raw.columns if 'time' in col]\n",
    "raw[time_columns] = raw[time_columns].apply(lambda x: pd.to_datetime(x, format=\"%m/%d/%y %H:%M\"))"
   ]
  },
  {
   "cell_type": "code",
   "execution_count": 77,
   "metadata": {},
   "outputs": [],
   "source": [
    "#raw['commence_time'] = raw['commence_time'] - pd.Timedelta(hours=7)\n",
    "raw[time_columns] = raw[time_columns]- pd.Timedelta(hours=7)"
   ]
  },
  {
   "cell_type": "code",
   "execution_count": 78,
   "metadata": {},
   "outputs": [
    {
     "data": {
      "text/html": [
       "<div>\n",
       "<style scoped>\n",
       "    .dataframe tbody tr th:only-of-type {\n",
       "        vertical-align: middle;\n",
       "    }\n",
       "\n",
       "    .dataframe tbody tr th {\n",
       "        vertical-align: top;\n",
       "    }\n",
       "\n",
       "    .dataframe thead th {\n",
       "        text-align: right;\n",
       "    }\n",
       "</style>\n",
       "<table border=\"1\" class=\"dataframe\">\n",
       "  <thead>\n",
       "    <tr style=\"text-align: right;\">\n",
       "      <th></th>\n",
       "      <th>game_id</th>\n",
       "      <th>commence_time</th>\n",
       "      <th>time_pulled</th>\n",
       "      <th>home_team</th>\n",
       "      <th>away_team</th>\n",
       "      <th>barstool_1_odds</th>\n",
       "      <th>barstool_1_time</th>\n",
       "      <th>barstool_2_odds</th>\n",
       "      <th>barstool_2_time</th>\n",
       "      <th>betclic_1_odds</th>\n",
       "      <th>...</th>\n",
       "      <th>williamhill_2_odds</th>\n",
       "      <th>williamhill_2_time</th>\n",
       "      <th>williamhill_us_1_odds</th>\n",
       "      <th>williamhill_us_1_time</th>\n",
       "      <th>williamhill_us_2_odds</th>\n",
       "      <th>williamhill_us_2_time</th>\n",
       "      <th>wynnbet_1_odds</th>\n",
       "      <th>wynnbet_1_time</th>\n",
       "      <th>wynnbet_2_odds</th>\n",
       "      <th>wynnbet_2_time</th>\n",
       "    </tr>\n",
       "  </thead>\n",
       "  <tbody>\n",
       "    <tr>\n",
       "      <th>0</th>\n",
       "      <td>7f989faf14324e706845194a889bf62d</td>\n",
       "      <td>2023-07-19 09:35:00</td>\n",
       "      <td>2023-07-19 08:55:00</td>\n",
       "      <td>Cleveland Guardians</td>\n",
       "      <td>Pittsburgh Pirates</td>\n",
       "      <td>1.71</td>\n",
       "      <td>2023-07-19 08:50:00</td>\n",
       "      <td>2.20</td>\n",
       "      <td>2023-07-19 08:50:00</td>\n",
       "      <td>1.72</td>\n",
       "      <td>...</td>\n",
       "      <td>2.20</td>\n",
       "      <td>2023-07-19 08:48:00</td>\n",
       "      <td>1.67</td>\n",
       "      <td>2023-07-19 08:50:00</td>\n",
       "      <td>2.26</td>\n",
       "      <td>2023-07-19 08:50:00</td>\n",
       "      <td>1.75</td>\n",
       "      <td>2023-07-19 08:48:00</td>\n",
       "      <td>2.21</td>\n",
       "      <td>2023-07-19 08:48:00</td>\n",
       "    </tr>\n",
       "    <tr>\n",
       "      <th>1</th>\n",
       "      <td>896fe645cdb1c1d6b96e8b766ee1aa8d</td>\n",
       "      <td>2023-07-19 10:05:00</td>\n",
       "      <td>2023-07-19 08:55:00</td>\n",
       "      <td>Baltimore Orioles</td>\n",
       "      <td>Los Angeles Dodgers</td>\n",
       "      <td>2.25</td>\n",
       "      <td>2023-07-19 08:50:00</td>\n",
       "      <td>1.69</td>\n",
       "      <td>2023-07-19 08:50:00</td>\n",
       "      <td>2.25</td>\n",
       "      <td>...</td>\n",
       "      <td>1.62</td>\n",
       "      <td>2023-07-19 08:49:00</td>\n",
       "      <td>NaN</td>\n",
       "      <td>NaT</td>\n",
       "      <td>NaN</td>\n",
       "      <td>NaT</td>\n",
       "      <td>NaN</td>\n",
       "      <td>NaT</td>\n",
       "      <td>NaN</td>\n",
       "      <td>NaT</td>\n",
       "    </tr>\n",
       "    <tr>\n",
       "      <th>2</th>\n",
       "      <td>eb029fd843bb81f3a097861cfedd182f</td>\n",
       "      <td>2023-07-19 11:05:00</td>\n",
       "      <td>2023-07-19 08:55:00</td>\n",
       "      <td>Tampa Bay Rays</td>\n",
       "      <td>Texas Rangers</td>\n",
       "      <td>2.00</td>\n",
       "      <td>2023-07-19 08:50:00</td>\n",
       "      <td>1.83</td>\n",
       "      <td>2023-07-19 08:50:00</td>\n",
       "      <td>2.00</td>\n",
       "      <td>...</td>\n",
       "      <td>1.82</td>\n",
       "      <td>2023-07-19 08:49:00</td>\n",
       "      <td>NaN</td>\n",
       "      <td>NaT</td>\n",
       "      <td>NaN</td>\n",
       "      <td>NaT</td>\n",
       "      <td>NaN</td>\n",
       "      <td>NaT</td>\n",
       "      <td>NaN</td>\n",
       "      <td>NaT</td>\n",
       "    </tr>\n",
       "    <tr>\n",
       "      <th>3</th>\n",
       "      <td>006986994ed204bf0e24253f1fbff107</td>\n",
       "      <td>2023-07-19 11:15:00</td>\n",
       "      <td>2023-07-19 08:55:00</td>\n",
       "      <td>Miami Marlins</td>\n",
       "      <td>St. Louis Cardinals</td>\n",
       "      <td>1.91</td>\n",
       "      <td>2023-07-19 08:50:00</td>\n",
       "      <td>1.91</td>\n",
       "      <td>2023-07-19 08:50:00</td>\n",
       "      <td>1.91</td>\n",
       "      <td>...</td>\n",
       "      <td>1.90</td>\n",
       "      <td>2023-07-19 08:49:00</td>\n",
       "      <td>NaN</td>\n",
       "      <td>NaT</td>\n",
       "      <td>NaN</td>\n",
       "      <td>NaT</td>\n",
       "      <td>NaN</td>\n",
       "      <td>NaT</td>\n",
       "      <td>NaN</td>\n",
       "      <td>NaT</td>\n",
       "    </tr>\n",
       "    <tr>\n",
       "      <th>4</th>\n",
       "      <td>99a5d553a4d308dd1c335ac53322084a</td>\n",
       "      <td>2023-07-19 12:10:00</td>\n",
       "      <td>2023-07-19 08:55:00</td>\n",
       "      <td>Colorado Rockies</td>\n",
       "      <td>Houston Astros</td>\n",
       "      <td>2.30</td>\n",
       "      <td>2023-07-19 08:50:00</td>\n",
       "      <td>1.67</td>\n",
       "      <td>2023-07-19 08:50:00</td>\n",
       "      <td>2.27</td>\n",
       "      <td>...</td>\n",
       "      <td>1.65</td>\n",
       "      <td>2023-07-19 08:50:00</td>\n",
       "      <td>NaN</td>\n",
       "      <td>NaT</td>\n",
       "      <td>NaN</td>\n",
       "      <td>NaT</td>\n",
       "      <td>NaN</td>\n",
       "      <td>NaT</td>\n",
       "      <td>NaN</td>\n",
       "      <td>NaT</td>\n",
       "    </tr>\n",
       "  </tbody>\n",
       "</table>\n",
       "<p>5 rows × 161 columns</p>\n",
       "</div>"
      ],
      "text/plain": [
       "                            game_id       commence_time         time_pulled  \\\n",
       "0  7f989faf14324e706845194a889bf62d 2023-07-19 09:35:00 2023-07-19 08:55:00   \n",
       "1  896fe645cdb1c1d6b96e8b766ee1aa8d 2023-07-19 10:05:00 2023-07-19 08:55:00   \n",
       "2  eb029fd843bb81f3a097861cfedd182f 2023-07-19 11:05:00 2023-07-19 08:55:00   \n",
       "3  006986994ed204bf0e24253f1fbff107 2023-07-19 11:15:00 2023-07-19 08:55:00   \n",
       "4  99a5d553a4d308dd1c335ac53322084a 2023-07-19 12:10:00 2023-07-19 08:55:00   \n",
       "\n",
       "             home_team            away_team  barstool_1_odds  \\\n",
       "0  Cleveland Guardians   Pittsburgh Pirates             1.71   \n",
       "1    Baltimore Orioles  Los Angeles Dodgers             2.25   \n",
       "2       Tampa Bay Rays        Texas Rangers             2.00   \n",
       "3        Miami Marlins  St. Louis Cardinals             1.91   \n",
       "4     Colorado Rockies       Houston Astros             2.30   \n",
       "\n",
       "      barstool_1_time  barstool_2_odds     barstool_2_time  betclic_1_odds  \\\n",
       "0 2023-07-19 08:50:00             2.20 2023-07-19 08:50:00            1.72   \n",
       "1 2023-07-19 08:50:00             1.69 2023-07-19 08:50:00            2.25   \n",
       "2 2023-07-19 08:50:00             1.83 2023-07-19 08:50:00            2.00   \n",
       "3 2023-07-19 08:50:00             1.91 2023-07-19 08:50:00            1.91   \n",
       "4 2023-07-19 08:50:00             1.67 2023-07-19 08:50:00            2.27   \n",
       "\n",
       "   ... williamhill_2_odds  williamhill_2_time williamhill_us_1_odds  \\\n",
       "0  ...               2.20 2023-07-19 08:48:00                  1.67   \n",
       "1  ...               1.62 2023-07-19 08:49:00                   NaN   \n",
       "2  ...               1.82 2023-07-19 08:49:00                   NaN   \n",
       "3  ...               1.90 2023-07-19 08:49:00                   NaN   \n",
       "4  ...               1.65 2023-07-19 08:50:00                   NaN   \n",
       "\n",
       "   williamhill_us_1_time williamhill_us_2_odds  williamhill_us_2_time  \\\n",
       "0    2023-07-19 08:50:00                  2.26    2023-07-19 08:50:00   \n",
       "1                    NaT                   NaN                    NaT   \n",
       "2                    NaT                   NaN                    NaT   \n",
       "3                    NaT                   NaN                    NaT   \n",
       "4                    NaT                   NaN                    NaT   \n",
       "\n",
       "  wynnbet_1_odds      wynnbet_1_time wynnbet_2_odds      wynnbet_2_time  \n",
       "0           1.75 2023-07-19 08:48:00           2.21 2023-07-19 08:48:00  \n",
       "1            NaN                 NaT            NaN                 NaT  \n",
       "2            NaN                 NaT            NaN                 NaT  \n",
       "3            NaN                 NaT            NaN                 NaT  \n",
       "4            NaN                 NaT            NaN                 NaT  \n",
       "\n",
       "[5 rows x 161 columns]"
      ]
     },
     "execution_count": 78,
     "metadata": {},
     "output_type": "execute_result"
    }
   ],
   "source": [
    "raw.head()"
   ]
  },
  {
   "attachments": {},
   "cell_type": "markdown",
   "metadata": {},
   "source": [
    "# Step 3: Make the same my_game_id values in each sheet"
   ]
  },
  {
   "cell_type": "code",
   "execution_count": 79,
   "metadata": {},
   "outputs": [],
   "source": [
    "extra = pd.read_csv(extra_data_file_new)"
   ]
  },
  {
   "cell_type": "code",
   "execution_count": 80,
   "metadata": {},
   "outputs": [],
   "source": [
    "extra['home_team_final'] = extra[['home_team', 'away_team']].min(axis=1)\n",
    "extra['away_team_final'] = extra[['home_team', 'away_team']].max(axis=1)"
   ]
  },
  {
   "cell_type": "code",
   "execution_count": 81,
   "metadata": {},
   "outputs": [],
   "source": [
    "raw['date'] = raw['commence_time'].copy().dt.strftime('%Y%m%d')\n",
    "extra['date']= extra['date'].astype(str)"
   ]
  },
  {
   "cell_type": "code",
   "execution_count": 82,
   "metadata": {},
   "outputs": [
    {
     "data": {
      "text/plain": [
       "0        2023-07-19 09:35:00\n",
       "1        2023-07-19 10:05:00\n",
       "2        2023-07-19 11:05:00\n",
       "3        2023-07-19 11:15:00\n",
       "4        2023-07-19 12:10:00\n",
       "                 ...        \n",
       "282263   2023-03-30 13:10:00\n",
       "282264   2023-03-30 16:08:00\n",
       "282265   2023-03-30 19:07:00\n",
       "282266   2023-03-30 19:10:00\n",
       "282267   2023-03-30 19:10:00\n",
       "Name: commence_time, Length: 635183, dtype: datetime64[ns]"
      ]
     },
     "execution_count": 82,
     "metadata": {},
     "output_type": "execute_result"
    }
   ],
   "source": [
    "raw['commence_time']"
   ]
  },
  {
   "cell_type": "code",
   "execution_count": 83,
   "metadata": {},
   "outputs": [],
   "source": [
    "raw['my_id'] = raw['home_team'] + raw['away_team'] + raw['date']\n",
    "extra['my_id'] = extra['home_team_final'] + extra['away_team_final'] + extra['date']"
   ]
  },
  {
   "attachments": {},
   "cell_type": "markdown",
   "metadata": {},
   "source": [
    "# Step 4: Make a complicated dict"
   ]
  },
  {
   "cell_type": "code",
   "execution_count": 84,
   "metadata": {},
   "outputs": [],
   "source": [
    "# Make a dict that maps raw my_id to raw game_id and includes duplicates\n",
    "mapping_dict = {}\n",
    "for key, value in zip(raw['my_id'], raw['game_id']):\n",
    "    if key in mapping_dict:\n",
    "        mapping_dict[key].append(value)  # Append value to existing key's list\n",
    "        mapping_dict[key] = list(set(mapping_dict[key]))\n",
    "    else:\n",
    "        mapping_dict[key] = [value]  "
   ]
  },
  {
   "cell_type": "code",
   "execution_count": 85,
   "metadata": {},
   "outputs": [
    {
     "name": "stdout",
     "output_type": "stream",
     "text": [
      "21\n"
     ]
    }
   ],
   "source": [
    "count = 0\n",
    "for key, values in mapping_dict.items():\n",
    "    if len(values) == 2:\n",
    "        count+=1\n",
    "print(count)"
   ]
  },
  {
   "cell_type": "code",
   "execution_count": 86,
   "metadata": {},
   "outputs": [
    {
     "name": "stdout",
     "output_type": "stream",
     "text": [
      "1459\n"
     ]
    }
   ],
   "source": [
    "print(len(mapping_dict))"
   ]
  },
  {
   "cell_type": "code",
   "execution_count": 87,
   "metadata": {},
   "outputs": [],
   "source": [
    "extra['number_of_game_today'] = extra['number_of_game_today'].astype(str)"
   ]
  },
  {
   "cell_type": "code",
   "execution_count": 88,
   "metadata": {},
   "outputs": [
    {
     "name": "stdout",
     "output_type": "stream",
     "text": [
      "2424\n"
     ]
    }
   ],
   "source": [
    "# Make a dict that maps extra my_id to the extra game_value (double header or not)\n",
    "extra_dict = {}\n",
    "count = 0\n",
    "for key, value in zip(extra['my_id'], extra['number_of_game_today']):\n",
    "    if key in extra_dict:\n",
    "        extra_dict[key].append(value)\n",
    "        extra_dict[key] = list(extra_dict[key])\n",
    "    else:\n",
    "        extra_dict[key] = [value]\n",
    "print(len(extra_dict))"
   ]
  },
  {
   "cell_type": "code",
   "execution_count": 89,
   "metadata": {},
   "outputs": [],
   "source": [
    "# Make a dict that maps game_id's to commence_times\n",
    "id_commence_dict = {key: value for key, value in zip(raw['game_id'], raw['commence_time'])}"
   ]
  },
  {
   "cell_type": "code",
   "execution_count": 90,
   "metadata": {},
   "outputs": [],
   "source": [
    "# Go through each mapping_dict item\n",
    "# if the length of values is 1, put it in the new dict with the suffix '_0'\n",
    "# if the length of values is 2, put it in the new dict with the proper suffix\n",
    "new_dict = {}\n",
    "for key, values in mapping_dict.items():\n",
    "    if len(values) == 1:\n",
    "        new_dict[str(str(key) + '_0')] = values[0]\n",
    "    elif len(values) == 2:\n",
    "        if id_commence_dict[values[0]] < id_commence_dict[values[1]]:\n",
    "            new_dict[str(str(key) + '_1')] = values[0]\n",
    "            new_dict[str(str(key) + '_2')] = values[1]\n",
    "        elif id_commence_dict[values[0]] > id_commence_dict[values[1]]:\n",
    "            new_dict[str(str(key) + '_2')] = values[0]\n",
    "            new_dict[str(str(key) + '_1')] = values[1]"
   ]
  },
  {
   "cell_type": "code",
   "execution_count": 91,
   "metadata": {},
   "outputs": [],
   "source": [
    "extra['my_id_game'] = extra['home_team_final'] + extra['away_team_final'] + extra['date'] + '_' + extra['number_of_game_today']"
   ]
  },
  {
   "cell_type": "code",
   "execution_count": 92,
   "metadata": {},
   "outputs": [],
   "source": [
    "my_id_game = extra['my_id_game'].tolist()"
   ]
  },
  {
   "cell_type": "code",
   "execution_count": 93,
   "metadata": {},
   "outputs": [],
   "source": [
    "count = 0\n",
    "new_list = []\n",
    "for key, value in new_dict.items():\n",
    "    if key in my_id_game:\n",
    "        new_list.append(key)\n"
   ]
  },
  {
   "cell_type": "code",
   "execution_count": 94,
   "metadata": {},
   "outputs": [
    {
     "name": "stdout",
     "output_type": "stream",
     "text": [
      "1426\n"
     ]
    }
   ],
   "source": [
    "count = 0\n",
    "for item in new_list:\n",
    "    if item in my_id_game:\n",
    "        count +=1\n",
    "print(count)"
   ]
  },
  {
   "cell_type": "code",
   "execution_count": 95,
   "metadata": {},
   "outputs": [
    {
     "data": {
      "text/plain": [
       "0           Cleveland GuardiansPittsburgh Pirates20230719_0\n",
       "1            Baltimore OriolesLos Angeles Dodgers20230719_0\n",
       "2                     Tampa Bay RaysTexas Rangers20230719_0\n",
       "3                Miami MarlinsSt. Louis Cardinals20230719_0\n",
       "4                  Colorado RockiesHouston Astros20230719_0\n",
       "                                ...                        \n",
       "282263       St. Louis CardinalsToronto Blue Jays20230330_0\n",
       "282264            Chicago White SoxHouston Astros20230330_0\n",
       "282265        Los Angeles AngelsOakland Athletics20230330_0\n",
       "282266    Arizona DiamondbacksLos Angeles Dodgers20230330_0\n",
       "282267        Cleveland GuardiansSeattle Mariners20230330_0\n",
       "Name: my_game_id_final, Length: 635183, dtype: object"
      ]
     },
     "execution_count": 95,
     "metadata": {},
     "output_type": "execute_result"
    }
   ],
   "source": [
    "# Takes about 2 minutes\n",
    "raw['my_game_id_final'] = raw['game_id'].apply(lambda x: next((k for k, v in new_dict.items() if v == x), None))\n",
    "raw['my_game_id_final']"
   ]
  },
  {
   "cell_type": "code",
   "execution_count": 96,
   "metadata": {},
   "outputs": [],
   "source": [
    "#raw['winning_team'] = raw['my_game_id_final'].map(extra.set_index('my_id_game')['winning_team'])\n",
    "\n",
    "raw['number_of_game_today'] = raw['my_game_id_final'].map(extra.set_index('my_id_game')['number_of_game_today'])\n",
    "\n",
    "raw['day_of_week'] = raw['my_game_id_final'].map(extra.set_index('my_id_game')['day_of_week'])\n",
    "\n",
    "raw['away_team'] = raw['my_game_id_final'].map(extra.set_index('my_id_game')['away_team'])\n",
    "raw['away_team_league'] = raw['my_game_id_final'].map(extra.set_index('my_id_game')['away_team_league'])\n",
    "raw['away_team_game_number'] = raw['my_game_id_final'].map(extra.set_index('my_id_game')['away_team_game_number'])\n",
    "\n",
    "raw['home_team'] = raw['my_game_id_final'].map(extra.set_index('my_id_game')['home_team'])\n",
    "raw['home_team_league'] = raw['my_game_id_final'].map(extra.set_index('my_id_game')['home_team_league'])\n",
    "raw['home_team_game_number'] = raw['my_game_id_final'].map(extra.set_index('my_id_game')['home_team_game_number'])\n",
    "\n",
    "raw['day_night'] = raw['my_game_id_final'].map(extra.set_index('my_id_game')['day_night'])\n",
    "raw['park_id'] = raw['my_game_id_final'].map(extra.set_index('my_id_game')['park_id'])"
   ]
  },
  {
   "cell_type": "code",
   "execution_count": 97,
   "metadata": {},
   "outputs": [
    {
     "data": {
      "text/plain": [
       "0    621242\n",
       "Name: number_of_game_today, dtype: int64"
      ]
     },
     "execution_count": 97,
     "metadata": {},
     "output_type": "execute_result"
    }
   ],
   "source": [
    "raw.number_of_game_today.value_counts()"
   ]
  },
  {
   "cell_type": "code",
   "execution_count": 34,
   "metadata": {},
   "outputs": [],
   "source": [
    "raw_first_1000 = raw.head(1000)\n",
    "raw_first_1000.to_csv('/Users/stefanfeiler/Desktop/for_micah/outData_mlb_raw_final_first_1000.csv',index=False)"
   ]
  },
  {
   "cell_type": "code",
   "execution_count": 98,
   "metadata": {},
   "outputs": [],
   "source": [
    "import regex as re"
   ]
  },
  {
   "cell_type": "code",
   "execution_count": 99,
   "metadata": {},
   "outputs": [],
   "source": [
    "from datetime import datetime\n",
    "\n",
    "def convert_date_string_to_digits(date_str):\n",
    "    # Define the input and output date formats\n",
    "    input_format = \"%A, %B %d, %Y\"\n",
    "    output_format = \"%Y%m%d\"\n",
    "\n",
    "    # Convert the input date string to a datetime object\n",
    "    date_obj = datetime.strptime(date_str, input_format)\n",
    "\n",
    "    # Convert the datetime object back to the desired string format\n",
    "    return date_obj.strftime(output_format)\n",
    "\n",
    "# Example usage:\n",
    "date_string = \"Thursday, March 30, 2023\"\n",
    "result = convert_date_string_to_digits(date_string)"
   ]
  },
  {
   "cell_type": "code",
   "execution_count": 100,
   "metadata": {},
   "outputs": [
    {
     "name": "stdout",
     "output_type": "stream",
     "text": [
      "<regex.Match object; span=(0, 43), match='Colorado Rockies (7) @ San Diego Padres (2)'>\n"
     ]
    },
    {
     "data": {
      "text/plain": [
       "'2'"
      ]
     },
     "execution_count": 100,
     "metadata": {},
     "output_type": "execute_result"
    }
   ],
   "source": [
    "test = \"Colorado Rockies (7) @ San Diego Padres (2)   Boxscore\"\n",
    "out = re.match(r'.+\\(([0-9]{1,2})\\).+\\(([0-9]{1,2})\\)', test)\n",
    "print(out)\n",
    "out[2]"
   ]
  },
  {
   "cell_type": "code",
   "execution_count": 101,
   "metadata": {},
   "outputs": [],
   "source": [
    "with open('/Users/stefanfeiler/Desktop/for_micah/this_season_scores.txt','r', encoding = 'utf-16') as f:\n",
    "    lines = f.readlines()\n",
    "\n",
    "df = pd.DataFrame(columns=['date','away_team','away_score','home_team','home_score','game_id','winner_home'])\n",
    "j = 0\n",
    "date=0\n",
    "good=0\n",
    "length = len(lines)\n",
    "counter = 0\n",
    "for i in lines:\n",
    "    if re.match(r'\\s', i):\n",
    "        j+=1\n",
    "    elif i.startswith(\"\\\"\"):\n",
    "        date+=1\n",
    "        date_string = i.strip().strip(\"\\\"\")\n",
    "        date_num = convert_date_string_to_digits(date_string)\n",
    "\n",
    "    else:\n",
    "        good+=1\n",
    "        out = re.match(r'(.+) \\(([0-9]{1,2})\\) @ (.+) \\(([0-9]{1,2})\\)', i)\n",
    "        away_team = str(out[1])\n",
    "        home_team = str(out[3])\n",
    "        away_score = int(out[2])\n",
    "        home_score = int(out[4])\n",
    "        if away_score > home_score:\n",
    "            home_winner = False\n",
    "        elif home_score > away_score:\n",
    "            home_winner = True\n",
    "        else: \"shout and scream\"\n",
    "        game_id = away_team + home_team + str(date_num)\n",
    "        game_data = {\n",
    "            'date': date_num,\n",
    "            'away_team': away_team,\n",
    "            'away_score': away_score,\n",
    "            'home_team': home_team,\n",
    "            'home_score': home_score,\n",
    "            'game_id': game_id,  # You might need to define 'counter' somewhere.\n",
    "            'winner_home': home_winner\n",
    "        }\n",
    "        df.loc[len(df.index)] = game_data \n",
    "\n",
    "\n",
    "#innerjoin by game_id"
   ]
  },
  {
   "cell_type": "code",
   "execution_count": 102,
   "metadata": {},
   "outputs": [
    {
     "data": {
      "text/html": [
       "<div>\n",
       "<style scoped>\n",
       "    .dataframe tbody tr th:only-of-type {\n",
       "        vertical-align: middle;\n",
       "    }\n",
       "\n",
       "    .dataframe tbody tr th {\n",
       "        vertical-align: top;\n",
       "    }\n",
       "\n",
       "    .dataframe thead th {\n",
       "        text-align: right;\n",
       "    }\n",
       "</style>\n",
       "<table border=\"1\" class=\"dataframe\">\n",
       "  <thead>\n",
       "    <tr style=\"text-align: right;\">\n",
       "      <th></th>\n",
       "      <th>game_id</th>\n",
       "      <th>commence_time</th>\n",
       "      <th>time_pulled</th>\n",
       "      <th>home_team</th>\n",
       "      <th>away_team</th>\n",
       "      <th>barstool_1_odds</th>\n",
       "      <th>barstool_1_time</th>\n",
       "      <th>barstool_2_odds</th>\n",
       "      <th>barstool_2_time</th>\n",
       "      <th>betclic_1_odds</th>\n",
       "      <th>...</th>\n",
       "      <th>my_id</th>\n",
       "      <th>my_game_id_final</th>\n",
       "      <th>number_of_game_today</th>\n",
       "      <th>day_of_week</th>\n",
       "      <th>away_team_league</th>\n",
       "      <th>away_team_game_number</th>\n",
       "      <th>home_team_league</th>\n",
       "      <th>home_team_game_number</th>\n",
       "      <th>day_night</th>\n",
       "      <th>park_id</th>\n",
       "    </tr>\n",
       "  </thead>\n",
       "  <tbody>\n",
       "    <tr>\n",
       "      <th>0</th>\n",
       "      <td>7f989faf14324e706845194a889bf62d</td>\n",
       "      <td>2023-07-19 09:35:00</td>\n",
       "      <td>2023-07-19 08:55:00</td>\n",
       "      <td>Pittsburgh Pirates</td>\n",
       "      <td>Cleveland Guardians</td>\n",
       "      <td>1.71</td>\n",
       "      <td>2023-07-19 08:50:00</td>\n",
       "      <td>2.20</td>\n",
       "      <td>2023-07-19 08:50:00</td>\n",
       "      <td>1.72</td>\n",
       "      <td>...</td>\n",
       "      <td>Cleveland GuardiansPittsburgh Pirates20230719</td>\n",
       "      <td>Cleveland GuardiansPittsburgh Pirates20230719_0</td>\n",
       "      <td>0</td>\n",
       "      <td>Wed</td>\n",
       "      <td>AL</td>\n",
       "      <td>96.0</td>\n",
       "      <td>NL</td>\n",
       "      <td>96.0</td>\n",
       "      <td>N</td>\n",
       "      <td>PIT08</td>\n",
       "    </tr>\n",
       "    <tr>\n",
       "      <th>1</th>\n",
       "      <td>896fe645cdb1c1d6b96e8b766ee1aa8d</td>\n",
       "      <td>2023-07-19 10:05:00</td>\n",
       "      <td>2023-07-19 08:55:00</td>\n",
       "      <td>Baltimore Orioles</td>\n",
       "      <td>Los Angeles Dodgers</td>\n",
       "      <td>2.25</td>\n",
       "      <td>2023-07-19 08:50:00</td>\n",
       "      <td>1.69</td>\n",
       "      <td>2023-07-19 08:50:00</td>\n",
       "      <td>2.25</td>\n",
       "      <td>...</td>\n",
       "      <td>Baltimore OriolesLos Angeles Dodgers20230719</td>\n",
       "      <td>Baltimore OriolesLos Angeles Dodgers20230719_0</td>\n",
       "      <td>0</td>\n",
       "      <td>Wed</td>\n",
       "      <td>NL</td>\n",
       "      <td>95.0</td>\n",
       "      <td>AL</td>\n",
       "      <td>95.0</td>\n",
       "      <td>D</td>\n",
       "      <td>WIL02</td>\n",
       "    </tr>\n",
       "    <tr>\n",
       "      <th>2</th>\n",
       "      <td>eb029fd843bb81f3a097861cfedd182f</td>\n",
       "      <td>2023-07-19 11:05:00</td>\n",
       "      <td>2023-07-19 08:55:00</td>\n",
       "      <td>Texas Rangers</td>\n",
       "      <td>Tampa Bay Rays</td>\n",
       "      <td>2.00</td>\n",
       "      <td>2023-07-19 08:50:00</td>\n",
       "      <td>1.83</td>\n",
       "      <td>2023-07-19 08:50:00</td>\n",
       "      <td>2.00</td>\n",
       "      <td>...</td>\n",
       "      <td>Tampa Bay RaysTexas Rangers20230719</td>\n",
       "      <td>Tampa Bay RaysTexas Rangers20230719_0</td>\n",
       "      <td>0</td>\n",
       "      <td>Wed</td>\n",
       "      <td>AL</td>\n",
       "      <td>99.0</td>\n",
       "      <td>AL</td>\n",
       "      <td>97.0</td>\n",
       "      <td>D</td>\n",
       "      <td>ARL03</td>\n",
       "    </tr>\n",
       "    <tr>\n",
       "      <th>3</th>\n",
       "      <td>006986994ed204bf0e24253f1fbff107</td>\n",
       "      <td>2023-07-19 11:15:00</td>\n",
       "      <td>2023-07-19 08:55:00</td>\n",
       "      <td>St. Louis Cardinals</td>\n",
       "      <td>Miami Marlins</td>\n",
       "      <td>1.91</td>\n",
       "      <td>2023-07-19 08:50:00</td>\n",
       "      <td>1.91</td>\n",
       "      <td>2023-07-19 08:50:00</td>\n",
       "      <td>1.91</td>\n",
       "      <td>...</td>\n",
       "      <td>Miami MarlinsSt. Louis Cardinals20230719</td>\n",
       "      <td>Miami MarlinsSt. Louis Cardinals20230719_0</td>\n",
       "      <td>0</td>\n",
       "      <td>Wed</td>\n",
       "      <td>NL</td>\n",
       "      <td>98.0</td>\n",
       "      <td>NL</td>\n",
       "      <td>96.0</td>\n",
       "      <td>D</td>\n",
       "      <td>STL10</td>\n",
       "    </tr>\n",
       "    <tr>\n",
       "      <th>4</th>\n",
       "      <td>99a5d553a4d308dd1c335ac53322084a</td>\n",
       "      <td>2023-07-19 12:10:00</td>\n",
       "      <td>2023-07-19 08:55:00</td>\n",
       "      <td>Colorado Rockies</td>\n",
       "      <td>Houston Astros</td>\n",
       "      <td>2.30</td>\n",
       "      <td>2023-07-19 08:50:00</td>\n",
       "      <td>1.67</td>\n",
       "      <td>2023-07-19 08:50:00</td>\n",
       "      <td>2.27</td>\n",
       "      <td>...</td>\n",
       "      <td>Colorado RockiesHouston Astros20230719</td>\n",
       "      <td>Colorado RockiesHouston Astros20230719_0</td>\n",
       "      <td>0</td>\n",
       "      <td>Wed</td>\n",
       "      <td>AL</td>\n",
       "      <td>96.0</td>\n",
       "      <td>NL</td>\n",
       "      <td>96.0</td>\n",
       "      <td>D</td>\n",
       "      <td>DEN02</td>\n",
       "    </tr>\n",
       "  </tbody>\n",
       "</table>\n",
       "<p>5 rows × 172 columns</p>\n",
       "</div>"
      ],
      "text/plain": [
       "                            game_id       commence_time         time_pulled  \\\n",
       "0  7f989faf14324e706845194a889bf62d 2023-07-19 09:35:00 2023-07-19 08:55:00   \n",
       "1  896fe645cdb1c1d6b96e8b766ee1aa8d 2023-07-19 10:05:00 2023-07-19 08:55:00   \n",
       "2  eb029fd843bb81f3a097861cfedd182f 2023-07-19 11:05:00 2023-07-19 08:55:00   \n",
       "3  006986994ed204bf0e24253f1fbff107 2023-07-19 11:15:00 2023-07-19 08:55:00   \n",
       "4  99a5d553a4d308dd1c335ac53322084a 2023-07-19 12:10:00 2023-07-19 08:55:00   \n",
       "\n",
       "             home_team            away_team  barstool_1_odds  \\\n",
       "0   Pittsburgh Pirates  Cleveland Guardians             1.71   \n",
       "1    Baltimore Orioles  Los Angeles Dodgers             2.25   \n",
       "2        Texas Rangers       Tampa Bay Rays             2.00   \n",
       "3  St. Louis Cardinals        Miami Marlins             1.91   \n",
       "4     Colorado Rockies       Houston Astros             2.30   \n",
       "\n",
       "      barstool_1_time  barstool_2_odds     barstool_2_time  betclic_1_odds  \\\n",
       "0 2023-07-19 08:50:00             2.20 2023-07-19 08:50:00            1.72   \n",
       "1 2023-07-19 08:50:00             1.69 2023-07-19 08:50:00            2.25   \n",
       "2 2023-07-19 08:50:00             1.83 2023-07-19 08:50:00            2.00   \n",
       "3 2023-07-19 08:50:00             1.91 2023-07-19 08:50:00            1.91   \n",
       "4 2023-07-19 08:50:00             1.67 2023-07-19 08:50:00            2.27   \n",
       "\n",
       "   ...                                          my_id  \\\n",
       "0  ...  Cleveland GuardiansPittsburgh Pirates20230719   \n",
       "1  ...   Baltimore OriolesLos Angeles Dodgers20230719   \n",
       "2  ...            Tampa Bay RaysTexas Rangers20230719   \n",
       "3  ...       Miami MarlinsSt. Louis Cardinals20230719   \n",
       "4  ...         Colorado RockiesHouston Astros20230719   \n",
       "\n",
       "                                  my_game_id_final number_of_game_today  \\\n",
       "0  Cleveland GuardiansPittsburgh Pirates20230719_0                    0   \n",
       "1   Baltimore OriolesLos Angeles Dodgers20230719_0                    0   \n",
       "2            Tampa Bay RaysTexas Rangers20230719_0                    0   \n",
       "3       Miami MarlinsSt. Louis Cardinals20230719_0                    0   \n",
       "4         Colorado RockiesHouston Astros20230719_0                    0   \n",
       "\n",
       "   day_of_week away_team_league  away_team_game_number home_team_league  \\\n",
       "0          Wed               AL                   96.0               NL   \n",
       "1          Wed               NL                   95.0               AL   \n",
       "2          Wed               AL                   99.0               AL   \n",
       "3          Wed               NL                   98.0               NL   \n",
       "4          Wed               AL                   96.0               NL   \n",
       "\n",
       "   home_team_game_number day_night  park_id  \n",
       "0                   96.0         N    PIT08  \n",
       "1                   95.0         D    WIL02  \n",
       "2                   97.0         D    ARL03  \n",
       "3                   96.0         D    STL10  \n",
       "4                   96.0         D    DEN02  \n",
       "\n",
       "[5 rows x 172 columns]"
      ]
     },
     "execution_count": 102,
     "metadata": {},
     "output_type": "execute_result"
    }
   ],
   "source": [
    "raw.head()"
   ]
  },
  {
   "attachments": {},
   "cell_type": "markdown",
   "metadata": {},
   "source": []
  },
  {
   "cell_type": "code",
   "execution_count": 103,
   "metadata": {},
   "outputs": [
    {
     "data": {
      "text/plain": [
       "0    270289\n",
       "Name: number_of_game_today, dtype: int64"
      ]
     },
     "execution_count": 103,
     "metadata": {},
     "output_type": "execute_result"
    }
   ],
   "source": [
    "#innerjoin by game_id in df equals  my_id in raw_last_1000\n",
    "merged_df = pd.merge(df, raw, left_on='game_id', right_on='my_id', how='inner')\n",
    "merged_df.head()\n",
    "merged_df.number_of_game_today.value_counts()"
   ]
  },
  {
   "cell_type": "code",
   "execution_count": 104,
   "metadata": {},
   "outputs": [
    {
     "data": {
      "text/html": [
       "<div>\n",
       "<style scoped>\n",
       "    .dataframe tbody tr th:only-of-type {\n",
       "        vertical-align: middle;\n",
       "    }\n",
       "\n",
       "    .dataframe tbody tr th {\n",
       "        vertical-align: top;\n",
       "    }\n",
       "\n",
       "    .dataframe thead th {\n",
       "        text-align: right;\n",
       "    }\n",
       "</style>\n",
       "<table border=\"1\" class=\"dataframe\">\n",
       "  <thead>\n",
       "    <tr style=\"text-align: right;\">\n",
       "      <th></th>\n",
       "      <th>date_x</th>\n",
       "      <th>away_team_x</th>\n",
       "      <th>away_score</th>\n",
       "      <th>home_team_x</th>\n",
       "      <th>home_score</th>\n",
       "      <th>game_id_x</th>\n",
       "      <th>winner_home</th>\n",
       "      <th>game_id_y</th>\n",
       "      <th>commence_time</th>\n",
       "      <th>time_pulled</th>\n",
       "      <th>...</th>\n",
       "      <th>my_id</th>\n",
       "      <th>my_game_id_final</th>\n",
       "      <th>number_of_game_today</th>\n",
       "      <th>day_of_week</th>\n",
       "      <th>away_team_league</th>\n",
       "      <th>away_team_game_number</th>\n",
       "      <th>home_team_league</th>\n",
       "      <th>home_team_game_number</th>\n",
       "      <th>day_night</th>\n",
       "      <th>park_id</th>\n",
       "    </tr>\n",
       "  </thead>\n",
       "  <tbody>\n",
       "    <tr>\n",
       "      <th>0</th>\n",
       "      <td>20230330</td>\n",
       "      <td>Baltimore Orioles</td>\n",
       "      <td>10</td>\n",
       "      <td>Boston Red Sox</td>\n",
       "      <td>9</td>\n",
       "      <td>Baltimore OriolesBoston Red Sox20230330</td>\n",
       "      <td>False</td>\n",
       "      <td>f2912049aeca157ded4e77586ad96b6f</td>\n",
       "      <td>2023-03-30 11:10:00</td>\n",
       "      <td>2023-03-30 14:35:00</td>\n",
       "      <td>...</td>\n",
       "      <td>Baltimore OriolesBoston Red Sox20230330</td>\n",
       "      <td>Baltimore OriolesBoston Red Sox20230330_0</td>\n",
       "      <td>0</td>\n",
       "      <td>Thu</td>\n",
       "      <td>AL</td>\n",
       "      <td>1.0</td>\n",
       "      <td>AL</td>\n",
       "      <td>1.0</td>\n",
       "      <td>D</td>\n",
       "      <td>BOS07</td>\n",
       "    </tr>\n",
       "    <tr>\n",
       "      <th>1</th>\n",
       "      <td>20230330</td>\n",
       "      <td>Baltimore Orioles</td>\n",
       "      <td>10</td>\n",
       "      <td>Boston Red Sox</td>\n",
       "      <td>9</td>\n",
       "      <td>Baltimore OriolesBoston Red Sox20230330</td>\n",
       "      <td>False</td>\n",
       "      <td>f2912049aeca157ded4e77586ad96b6f</td>\n",
       "      <td>2023-03-30 11:10:00</td>\n",
       "      <td>2023-03-30 14:30:00</td>\n",
       "      <td>...</td>\n",
       "      <td>Baltimore OriolesBoston Red Sox20230330</td>\n",
       "      <td>Baltimore OriolesBoston Red Sox20230330_0</td>\n",
       "      <td>0</td>\n",
       "      <td>Thu</td>\n",
       "      <td>AL</td>\n",
       "      <td>1.0</td>\n",
       "      <td>AL</td>\n",
       "      <td>1.0</td>\n",
       "      <td>D</td>\n",
       "      <td>BOS07</td>\n",
       "    </tr>\n",
       "    <tr>\n",
       "      <th>2</th>\n",
       "      <td>20230330</td>\n",
       "      <td>Baltimore Orioles</td>\n",
       "      <td>10</td>\n",
       "      <td>Boston Red Sox</td>\n",
       "      <td>9</td>\n",
       "      <td>Baltimore OriolesBoston Red Sox20230330</td>\n",
       "      <td>False</td>\n",
       "      <td>f2912049aeca157ded4e77586ad96b6f</td>\n",
       "      <td>2023-03-30 11:10:00</td>\n",
       "      <td>2023-03-30 14:25:00</td>\n",
       "      <td>...</td>\n",
       "      <td>Baltimore OriolesBoston Red Sox20230330</td>\n",
       "      <td>Baltimore OriolesBoston Red Sox20230330_0</td>\n",
       "      <td>0</td>\n",
       "      <td>Thu</td>\n",
       "      <td>AL</td>\n",
       "      <td>1.0</td>\n",
       "      <td>AL</td>\n",
       "      <td>1.0</td>\n",
       "      <td>D</td>\n",
       "      <td>BOS07</td>\n",
       "    </tr>\n",
       "    <tr>\n",
       "      <th>3</th>\n",
       "      <td>20230330</td>\n",
       "      <td>Baltimore Orioles</td>\n",
       "      <td>10</td>\n",
       "      <td>Boston Red Sox</td>\n",
       "      <td>9</td>\n",
       "      <td>Baltimore OriolesBoston Red Sox20230330</td>\n",
       "      <td>False</td>\n",
       "      <td>f2912049aeca157ded4e77586ad96b6f</td>\n",
       "      <td>2023-03-30 11:10:00</td>\n",
       "      <td>2023-03-30 14:20:00</td>\n",
       "      <td>...</td>\n",
       "      <td>Baltimore OriolesBoston Red Sox20230330</td>\n",
       "      <td>Baltimore OriolesBoston Red Sox20230330_0</td>\n",
       "      <td>0</td>\n",
       "      <td>Thu</td>\n",
       "      <td>AL</td>\n",
       "      <td>1.0</td>\n",
       "      <td>AL</td>\n",
       "      <td>1.0</td>\n",
       "      <td>D</td>\n",
       "      <td>BOS07</td>\n",
       "    </tr>\n",
       "    <tr>\n",
       "      <th>4</th>\n",
       "      <td>20230330</td>\n",
       "      <td>Baltimore Orioles</td>\n",
       "      <td>10</td>\n",
       "      <td>Boston Red Sox</td>\n",
       "      <td>9</td>\n",
       "      <td>Baltimore OriolesBoston Red Sox20230330</td>\n",
       "      <td>False</td>\n",
       "      <td>f2912049aeca157ded4e77586ad96b6f</td>\n",
       "      <td>2023-03-30 11:10:00</td>\n",
       "      <td>2023-03-30 14:15:00</td>\n",
       "      <td>...</td>\n",
       "      <td>Baltimore OriolesBoston Red Sox20230330</td>\n",
       "      <td>Baltimore OriolesBoston Red Sox20230330_0</td>\n",
       "      <td>0</td>\n",
       "      <td>Thu</td>\n",
       "      <td>AL</td>\n",
       "      <td>1.0</td>\n",
       "      <td>AL</td>\n",
       "      <td>1.0</td>\n",
       "      <td>D</td>\n",
       "      <td>BOS07</td>\n",
       "    </tr>\n",
       "  </tbody>\n",
       "</table>\n",
       "<p>5 rows × 179 columns</p>\n",
       "</div>"
      ],
      "text/plain": [
       "     date_x        away_team_x  away_score     home_team_x  home_score  \\\n",
       "0  20230330  Baltimore Orioles          10  Boston Red Sox           9   \n",
       "1  20230330  Baltimore Orioles          10  Boston Red Sox           9   \n",
       "2  20230330  Baltimore Orioles          10  Boston Red Sox           9   \n",
       "3  20230330  Baltimore Orioles          10  Boston Red Sox           9   \n",
       "4  20230330  Baltimore Orioles          10  Boston Red Sox           9   \n",
       "\n",
       "                                 game_id_x  winner_home  \\\n",
       "0  Baltimore OriolesBoston Red Sox20230330        False   \n",
       "1  Baltimore OriolesBoston Red Sox20230330        False   \n",
       "2  Baltimore OriolesBoston Red Sox20230330        False   \n",
       "3  Baltimore OriolesBoston Red Sox20230330        False   \n",
       "4  Baltimore OriolesBoston Red Sox20230330        False   \n",
       "\n",
       "                          game_id_y       commence_time         time_pulled  \\\n",
       "0  f2912049aeca157ded4e77586ad96b6f 2023-03-30 11:10:00 2023-03-30 14:35:00   \n",
       "1  f2912049aeca157ded4e77586ad96b6f 2023-03-30 11:10:00 2023-03-30 14:30:00   \n",
       "2  f2912049aeca157ded4e77586ad96b6f 2023-03-30 11:10:00 2023-03-30 14:25:00   \n",
       "3  f2912049aeca157ded4e77586ad96b6f 2023-03-30 11:10:00 2023-03-30 14:20:00   \n",
       "4  f2912049aeca157ded4e77586ad96b6f 2023-03-30 11:10:00 2023-03-30 14:15:00   \n",
       "\n",
       "   ...                                    my_id  \\\n",
       "0  ...  Baltimore OriolesBoston Red Sox20230330   \n",
       "1  ...  Baltimore OriolesBoston Red Sox20230330   \n",
       "2  ...  Baltimore OriolesBoston Red Sox20230330   \n",
       "3  ...  Baltimore OriolesBoston Red Sox20230330   \n",
       "4  ...  Baltimore OriolesBoston Red Sox20230330   \n",
       "\n",
       "                            my_game_id_final  number_of_game_today  \\\n",
       "0  Baltimore OriolesBoston Red Sox20230330_0                     0   \n",
       "1  Baltimore OriolesBoston Red Sox20230330_0                     0   \n",
       "2  Baltimore OriolesBoston Red Sox20230330_0                     0   \n",
       "3  Baltimore OriolesBoston Red Sox20230330_0                     0   \n",
       "4  Baltimore OriolesBoston Red Sox20230330_0                     0   \n",
       "\n",
       "  day_of_week  away_team_league away_team_game_number  home_team_league  \\\n",
       "0         Thu                AL                   1.0                AL   \n",
       "1         Thu                AL                   1.0                AL   \n",
       "2         Thu                AL                   1.0                AL   \n",
       "3         Thu                AL                   1.0                AL   \n",
       "4         Thu                AL                   1.0                AL   \n",
       "\n",
       "  home_team_game_number  day_night park_id  \n",
       "0                   1.0          D   BOS07  \n",
       "1                   1.0          D   BOS07  \n",
       "2                   1.0          D   BOS07  \n",
       "3                   1.0          D   BOS07  \n",
       "4                   1.0          D   BOS07  \n",
       "\n",
       "[5 rows x 179 columns]"
      ]
     },
     "execution_count": 104,
     "metadata": {},
     "output_type": "execute_result"
    }
   ],
   "source": [
    "merged_df.head()"
   ]
  },
  {
   "cell_type": "code",
   "execution_count": 105,
   "metadata": {},
   "outputs": [],
   "source": [
    "merged_df.rename(columns={'away_team_x' : 'team_1'}, inplace=True)\n",
    "merged_df.rename(columns={'home_team_x' : 'team_2'}, inplace=True)\n",
    "merged_df.rename(columns={'away_team_y' : 'away_team'}, inplace=True)\n",
    "merged_df.rename(columns={'home_team_y' : 'home_team'}, inplace=True)\n",
    "merged_df.rename(columns={'game_id_y' : 'game_id'}, inplace=True)\n",
    "merged_df.rename(columns={'date_y' : 'date'}, inplace=True)"
   ]
  },
  {
   "cell_type": "code",
   "execution_count": 106,
   "metadata": {},
   "outputs": [
    {
     "name": "stderr",
     "output_type": "stream",
     "text": [
      "/var/folders/45/vvds_7n55h151_y61fjd1fmc0000gn/T/ipykernel_3579/226154304.py:1: PerformanceWarning: DataFrame is highly fragmented.  This is usually the result of calling `frame.insert` many times, which has poor performance.  Consider joining all columns at once using pd.concat(axis=1) instead. To get a de-fragmented frame, use `newframe = frame.copy()`\n",
      "  merged_df['winning_team'] = np.where(merged_df['winner_home'] == True, merged_df['home_team'], merged_df['away_team'])\n"
     ]
    }
   ],
   "source": [
    "merged_df['winning_team'] = np.where(merged_df['winner_home'] == True, merged_df['home_team'], merged_df['away_team'])"
   ]
  },
  {
   "cell_type": "code",
   "execution_count": 110,
   "metadata": {},
   "outputs": [
    {
     "name": "stdout",
     "output_type": "stream",
     "text": [
      "Number of NaN values in 'winning_team': 12083\n",
      "Number of NaN values in 'winning_team' after drop: 0\n"
     ]
    }
   ],
   "source": [
    "# Observations where we don't have winning team data. If we update our score data from the same site these should decrease\n",
    "nan_count = merged_df['winning_team'].isna().sum()\n",
    "\n",
    "print(\"Number of NaN values in 'winning_team':\", nan_count)\n",
    "\n",
    "# Drop rows where the value of 'Column_Name' is NaN\n",
    "merged_df = merged_df.dropna(subset=['winning_team'], axis=0)\n",
    "\n",
    "nan_count = merged_df['winning_team'].isna().sum()\n",
    "\n",
    "print(\"Number of NaN values in 'winning_team' after drop:\", nan_count)"
   ]
  },
  {
   "cell_type": "code",
   "execution_count": 111,
   "metadata": {},
   "outputs": [
    {
     "data": {
      "text/html": [
       "<div>\n",
       "<style scoped>\n",
       "    .dataframe tbody tr th:only-of-type {\n",
       "        vertical-align: middle;\n",
       "    }\n",
       "\n",
       "    .dataframe tbody tr th {\n",
       "        vertical-align: top;\n",
       "    }\n",
       "\n",
       "    .dataframe thead th {\n",
       "        text-align: right;\n",
       "    }\n",
       "</style>\n",
       "<table border=\"1\" class=\"dataframe\">\n",
       "  <thead>\n",
       "    <tr style=\"text-align: right;\">\n",
       "      <th></th>\n",
       "      <th>date_x</th>\n",
       "      <th>team_1</th>\n",
       "      <th>away_score</th>\n",
       "      <th>team_2</th>\n",
       "      <th>home_score</th>\n",
       "      <th>game_id_x</th>\n",
       "      <th>winner_home</th>\n",
       "      <th>game_id</th>\n",
       "      <th>commence_time</th>\n",
       "      <th>time_pulled</th>\n",
       "      <th>...</th>\n",
       "      <th>my_game_id_final</th>\n",
       "      <th>number_of_game_today</th>\n",
       "      <th>day_of_week</th>\n",
       "      <th>away_team_league</th>\n",
       "      <th>away_team_game_number</th>\n",
       "      <th>home_team_league</th>\n",
       "      <th>home_team_game_number</th>\n",
       "      <th>day_night</th>\n",
       "      <th>park_id</th>\n",
       "      <th>winning_team</th>\n",
       "    </tr>\n",
       "  </thead>\n",
       "  <tbody>\n",
       "    <tr>\n",
       "      <th>0</th>\n",
       "      <td>20230330</td>\n",
       "      <td>Baltimore Orioles</td>\n",
       "      <td>10</td>\n",
       "      <td>Boston Red Sox</td>\n",
       "      <td>9</td>\n",
       "      <td>Baltimore OriolesBoston Red Sox20230330</td>\n",
       "      <td>False</td>\n",
       "      <td>f2912049aeca157ded4e77586ad96b6f</td>\n",
       "      <td>2023-03-30 11:10:00</td>\n",
       "      <td>2023-03-30 14:35:00</td>\n",
       "      <td>...</td>\n",
       "      <td>Baltimore OriolesBoston Red Sox20230330_0</td>\n",
       "      <td>0</td>\n",
       "      <td>Thu</td>\n",
       "      <td>AL</td>\n",
       "      <td>1.0</td>\n",
       "      <td>AL</td>\n",
       "      <td>1.0</td>\n",
       "      <td>D</td>\n",
       "      <td>BOS07</td>\n",
       "      <td>Baltimore Orioles</td>\n",
       "    </tr>\n",
       "    <tr>\n",
       "      <th>1</th>\n",
       "      <td>20230330</td>\n",
       "      <td>Baltimore Orioles</td>\n",
       "      <td>10</td>\n",
       "      <td>Boston Red Sox</td>\n",
       "      <td>9</td>\n",
       "      <td>Baltimore OriolesBoston Red Sox20230330</td>\n",
       "      <td>False</td>\n",
       "      <td>f2912049aeca157ded4e77586ad96b6f</td>\n",
       "      <td>2023-03-30 11:10:00</td>\n",
       "      <td>2023-03-30 14:30:00</td>\n",
       "      <td>...</td>\n",
       "      <td>Baltimore OriolesBoston Red Sox20230330_0</td>\n",
       "      <td>0</td>\n",
       "      <td>Thu</td>\n",
       "      <td>AL</td>\n",
       "      <td>1.0</td>\n",
       "      <td>AL</td>\n",
       "      <td>1.0</td>\n",
       "      <td>D</td>\n",
       "      <td>BOS07</td>\n",
       "      <td>Baltimore Orioles</td>\n",
       "    </tr>\n",
       "    <tr>\n",
       "      <th>2</th>\n",
       "      <td>20230330</td>\n",
       "      <td>Baltimore Orioles</td>\n",
       "      <td>10</td>\n",
       "      <td>Boston Red Sox</td>\n",
       "      <td>9</td>\n",
       "      <td>Baltimore OriolesBoston Red Sox20230330</td>\n",
       "      <td>False</td>\n",
       "      <td>f2912049aeca157ded4e77586ad96b6f</td>\n",
       "      <td>2023-03-30 11:10:00</td>\n",
       "      <td>2023-03-30 14:25:00</td>\n",
       "      <td>...</td>\n",
       "      <td>Baltimore OriolesBoston Red Sox20230330_0</td>\n",
       "      <td>0</td>\n",
       "      <td>Thu</td>\n",
       "      <td>AL</td>\n",
       "      <td>1.0</td>\n",
       "      <td>AL</td>\n",
       "      <td>1.0</td>\n",
       "      <td>D</td>\n",
       "      <td>BOS07</td>\n",
       "      <td>Baltimore Orioles</td>\n",
       "    </tr>\n",
       "    <tr>\n",
       "      <th>3</th>\n",
       "      <td>20230330</td>\n",
       "      <td>Baltimore Orioles</td>\n",
       "      <td>10</td>\n",
       "      <td>Boston Red Sox</td>\n",
       "      <td>9</td>\n",
       "      <td>Baltimore OriolesBoston Red Sox20230330</td>\n",
       "      <td>False</td>\n",
       "      <td>f2912049aeca157ded4e77586ad96b6f</td>\n",
       "      <td>2023-03-30 11:10:00</td>\n",
       "      <td>2023-03-30 14:20:00</td>\n",
       "      <td>...</td>\n",
       "      <td>Baltimore OriolesBoston Red Sox20230330_0</td>\n",
       "      <td>0</td>\n",
       "      <td>Thu</td>\n",
       "      <td>AL</td>\n",
       "      <td>1.0</td>\n",
       "      <td>AL</td>\n",
       "      <td>1.0</td>\n",
       "      <td>D</td>\n",
       "      <td>BOS07</td>\n",
       "      <td>Baltimore Orioles</td>\n",
       "    </tr>\n",
       "    <tr>\n",
       "      <th>4</th>\n",
       "      <td>20230330</td>\n",
       "      <td>Baltimore Orioles</td>\n",
       "      <td>10</td>\n",
       "      <td>Boston Red Sox</td>\n",
       "      <td>9</td>\n",
       "      <td>Baltimore OriolesBoston Red Sox20230330</td>\n",
       "      <td>False</td>\n",
       "      <td>f2912049aeca157ded4e77586ad96b6f</td>\n",
       "      <td>2023-03-30 11:10:00</td>\n",
       "      <td>2023-03-30 14:15:00</td>\n",
       "      <td>...</td>\n",
       "      <td>Baltimore OriolesBoston Red Sox20230330_0</td>\n",
       "      <td>0</td>\n",
       "      <td>Thu</td>\n",
       "      <td>AL</td>\n",
       "      <td>1.0</td>\n",
       "      <td>AL</td>\n",
       "      <td>1.0</td>\n",
       "      <td>D</td>\n",
       "      <td>BOS07</td>\n",
       "      <td>Baltimore Orioles</td>\n",
       "    </tr>\n",
       "  </tbody>\n",
       "</table>\n",
       "<p>5 rows × 180 columns</p>\n",
       "</div>"
      ],
      "text/plain": [
       "     date_x             team_1  away_score          team_2  home_score  \\\n",
       "0  20230330  Baltimore Orioles          10  Boston Red Sox           9   \n",
       "1  20230330  Baltimore Orioles          10  Boston Red Sox           9   \n",
       "2  20230330  Baltimore Orioles          10  Boston Red Sox           9   \n",
       "3  20230330  Baltimore Orioles          10  Boston Red Sox           9   \n",
       "4  20230330  Baltimore Orioles          10  Boston Red Sox           9   \n",
       "\n",
       "                                 game_id_x  winner_home  \\\n",
       "0  Baltimore OriolesBoston Red Sox20230330        False   \n",
       "1  Baltimore OriolesBoston Red Sox20230330        False   \n",
       "2  Baltimore OriolesBoston Red Sox20230330        False   \n",
       "3  Baltimore OriolesBoston Red Sox20230330        False   \n",
       "4  Baltimore OriolesBoston Red Sox20230330        False   \n",
       "\n",
       "                            game_id       commence_time         time_pulled  \\\n",
       "0  f2912049aeca157ded4e77586ad96b6f 2023-03-30 11:10:00 2023-03-30 14:35:00   \n",
       "1  f2912049aeca157ded4e77586ad96b6f 2023-03-30 11:10:00 2023-03-30 14:30:00   \n",
       "2  f2912049aeca157ded4e77586ad96b6f 2023-03-30 11:10:00 2023-03-30 14:25:00   \n",
       "3  f2912049aeca157ded4e77586ad96b6f 2023-03-30 11:10:00 2023-03-30 14:20:00   \n",
       "4  f2912049aeca157ded4e77586ad96b6f 2023-03-30 11:10:00 2023-03-30 14:15:00   \n",
       "\n",
       "   ...                           my_game_id_final number_of_game_today  \\\n",
       "0  ...  Baltimore OriolesBoston Red Sox20230330_0                    0   \n",
       "1  ...  Baltimore OriolesBoston Red Sox20230330_0                    0   \n",
       "2  ...  Baltimore OriolesBoston Red Sox20230330_0                    0   \n",
       "3  ...  Baltimore OriolesBoston Red Sox20230330_0                    0   \n",
       "4  ...  Baltimore OriolesBoston Red Sox20230330_0                    0   \n",
       "\n",
       "   day_of_week away_team_league  away_team_game_number home_team_league  \\\n",
       "0          Thu               AL                    1.0               AL   \n",
       "1          Thu               AL                    1.0               AL   \n",
       "2          Thu               AL                    1.0               AL   \n",
       "3          Thu               AL                    1.0               AL   \n",
       "4          Thu               AL                    1.0               AL   \n",
       "\n",
       "   home_team_game_number day_night  park_id       winning_team  \n",
       "0                    1.0         D    BOS07  Baltimore Orioles  \n",
       "1                    1.0         D    BOS07  Baltimore Orioles  \n",
       "2                    1.0         D    BOS07  Baltimore Orioles  \n",
       "3                    1.0         D    BOS07  Baltimore Orioles  \n",
       "4                    1.0         D    BOS07  Baltimore Orioles  \n",
       "\n",
       "[5 rows x 180 columns]"
      ]
     },
     "execution_count": 111,
     "metadata": {},
     "output_type": "execute_result"
    }
   ],
   "source": [
    "merged_df.head()"
   ]
  },
  {
   "cell_type": "code",
   "execution_count": 125,
   "metadata": {},
   "outputs": [
    {
     "data": {
      "text/plain": [
       "['team_1',\n",
       " 'team_2',\n",
       " 'game_id',\n",
       " 'commence_time',\n",
       " 'time_pulled',\n",
       " 'home_team',\n",
       " 'away_team',\n",
       " 'barstool_1_odds',\n",
       " 'barstool_1_time',\n",
       " 'barstool_2_odds',\n",
       " 'barstool_2_time',\n",
       " 'betclic_1_odds',\n",
       " 'betclic_1_time',\n",
       " 'betclic_2_odds',\n",
       " 'betclic_2_time',\n",
       " 'betfair_1_odds',\n",
       " 'betfair_1_time',\n",
       " 'betfair_2_odds',\n",
       " 'betfair_2_time',\n",
       " 'betfred_1_odds',\n",
       " 'betfred_1_time',\n",
       " 'betfred_2_odds',\n",
       " 'betfred_2_time',\n",
       " 'betmgm_1_odds',\n",
       " 'betmgm_1_time',\n",
       " 'betmgm_2_odds',\n",
       " 'betmgm_2_time',\n",
       " 'betonlineag_1_odds',\n",
       " 'betonlineag_1_time',\n",
       " 'betonlineag_2_odds',\n",
       " 'betonlineag_2_time',\n",
       " 'betrivers_1_odds',\n",
       " 'betrivers_1_time',\n",
       " 'betrivers_2_odds',\n",
       " 'betrivers_2_time',\n",
       " 'betus_1_odds',\n",
       " 'betus_1_time',\n",
       " 'betus_2_odds',\n",
       " 'betus_2_time',\n",
       " 'betway_1_odds',\n",
       " 'betway_1_time',\n",
       " 'betway_2_odds',\n",
       " 'betway_2_time',\n",
       " 'bovada_1_odds',\n",
       " 'bovada_1_time',\n",
       " 'bovada_2_odds',\n",
       " 'bovada_2_time',\n",
       " 'casumo_1_odds',\n",
       " 'casumo_1_time',\n",
       " 'casumo_2_odds',\n",
       " 'casumo_2_time',\n",
       " 'circasports_1_odds',\n",
       " 'circasports_1_time',\n",
       " 'circasports_2_odds',\n",
       " 'circasports_2_time',\n",
       " 'coral_1_odds',\n",
       " 'coral_1_time',\n",
       " 'coral_2_odds',\n",
       " 'coral_2_time',\n",
       " 'draftkings_1_odds',\n",
       " 'draftkings_1_time',\n",
       " 'draftkings_2_odds',\n",
       " 'draftkings_2_time',\n",
       " 'fanduel_1_odds',\n",
       " 'fanduel_1_time',\n",
       " 'fanduel_2_odds',\n",
       " 'fanduel_2_time',\n",
       " 'foxbet_1_odds',\n",
       " 'foxbet_1_time',\n",
       " 'foxbet_2_odds',\n",
       " 'foxbet_2_time',\n",
       " 'gtbets_1_odds',\n",
       " 'gtbets_1_time',\n",
       " 'gtbets_2_odds',\n",
       " 'gtbets_2_time',\n",
       " 'ladbrokes_1_odds',\n",
       " 'ladbrokes_1_time',\n",
       " 'ladbrokes_2_odds',\n",
       " 'ladbrokes_2_time',\n",
       " 'lowvig_1_odds',\n",
       " 'lowvig_1_time',\n",
       " 'lowvig_2_odds',\n",
       " 'lowvig_2_time',\n",
       " 'marathonbet_1_odds',\n",
       " 'marathonbet_1_time',\n",
       " 'marathonbet_2_odds',\n",
       " 'marathonbet_2_time',\n",
       " 'matchbook_1_odds',\n",
       " 'matchbook_1_time',\n",
       " 'matchbook_2_odds',\n",
       " 'matchbook_2_time',\n",
       " 'mrgreen_1_odds',\n",
       " 'mrgreen_1_time',\n",
       " 'mrgreen_2_odds',\n",
       " 'mrgreen_2_time',\n",
       " 'mybookieag_1_odds',\n",
       " 'mybookieag_1_time',\n",
       " 'mybookieag_2_odds',\n",
       " 'mybookieag_2_time',\n",
       " 'nordicbet_1_odds',\n",
       " 'nordicbet_1_time',\n",
       " 'nordicbet_2_odds',\n",
       " 'nordicbet_2_time',\n",
       " 'onexbet_1_odds',\n",
       " 'onexbet_1_time',\n",
       " 'onexbet_2_odds',\n",
       " 'onexbet_2_time',\n",
       " 'paddypower_1_odds',\n",
       " 'paddypower_1_time',\n",
       " 'paddypower_2_odds',\n",
       " 'paddypower_2_time',\n",
       " 'pinnacle_1_odds',\n",
       " 'pinnacle_1_time',\n",
       " 'pinnacle_2_odds',\n",
       " 'pinnacle_2_time',\n",
       " 'pointsbetus_1_odds',\n",
       " 'pointsbetus_1_time',\n",
       " 'pointsbetus_2_odds',\n",
       " 'pointsbetus_2_time',\n",
       " 'sport888_1_odds',\n",
       " 'sport888_1_time',\n",
       " 'sport888_2_odds',\n",
       " 'sport888_2_time',\n",
       " 'sugarhouse_1_odds',\n",
       " 'sugarhouse_1_time',\n",
       " 'sugarhouse_2_odds',\n",
       " 'sugarhouse_2_time',\n",
       " 'superbook_1_odds',\n",
       " 'superbook_1_time',\n",
       " 'superbook_2_odds',\n",
       " 'superbook_2_time',\n",
       " 'twinspires_1_odds',\n",
       " 'twinspires_1_time',\n",
       " 'twinspires_2_odds',\n",
       " 'twinspires_2_time',\n",
       " 'unibet_1_odds',\n",
       " 'unibet_1_time',\n",
       " 'unibet_2_odds',\n",
       " 'unibet_2_time',\n",
       " 'unibet_eu_1_odds',\n",
       " 'unibet_eu_1_time',\n",
       " 'unibet_eu_2_odds',\n",
       " 'unibet_eu_2_time',\n",
       " 'unibet_uk_1_odds',\n",
       " 'unibet_uk_1_time',\n",
       " 'unibet_uk_2_odds',\n",
       " 'unibet_uk_2_time',\n",
       " 'unibet_us_1_odds',\n",
       " 'unibet_us_1_time',\n",
       " 'unibet_us_2_odds',\n",
       " 'unibet_us_2_time',\n",
       " 'williamhill_1_odds',\n",
       " 'williamhill_1_time',\n",
       " 'williamhill_2_odds',\n",
       " 'williamhill_2_time',\n",
       " 'williamhill_us_1_odds',\n",
       " 'williamhill_us_1_time',\n",
       " 'williamhill_us_2_odds',\n",
       " 'williamhill_us_2_time',\n",
       " 'wynnbet_1_odds',\n",
       " 'wynnbet_1_time',\n",
       " 'wynnbet_2_odds',\n",
       " 'wynnbet_2_time',\n",
       " 'date',\n",
       " 'my_id',\n",
       " 'my_game_id_final',\n",
       " 'number_of_game_today',\n",
       " 'day_of_week',\n",
       " 'away_team_league',\n",
       " 'away_team_game_number',\n",
       " 'home_team_league',\n",
       " 'home_team_game_number',\n",
       " 'day_night',\n",
       " 'park_id',\n",
       " 'winning_team']"
      ]
     },
     "execution_count": 125,
     "metadata": {},
     "output_type": "execute_result"
    }
   ],
   "source": [
    "merged_df.columns.tolist()"
   ]
  },
  {
   "cell_type": "code",
   "execution_count": 50,
   "metadata": {},
   "outputs": [],
   "source": [
    "# Did this part manually in excel before prepreocessing\n",
    "\n",
    "# cols_to_drop = ['date_x', 'away_score', 'home_score', 'game_id_x', 'winner_home', '1.7','7/19/23 15:50','2.2','7/19/23 15:50.1','1.73', '7/19/23 15:49','2.15','7/19/23 15:49.1','1.73.1','7/19/23 15:50.2','2.15.1','7/19/23 15:50.3','1.75','7/19/23 15:50.4','2.3','7/19/23 15:50.5','1.75.1','7/19/23 15:49.2','2.3.1','7/19/23 15:49.3','1.65','7/19/23 15:49.4','2.15.2','7/19/23 15:49.5']\n",
    "\n",
    "# merged_df.drop(columns=cols_to_drop, inplace=True)"
   ]
  },
  {
   "cell_type": "code",
   "execution_count": 114,
   "metadata": {},
   "outputs": [],
   "source": [
    "cols_to_drop = ['date_x', 'away_score', 'home_score', 'game_id_x', 'winner_home']\n",
    "merged_df.drop(columns=cols_to_drop, inplace=True)"
   ]
  },
  {
   "cell_type": "code",
   "execution_count": 115,
   "metadata": {},
   "outputs": [
    {
     "data": {
      "text/plain": [
       "175"
      ]
     },
     "execution_count": 115,
     "metadata": {},
     "output_type": "execute_result"
    }
   ],
   "source": [
    "len(merged_df.columns.tolist())"
   ]
  },
  {
   "cell_type": "code",
   "execution_count": 120,
   "metadata": {},
   "outputs": [],
   "source": [
    "merged_df.to_parquet(\"/Users/stefanfeiler/Desktop/SmartBetter_site/website/mlb_data/2023_data_for_val.parquet\")"
   ]
  },
  {
   "cell_type": "code",
   "execution_count": 123,
   "metadata": {},
   "outputs": [],
   "source": [
    "merged_df.to_csv(\"/Users/stefanfeiler/Desktop/SmartBetter_site/website/mlb_data/2023_data_for_val.csv\")"
   ]
  },
  {
   "cell_type": "code",
   "execution_count": 122,
   "metadata": {},
   "outputs": [
    {
     "data": {
      "text/plain": [
       "270289"
      ]
     },
     "execution_count": 122,
     "metadata": {},
     "output_type": "execute_result"
    }
   ],
   "source": [
    "len(merged_df)"
   ]
  },
  {
   "cell_type": "code",
   "execution_count": 121,
   "metadata": {},
   "outputs": [
    {
     "data": {
      "text/html": [
       "<div>\n",
       "<style scoped>\n",
       "    .dataframe tbody tr th:only-of-type {\n",
       "        vertical-align: middle;\n",
       "    }\n",
       "\n",
       "    .dataframe tbody tr th {\n",
       "        vertical-align: top;\n",
       "    }\n",
       "\n",
       "    .dataframe thead th {\n",
       "        text-align: right;\n",
       "    }\n",
       "</style>\n",
       "<table border=\"1\" class=\"dataframe\">\n",
       "  <thead>\n",
       "    <tr style=\"text-align: right;\">\n",
       "      <th></th>\n",
       "      <th>team_1</th>\n",
       "      <th>team_2</th>\n",
       "      <th>game_id</th>\n",
       "      <th>commence_time</th>\n",
       "      <th>time_pulled</th>\n",
       "      <th>home_team</th>\n",
       "      <th>away_team</th>\n",
       "      <th>barstool_1_odds</th>\n",
       "      <th>barstool_1_time</th>\n",
       "      <th>barstool_2_odds</th>\n",
       "      <th>...</th>\n",
       "      <th>my_game_id_final</th>\n",
       "      <th>number_of_game_today</th>\n",
       "      <th>day_of_week</th>\n",
       "      <th>away_team_league</th>\n",
       "      <th>away_team_game_number</th>\n",
       "      <th>home_team_league</th>\n",
       "      <th>home_team_game_number</th>\n",
       "      <th>day_night</th>\n",
       "      <th>park_id</th>\n",
       "      <th>winning_team</th>\n",
       "    </tr>\n",
       "  </thead>\n",
       "  <tbody>\n",
       "    <tr>\n",
       "      <th>0</th>\n",
       "      <td>Baltimore Orioles</td>\n",
       "      <td>Boston Red Sox</td>\n",
       "      <td>f2912049aeca157ded4e77586ad96b6f</td>\n",
       "      <td>2023-03-30 11:10:00</td>\n",
       "      <td>2023-03-30 14:35:00</td>\n",
       "      <td>Boston Red Sox</td>\n",
       "      <td>Baltimore Orioles</td>\n",
       "      <td>1.04</td>\n",
       "      <td>2023-03-30 14:25:00</td>\n",
       "      <td>10.0</td>\n",
       "      <td>...</td>\n",
       "      <td>Baltimore OriolesBoston Red Sox20230330_0</td>\n",
       "      <td>0</td>\n",
       "      <td>Thu</td>\n",
       "      <td>AL</td>\n",
       "      <td>1.0</td>\n",
       "      <td>AL</td>\n",
       "      <td>1.0</td>\n",
       "      <td>D</td>\n",
       "      <td>BOS07</td>\n",
       "      <td>Baltimore Orioles</td>\n",
       "    </tr>\n",
       "    <tr>\n",
       "      <th>1</th>\n",
       "      <td>Baltimore Orioles</td>\n",
       "      <td>Boston Red Sox</td>\n",
       "      <td>f2912049aeca157ded4e77586ad96b6f</td>\n",
       "      <td>2023-03-30 11:10:00</td>\n",
       "      <td>2023-03-30 14:30:00</td>\n",
       "      <td>Boston Red Sox</td>\n",
       "      <td>Baltimore Orioles</td>\n",
       "      <td>1.04</td>\n",
       "      <td>2023-03-30 14:25:00</td>\n",
       "      <td>10.0</td>\n",
       "      <td>...</td>\n",
       "      <td>Baltimore OriolesBoston Red Sox20230330_0</td>\n",
       "      <td>0</td>\n",
       "      <td>Thu</td>\n",
       "      <td>AL</td>\n",
       "      <td>1.0</td>\n",
       "      <td>AL</td>\n",
       "      <td>1.0</td>\n",
       "      <td>D</td>\n",
       "      <td>BOS07</td>\n",
       "      <td>Baltimore Orioles</td>\n",
       "    </tr>\n",
       "    <tr>\n",
       "      <th>2</th>\n",
       "      <td>Baltimore Orioles</td>\n",
       "      <td>Boston Red Sox</td>\n",
       "      <td>f2912049aeca157ded4e77586ad96b6f</td>\n",
       "      <td>2023-03-30 11:10:00</td>\n",
       "      <td>2023-03-30 14:25:00</td>\n",
       "      <td>Boston Red Sox</td>\n",
       "      <td>Baltimore Orioles</td>\n",
       "      <td>1.04</td>\n",
       "      <td>2023-03-30 14:25:00</td>\n",
       "      <td>10.0</td>\n",
       "      <td>...</td>\n",
       "      <td>Baltimore OriolesBoston Red Sox20230330_0</td>\n",
       "      <td>0</td>\n",
       "      <td>Thu</td>\n",
       "      <td>AL</td>\n",
       "      <td>1.0</td>\n",
       "      <td>AL</td>\n",
       "      <td>1.0</td>\n",
       "      <td>D</td>\n",
       "      <td>BOS07</td>\n",
       "      <td>Baltimore Orioles</td>\n",
       "    </tr>\n",
       "    <tr>\n",
       "      <th>3</th>\n",
       "      <td>Baltimore Orioles</td>\n",
       "      <td>Boston Red Sox</td>\n",
       "      <td>f2912049aeca157ded4e77586ad96b6f</td>\n",
       "      <td>2023-03-30 11:10:00</td>\n",
       "      <td>2023-03-30 14:20:00</td>\n",
       "      <td>Boston Red Sox</td>\n",
       "      <td>Baltimore Orioles</td>\n",
       "      <td>1.16</td>\n",
       "      <td>2023-03-30 14:19:00</td>\n",
       "      <td>5.1</td>\n",
       "      <td>...</td>\n",
       "      <td>Baltimore OriolesBoston Red Sox20230330_0</td>\n",
       "      <td>0</td>\n",
       "      <td>Thu</td>\n",
       "      <td>AL</td>\n",
       "      <td>1.0</td>\n",
       "      <td>AL</td>\n",
       "      <td>1.0</td>\n",
       "      <td>D</td>\n",
       "      <td>BOS07</td>\n",
       "      <td>Baltimore Orioles</td>\n",
       "    </tr>\n",
       "    <tr>\n",
       "      <th>4</th>\n",
       "      <td>Baltimore Orioles</td>\n",
       "      <td>Boston Red Sox</td>\n",
       "      <td>f2912049aeca157ded4e77586ad96b6f</td>\n",
       "      <td>2023-03-30 11:10:00</td>\n",
       "      <td>2023-03-30 14:15:00</td>\n",
       "      <td>Boston Red Sox</td>\n",
       "      <td>Baltimore Orioles</td>\n",
       "      <td>1.16</td>\n",
       "      <td>2023-03-30 14:15:00</td>\n",
       "      <td>5.1</td>\n",
       "      <td>...</td>\n",
       "      <td>Baltimore OriolesBoston Red Sox20230330_0</td>\n",
       "      <td>0</td>\n",
       "      <td>Thu</td>\n",
       "      <td>AL</td>\n",
       "      <td>1.0</td>\n",
       "      <td>AL</td>\n",
       "      <td>1.0</td>\n",
       "      <td>D</td>\n",
       "      <td>BOS07</td>\n",
       "      <td>Baltimore Orioles</td>\n",
       "    </tr>\n",
       "  </tbody>\n",
       "</table>\n",
       "<p>5 rows × 175 columns</p>\n",
       "</div>"
      ],
      "text/plain": [
       "              team_1          team_2                           game_id  \\\n",
       "0  Baltimore Orioles  Boston Red Sox  f2912049aeca157ded4e77586ad96b6f   \n",
       "1  Baltimore Orioles  Boston Red Sox  f2912049aeca157ded4e77586ad96b6f   \n",
       "2  Baltimore Orioles  Boston Red Sox  f2912049aeca157ded4e77586ad96b6f   \n",
       "3  Baltimore Orioles  Boston Red Sox  f2912049aeca157ded4e77586ad96b6f   \n",
       "4  Baltimore Orioles  Boston Red Sox  f2912049aeca157ded4e77586ad96b6f   \n",
       "\n",
       "        commence_time         time_pulled       home_team          away_team  \\\n",
       "0 2023-03-30 11:10:00 2023-03-30 14:35:00  Boston Red Sox  Baltimore Orioles   \n",
       "1 2023-03-30 11:10:00 2023-03-30 14:30:00  Boston Red Sox  Baltimore Orioles   \n",
       "2 2023-03-30 11:10:00 2023-03-30 14:25:00  Boston Red Sox  Baltimore Orioles   \n",
       "3 2023-03-30 11:10:00 2023-03-30 14:20:00  Boston Red Sox  Baltimore Orioles   \n",
       "4 2023-03-30 11:10:00 2023-03-30 14:15:00  Boston Red Sox  Baltimore Orioles   \n",
       "\n",
       "   barstool_1_odds     barstool_1_time  barstool_2_odds  ...  \\\n",
       "0             1.04 2023-03-30 14:25:00             10.0  ...   \n",
       "1             1.04 2023-03-30 14:25:00             10.0  ...   \n",
       "2             1.04 2023-03-30 14:25:00             10.0  ...   \n",
       "3             1.16 2023-03-30 14:19:00              5.1  ...   \n",
       "4             1.16 2023-03-30 14:15:00              5.1  ...   \n",
       "\n",
       "                            my_game_id_final  number_of_game_today  \\\n",
       "0  Baltimore OriolesBoston Red Sox20230330_0                     0   \n",
       "1  Baltimore OriolesBoston Red Sox20230330_0                     0   \n",
       "2  Baltimore OriolesBoston Red Sox20230330_0                     0   \n",
       "3  Baltimore OriolesBoston Red Sox20230330_0                     0   \n",
       "4  Baltimore OriolesBoston Red Sox20230330_0                     0   \n",
       "\n",
       "  day_of_week  away_team_league away_team_game_number  home_team_league  \\\n",
       "0         Thu                AL                   1.0                AL   \n",
       "1         Thu                AL                   1.0                AL   \n",
       "2         Thu                AL                   1.0                AL   \n",
       "3         Thu                AL                   1.0                AL   \n",
       "4         Thu                AL                   1.0                AL   \n",
       "\n",
       "  home_team_game_number  day_night park_id       winning_team  \n",
       "0                   1.0          D   BOS07  Baltimore Orioles  \n",
       "1                   1.0          D   BOS07  Baltimore Orioles  \n",
       "2                   1.0          D   BOS07  Baltimore Orioles  \n",
       "3                   1.0          D   BOS07  Baltimore Orioles  \n",
       "4                   1.0          D   BOS07  Baltimore Orioles  \n",
       "\n",
       "[5 rows x 175 columns]"
      ]
     },
     "execution_count": 121,
     "metadata": {},
     "output_type": "execute_result"
    }
   ],
   "source": [
    "merged_df.head()"
   ]
  },
  {
   "attachments": {},
   "cell_type": "markdown",
   "metadata": {},
   "source": [
    "THIS IS WHERE MICAHS WORK STOPS. THIS IS ONLY A SUBSET OF THE DATA BUT CAN BE EASILY ADAPTED ONCE WE HAVE ALL DATA"
   ]
  },
  {
   "cell_type": "code",
   "execution_count": 27,
   "metadata": {},
   "outputs": [],
   "source": [
    "raw_first_1000 = raw.head(1000)\n",
    "raw_first_1000.to_csv('/Users/stefanfeiler/Desktop/SmartBetter/SmartBetter/data/mlb_raw_final_first_1000.csv',index=False)"
   ]
  },
  {
   "cell_type": "code",
   "execution_count": 28,
   "metadata": {},
   "outputs": [],
   "source": [
    "raw.to_csv('/Users/stefanfeiler/Desktop/SmartBetter/SmartBetter/data/mlb_raw_final_categories.csv',index=False)"
   ]
  },
  {
   "cell_type": "code",
   "execution_count": 29,
   "metadata": {},
   "outputs": [],
   "source": [
    "raw.to_parquet('/Users/stefanfeiler/Desktop/SmartBetter/SmartBetter/data/mlb_raw_final_categories.parquet', index=False)"
   ]
  },
  {
   "cell_type": "code",
   "execution_count": 30,
   "metadata": {},
   "outputs": [],
   "source": [
    "raw = pd.read_parquet('/Users/stefanfeiler/Desktop/SmartBetter/SmartBetter/data/mlb_raw_final_categories.parquet')"
   ]
  },
  {
   "attachments": {},
   "cell_type": "markdown",
   "metadata": {},
   "source": [
    "# DONE!!!!"
   ]
  },
  {
   "cell_type": "code",
   "execution_count": 31,
   "metadata": {},
   "outputs": [],
   "source": [
    "# Some extra cleaning. We want to drop all columns where we don't know "
   ]
  },
  {
   "attachments": {},
   "cell_type": "markdown",
   "metadata": {},
   "source": [
    "# BEFORE WE DO ANYTHING, WE NEED TO READ IN THE FULL RAW CSV AND SAVE THE TEAM_1 AND TEAM_2 COLUMNS BACK INTO THE FINAL DF"
   ]
  },
  {
   "attachments": {},
   "cell_type": "markdown",
   "metadata": {},
   "source": [
    "raw = pd.read_parquet('/Users/stefanfeiler/Desktop/SmartBetter/SmartBetter/data/mlb_raw_final_categories.parquet')"
   ]
  },
  {
   "cell_type": "code",
   "execution_count": 32,
   "metadata": {},
   "outputs": [
    {
     "name": "stderr",
     "output_type": "stream",
     "text": [
      "/Users/stefanfeiler/Library/Python/3.9/lib/python/site-packages/IPython/core/interactiveshell.py:3505: DtypeWarning: Columns (90,92,94,96,110,112,114,116,118,120,122,124,126,128,130,132,134,136,138,140,142,144,146,148,150,152,154,156,158,160,162,164,166,168) have mixed types.Specify dtype option on import or set low_memory=False.\n",
      "  exec(code_obj, self.user_global_ns, self.user_ns)\n"
     ]
    }
   ],
   "source": [
    "raw_with_alpha_teams = pd.read_csv('/Users/stefanfeiler/Desktop/SmartBetter/SmartBetter/data/mlb_raw_full.csv')"
   ]
  },
  {
   "cell_type": "code",
   "execution_count": 33,
   "metadata": {},
   "outputs": [],
   "source": [
    "raw_home_away = pd.read_parquet('/Users/stefanfeiler/Desktop/SmartBetter/SmartBetter/data/mlb_raw_final_categories.parquet')"
   ]
  },
  {
   "cell_type": "code",
   "execution_count": 34,
   "metadata": {},
   "outputs": [
    {
     "name": "stdout",
     "output_type": "stream",
     "text": [
      "921714\n"
     ]
    }
   ],
   "source": [
    "print(len(raw_with_alpha_teams))"
   ]
  },
  {
   "cell_type": "code",
   "execution_count": 35,
   "metadata": {},
   "outputs": [
    {
     "name": "stdout",
     "output_type": "stream",
     "text": [
      "921714\n"
     ]
    }
   ],
   "source": [
    "print(len(raw_home_away))"
   ]
  },
  {
   "cell_type": "code",
   "execution_count": 36,
   "metadata": {},
   "outputs": [],
   "source": [
    "raw_home_away['team_1'] = raw_with_alpha_teams['home_team']\n",
    "raw_home_away['team_2'] = raw_with_alpha_teams['away_team']"
   ]
  },
  {
   "cell_type": "code",
   "execution_count": 37,
   "metadata": {},
   "outputs": [],
   "source": [
    "raw_home_away.to_parquet('/Users/stefanfeiler/Desktop/SmartBetter/SmartBetter/data/mlb_raw_final_categories.parquet', index=False)"
   ]
  },
  {
   "cell_type": "code",
   "execution_count": null,
   "metadata": {},
   "outputs": [],
   "source": []
  },
  {
   "attachments": {},
   "cell_type": "markdown",
   "metadata": {},
   "source": [
    "# More recent data"
   ]
  },
  {
   "cell_type": "code",
   "execution_count": 1,
   "metadata": {},
   "outputs": [],
   "source": [
    "# just found some more recent data. Have to process 2023 season up through the current date rn...."
   ]
  },
  {
   "cell_type": "code",
   "execution_count": 6,
   "metadata": {},
   "outputs": [],
   "source": [
    "names_file ='/Users/stefanfeiler/Desktop/SmartBetter/SmartBetter/data/names.csv'"
   ]
  },
  {
   "cell_type": "code",
   "execution_count": 7,
   "metadata": {},
   "outputs": [],
   "source": [
    "df = pd.read_csv(names_file)"
   ]
  },
  {
   "cell_type": "code",
   "execution_count": 8,
   "metadata": {},
   "outputs": [],
   "source": [
    "mapping_dict = {key: value for key, value in zip(df['abbrev'], df['full_name'])}"
   ]
  },
  {
   "cell_type": "code",
   "execution_count": 9,
   "metadata": {},
   "outputs": [],
   "source": [
    "extra_data_file = '/Users/stefanfeiler/Desktop/SmartBetter/SmartBetter/data/2023SKED.csv'"
   ]
  },
  {
   "cell_type": "code",
   "execution_count": 10,
   "metadata": {},
   "outputs": [],
   "source": [
    "extra_df = pd.read_csv(extra_data_file)"
   ]
  },
  {
   "cell_type": "code",
   "execution_count": 11,
   "metadata": {},
   "outputs": [],
   "source": [
    "extra_df = extra_df.replace(mapping_dict)"
   ]
  },
  {
   "cell_type": "code",
   "execution_count": 18,
   "metadata": {},
   "outputs": [],
   "source": [
    "extra_df.to_csv('/Users/stefanfeiler/Desktop/SmartBetter/SmartBetter/data/2023SKED_uniform_names.csv')"
   ]
  },
  {
   "cell_type": "code",
   "execution_count": 19,
   "metadata": {},
   "outputs": [],
   "source": [
    "# Nevermind! We don't have the scores....."
   ]
  },
  {
   "cell_type": "code",
   "execution_count": null,
   "metadata": {},
   "outputs": [],
   "source": [
    "# Nevermind again! Suck my cock "
   ]
  }
 ],
 "metadata": {
  "kernelspec": {
   "display_name": "Python 3",
   "language": "python",
   "name": "python3"
  },
  "language_info": {
   "codemirror_mode": {
    "name": "ipython",
    "version": 3
   },
   "file_extension": ".py",
   "mimetype": "text/x-python",
   "name": "python",
   "nbconvert_exporter": "python",
   "pygments_lexer": "ipython3",
   "version": "3.10.12"
  },
  "orig_nbformat": 4
 },
 "nbformat": 4,
 "nbformat_minor": 2
}
